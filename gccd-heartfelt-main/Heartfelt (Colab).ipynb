{
  "nbformat": 4,
  "nbformat_minor": 0,
  "metadata": {
    "colab": {
      "name": "Heartfelt (Colab).ipynb",
      "provenance": [],
      "collapsed_sections": [
        "Wap1-mBS-KuM",
        "FP5NZP40-0-t",
        "-m9b733F7GBn",
        "TMq88Q31CUg3",
        "r7QXQzzdCz67"
      ],
      "toc_visible": true
    },
    "kernelspec": {
      "name": "python3",
      "display_name": "Python 3"
    }
  },
  "cells": [
    {
      "cell_type": "markdown",
      "metadata": {
        "id": "XZ_-Ham-5AHV"
      },
      "source": [
        "# Introduction\r\n",
        "\r\n",
        "### **Professional Machine Learning Engineer Certification**\r\n",
        "\r\n",
        "The Professional Machine Learning Engineer Certification by Google Cloud was released to the public on October 15th, 2020. According to the official [examination page](https://cloud.google.com/certification/machine-learning-engineer):\r\n",
        "\r\n",
        "> A Professional Machine Learning Engineer designs, builds, and productionizes ML models to solve business challenges using Google Cloud technologies and knowledge of proven ML models and techniques. The ML Engineer is proficient in all aspects of model architecture, data pipeline interaction, and metrics interpretation and needs familiarity with application development, infrastructure management, data engineering, and security.\r\n",
        "\r\n",
        "\r\n",
        "\r\n"
      ]
    },
    {
      "cell_type": "markdown",
      "metadata": {
        "id": "3gW4kTeWGYgc"
      },
      "source": [
        "In this session, we'll be looking at the following:\r\n",
        "\r\n",
        "1. The nature of an exam question and how it can be tackled.\r\n",
        "2. Building an appropriate solution with the identified tools.\r\n",
        "3. Deploying the produced solution on Google Cloud."
      ]
    },
    {
      "cell_type": "markdown",
      "metadata": {
        "id": "B82L4YGz9mjG"
      },
      "source": [
        "# The Problem\r\n",
        "\r\n",
        "Today, we'll be building an AI-powered model capable of assigning one of five emojis to a given comment."
      ]
    },
    {
      "cell_type": "markdown",
      "metadata": {
        "id": "o4MQzFiS6IPn"
      },
      "source": [
        "## The Problem Statement\r\n",
        "\r\n",
        "Let's set the stage with an exam-level question:\r\n",
        "\r\n",
        "*Heartfelt is a modern startup working on a new website comment system. It uses AI to generate one of five emotions from each comment (Happy, Funny, Scared, Angry, Sad). It then shows the number of each of the five reactions above the comment section.*\r\n",
        "\r\n",
        "```\r\n",
        "  21341 😃     21 😂     0 😨     2 😠     5 😭\r\n",
        "_____________________________________________________\r\n",
        "\r\n",
        "Sathish\r\n",
        "  This honestly made my day!                                      😃\r\n",
        "\r\n",
        "Pranay\r\n",
        "  We really need more good news in the world, like this...        😃\r\n",
        "\r\n",
        "Maitreyi\r\n",
        "  Awesome!                                                        😃\r\n",
        "```\r\n",
        "\r\n",
        "*They have obtained and labeled a large number of comments from their existing non-AI based system and are looking to upgrade to the new solution within a year. Their in-house ML engineers have designed a proprietary model, and apart from using the cloud for training and deploying, they also want to be able to fine-tune it for accuracy.*\r\n",
        "\r\n",
        "*What is the best way to build, tune, and deploy the model?*\r\n"
      ]
    },
    {
      "cell_type": "markdown",
      "metadata": {
        "id": "lrjQ3OC6Bycg"
      },
      "source": [
        "## The Proposed Solution\r\n",
        "\r\n",
        "1. Files containing the labelled (Comment, Category) pairs are stored in a **Google Cloud Storage** bucket.\r\n",
        "2. **AI Platform Notebooks** will be used to access and process the data stored in the GCS bucket, rapidly prototype to find the best architecture, and train the model on a small portion of the dataset.\r\n",
        "3. **AI Platform Jobs** will be used to train the identified model architecture on the entirety of the dataset, performing hyperparameter tuning along the way. The trained model will be versioned and stored in a GCS bucket.\r\n",
        "4. **AI Platform Prediction** will be used to deploy the stored model. It allows for versioning, phased rollouts, and easy access to the model with REST API calls.\r\n",
        "5. **Google Cloud Storage** hosts the trained model, which is accessed by AI Platform Prediction.\r\n",
        "\r\n",
        "\r\n",
        "\r\n"
      ]
    },
    {
      "cell_type": "markdown",
      "metadata": {
        "id": "8Kq4pW5EC4vj"
      },
      "source": [
        "# The Solution"
      ]
    },
    {
      "cell_type": "markdown",
      "metadata": {
        "id": "7jSXUGF2IM2z"
      },
      "source": [
        "## Imports"
      ]
    },
    {
      "cell_type": "code",
      "metadata": {
        "id": "2IAgkM0RIRgb"
      },
      "source": [
        "import tensorflow as tf\r\n",
        "import tensorflow.keras as keras\r\n",
        "import tensorflow_hub as hub\r\n",
        "\r\n",
        "import matplotlib.pyplot as plt\r\n",
        "\r\n",
        "import csv\r\n",
        "import random"
      ],
      "execution_count": null,
      "outputs": []
    },
    {
      "cell_type": "markdown",
      "metadata": {
        "id": "1oM76hDsDXiH"
      },
      "source": [
        "## Obtaining and Processing the Data"
      ]
    },
    {
      "cell_type": "markdown",
      "metadata": {
        "id": "11ROuofz_NmN"
      },
      "source": [
        "The dataset used here was entirely created by me. Let us take a moment to understand it.\r\n",
        "\r\n",
        "There are 200 sentence-label pairs, 40 in each of 5 categories- Happy (0), Funny (1), Scared (2), Angry (3), and Sad (4). The first thing we need to do is define a method that converts between these numbers and the emojis."
      ]
    },
    {
      "cell_type": "code",
      "metadata": {
        "id": "4b5rUYGhNltn"
      },
      "source": [
        "list_of_emojis = ['😃','😂','😨','😠','😭']\r\n",
        "\r\n",
        "def label_to_emoji(label):\r\n",
        "  return list_of_emojis[label]"
      ],
      "execution_count": null,
      "outputs": []
    },
    {
      "cell_type": "markdown",
      "metadata": {
        "id": "Z0aMTZ-S__gy"
      },
      "source": [
        "Now, we open the dataset and create two lists- one to store the strings (data) and the other to store the labels (labels).\r\n"
      ]
    },
    {
      "cell_type": "code",
      "metadata": {
        "id": "QXwuZvm8_eQF"
      },
      "source": [
        "# The next cell is only for use on GCP"
      ],
      "execution_count": null,
      "outputs": []
    },
    {
      "cell_type": "code",
      "metadata": {
        "id": "Efij8yH6_d3E"
      },
      "source": [
        "# import gcsfs\r\n",
        "\r\n",
        "# def prepare_data(filename):\r\n",
        "\r\n",
        "#   data = []\r\n",
        "#   labels = []\r\n",
        "    \r\n",
        "#   if filename.startswith('gs://'):\r\n",
        "#     fs = gcsfs.GCSFileSystem(project='durable-will-291417')\r\n",
        "#     with fs.open(filename, \"rt\", encoding=\"ascii\") as my_dataset:\r\n",
        "        \r\n",
        "#       reader = csv.reader(my_dataset, delimiter=',')\r\n",
        "#       for row in reader:\r\n",
        "#         data.append(row[0])\r\n",
        "#         labels.append(int(row[1]))\r\n",
        "        \r\n",
        "#   else:\r\n",
        "#     with open(filename) as my_dataset:\r\n",
        "\r\n",
        "#       reader = csv.reader(my_dataset, delimiter=',')\r\n",
        "#       for row in reader:\r\n",
        "#         data.append(row[0])\r\n",
        "#         labels.append(int(row[1]))\r\n",
        "\r\n",
        "#   return (data, labels)"
      ],
      "execution_count": null,
      "outputs": []
    },
    {
      "cell_type": "code",
      "metadata": {
        "id": "YarUFFTo_fGX"
      },
      "source": [
        "# The next cell is only for use on Colab"
      ],
      "execution_count": null,
      "outputs": []
    },
    {
      "cell_type": "code",
      "metadata": {
        "id": "fk5jK6C5JCBc"
      },
      "source": [
        "def prepare_data(filename):\r\n",
        "  data = []\r\n",
        "  labels = []\r\n",
        "\r\n",
        "  with open(filename) as my_dataset:\r\n",
        "\r\n",
        "    reader = csv.reader(my_dataset, delimiter=',')\r\n",
        "\r\n",
        "    for row in reader:\r\n",
        "\r\n",
        "      data.append(row[0])\r\n",
        "      labels.append(int(row[1]))\r\n",
        "\r\n",
        "  return (data, labels)"
      ],
      "execution_count": null,
      "outputs": []
    },
    {
      "cell_type": "code",
      "metadata": {
        "id": "ov51s80Sh6Df"
      },
      "source": [
        "data, labels = prepare_data('heartfelt_dataset.csv')"
      ],
      "execution_count": null,
      "outputs": []
    },
    {
      "cell_type": "markdown",
      "metadata": {
        "id": "1Kr-pQ3aAPxZ"
      },
      "source": [
        "The next block of code is used to shuffle these pairs while maintaining the order between them. We first split the data into 2 buckets - 150 in Train and 50 in Test. We then print 10 examples of both train and test data, along with the emojified values of the labels that represent them."
      ]
    },
    {
      "cell_type": "code",
      "metadata": {
        "id": "zL7c1tA7KpbJ"
      },
      "source": [
        "def shuffle_data(data, labels):\r\n",
        "\r\n",
        "  X_train = []\r\n",
        "  Y_train = []\r\n",
        "  X_test = []\r\n",
        "  Y_test = []\r\n",
        "\r\n",
        "  list_to_shuffle = list(zip(data, labels))\r\n",
        "  random.shuffle(list_to_shuffle)\r\n",
        "\r\n",
        "  shuffled_data, shuffled_labels = zip(*list_to_shuffle)\r\n",
        "\r\n",
        "  X_train = shuffled_data[0:150]\r\n",
        "  Y_train = shuffled_labels[0:150]\r\n",
        "\r\n",
        "  X_test = shuffled_data[150:200]\r\n",
        "  Y_test = shuffled_labels[150:200]\r\n",
        "\r\n",
        "  return (X_train, Y_train, X_test, Y_test)"
      ],
      "execution_count": null,
      "outputs": []
    },
    {
      "cell_type": "code",
      "metadata": {
        "colab": {
          "base_uri": "https://localhost:8080/"
        },
        "id": "H8Hv8pk9hF7d",
        "outputId": "b2affbdf-04a1-417f-a9c4-832580eeb333"
      },
      "source": [
        "X_train, Y_train, X_test, Y_test = shuffle_data(data, labels)\r\n",
        "\r\n",
        "print (\"Examples of training data:\\n\")\r\n",
        "\r\n",
        "for i in range(10):\r\n",
        "  print (\"  {} : {}\".format(X_train[i], label_to_emoji(Y_train[i])))\r\n",
        "\r\n",
        "print ('')\r\n",
        "\r\n",
        "print (\"Examples of testing data:\\n\")\r\n",
        "\r\n",
        "for i in range(10):\r\n",
        "  print (\"  {} : {}\".format(X_test[i], label_to_emoji(Y_test[i])))"
      ],
      "execution_count": null,
      "outputs": [
        {
          "output_type": "stream",
          "text": [
            "Examples of training data:\n",
            "\n",
            "  This was a fun read. : 😃\n",
            "  Rest in peace. : 😭\n",
            "  I seriously thought they were going to win. : 😭\n",
            "  This is difficult on all of us. : 😭\n",
            "  I'm at a loss for words. : 😭\n",
            "  These pranks are hilarious! : 😂\n",
            "  Haha! Good one! : 😂\n",
            "  For sure! : 😃\n",
            "  Not another one! : 😨\n",
            "  Funny! : 😂\n",
            "\n",
            "Examples of testing data:\n",
            "\n",
            "  We're not friends, we're family! : 😃\n",
            "  Oh my God, this is fantastic! And, she's only 8 years old! : 😃\n",
            "  I can't afford this though, haha! : 😂\n",
            "  Fantastic. : 😃\n",
            "  Is no one going to talk about how funny this was? : 😂\n",
            "  If I hurt you, I'm truly sorry. : 😭\n",
            "  Here come the waterworks! : 😭\n",
            "  Who is allowing these scoundrels to get away with this? : 😠\n",
            "  Rolling on the floor laughing! : 😂\n",
            "  These jokes are next level. : 😂\n"
          ],
          "name": "stdout"
        }
      ]
    },
    {
      "cell_type": "markdown",
      "metadata": {
        "id": "sZ1Nr4GRAzy_"
      },
      "source": [
        "Sanity checks are essential. They help us ensure that the data was not corrupted during the ingestion and provide some insight into the data's nature. Let us look at how many samples we have in Train and Test, along with the lengths of the longest and shortest strings in the dataset."
      ]
    },
    {
      "cell_type": "code",
      "metadata": {
        "colab": {
          "base_uri": "https://localhost:8080/"
        },
        "id": "sPuXqdVKNLuh",
        "outputId": "7a0edf8b-e5e9-41f2-d64e-c30a70c8be53"
      },
      "source": [
        "print (\"The training set contains {} examples with {} labels\\n\".format(len(X_train), len(Y_train)))\r\n",
        "print (\"The testing set contains {} examples with {} labels\\n\".format(len(X_test), len(Y_test)))\r\n",
        "\r\n",
        "min_len = len(min(X_train, key=len).split())\r\n",
        "print (\"The length of the shortest sentence is {}\\n\".format(min_len))\r\n",
        "\r\n",
        "max_len = len(max(X_train, key=len).split())\r\n",
        "print (\"The length of the longest sentence is {}\\n\".format(max_len))"
      ],
      "execution_count": null,
      "outputs": [
        {
          "output_type": "stream",
          "text": [
            "The training set contains 150 examples with 150 labels\n",
            "\n",
            "The testing set contains 50 examples with 50 labels\n",
            "\n",
            "The length of the shortest sentence is 1\n",
            "\n",
            "The length of the longest sentence is 11\n",
            "\n"
          ],
          "name": "stdout"
        }
      ]
    },
    {
      "cell_type": "markdown",
      "metadata": {
        "id": "89fs-5dGBsOz"
      },
      "source": [
        "Okay, perfect."
      ]
    },
    {
      "cell_type": "markdown",
      "metadata": {
        "id": "Wap1-mBS-KuM"
      },
      "source": [
        "## Constructing the Model"
      ]
    },
    {
      "cell_type": "markdown",
      "metadata": {
        "id": "F1bgM1yzCTBg"
      },
      "source": [
        "\r\n",
        "The *model* is the algorithm we develop to be able to solve an AI problem. Without getting too deep into the architecture here, the basic idea is that we're building a model capable of learning the relationship between *embedded* forms of the sentences and their corresponding emojis."
      ]
    },
    {
      "cell_type": "code",
      "metadata": {
        "id": "Hg7lue9QPxIH"
      },
      "source": [
        "def Model():\r\n",
        "\r\n",
        "  model = keras.Sequential([keras.layers.Lambda(lambda x: tf.expand_dims(x, axis=1)),\r\n",
        "                            keras.layers.LSTM(units=128, return_sequences=True),\r\n",
        "                            keras.layers.Dropout(rate=0.5),\r\n",
        "                            keras.layers.LSTM(units=128, return_sequences=False),\r\n",
        "                            keras.layers.Dropout(rate=0.5),\r\n",
        "                            keras.layers.Dense(units=5),\r\n",
        "                            keras.layers.Activation(\"softmax\")])\r\n",
        "  \r\n",
        "  model.compile(loss='categorical_crossentropy', optimizer=tf.keras.optimizers.Adam(learning_rate=0.001), metrics=['accuracy'])\r\n",
        "  \r\n",
        "  return model"
      ],
      "execution_count": null,
      "outputs": []
    },
    {
      "cell_type": "code",
      "metadata": {
        "id": "VC3pkrcTXBRc"
      },
      "source": [
        "model = Model()"
      ],
      "execution_count": null,
      "outputs": []
    },
    {
      "cell_type": "markdown",
      "metadata": {
        "id": "FP5NZP40-0-t"
      },
      "source": [
        "## Training Locally"
      ]
    },
    {
      "cell_type": "markdown",
      "metadata": {
        "id": "TEbCBqmPCjYZ"
      },
      "source": [
        "Before we can think about training this model on our data, there are some things we need to take care of."
      ]
    },
    {
      "cell_type": "markdown",
      "metadata": {
        "id": "D2bh29J1DfeU"
      },
      "source": [
        "One-hot encoding involves modifying the labels, such that each label is a vector containing precisely one 1 and all other 0s, uniquely corresponding to the emoji it represents. The one-hot encoded forms are as follows:\r\n",
        "\r\n",
        "0 becomes [1, 0, 0, 0, 0] (Happy)\r\n",
        "\r\n",
        "1 becomes [0, 1, 0, 0, 0] (Funny)\r\n",
        "\r\n",
        "2 becomes [0, 0, 1, 0, 0] (Scared)\r\n",
        "\r\n",
        "3 becomes [0, 0, 0, 1, 0] (Angry)\r\n",
        "\r\n",
        "4 becomes [0, 0, 0, 0, 1] (Sad)"
      ]
    },
    {
      "cell_type": "markdown",
      "metadata": {
        "id": "ueMn3D6gDhs5"
      },
      "source": [
        "The method below one-hot encodes the training and test labels and shows you a sample."
      ]
    },
    {
      "cell_type": "code",
      "metadata": {
        "id": "024yTqowaAWD"
      },
      "source": [
        "def convert_to_one_hot(labels):\r\n",
        "  return tf.one_hot(labels, 5)"
      ],
      "execution_count": null,
      "outputs": []
    },
    {
      "cell_type": "code",
      "metadata": {
        "colab": {
          "base_uri": "https://localhost:8080/"
        },
        "id": "zu5Q6XuInupz",
        "outputId": "ea228288-3ee8-4c27-d6a4-f4db3760cad8"
      },
      "source": [
        "Y_train_oh = convert_to_one_hot(labels=Y_train)\r\n",
        "Y_test_oh = convert_to_one_hot(labels=Y_test)\r\n",
        "\r\n",
        "pos_to_test = 75\r\n",
        "print (\"{} : {} (The numeric value of this is {})\".format(X_train[pos_to_test], label_to_emoji(Y_train[pos_to_test]), Y_train[pos_to_test]))\r\n",
        "print (Y_train_oh[pos_to_test])"
      ],
      "execution_count": null,
      "outputs": [
        {
          "output_type": "stream",
          "text": [
            "Rubbish! : 😠 (The numeric value of this is 3)\n",
            "tf.Tensor([0. 0. 0. 1. 0.], shape=(5,), dtype=float32)\n"
          ],
          "name": "stdout"
        }
      ]
    },
    {
      "cell_type": "markdown",
      "metadata": {
        "id": "Ez5bvOFQDrxR"
      },
      "source": [
        "A sentence embedding is a vector representation of the sentence, where it's translated into a unique combination of N numbers (dimensions). Here, we are using N=128 dimensions. Apart from uniquely identifying a sentence, these numbers also carry relative semantic meaning, which allows the model to learn relationships between similar sentences."
      ]
    },
    {
      "cell_type": "markdown",
      "metadata": {
        "id": "x8NqS2qHFF-V"
      },
      "source": [
        "For example, if the model was trained on the sentence \"I like puppies\" and the word \"adore\" never appeared anywhere in the training set, it can still learn to infer that \"I adore puppies\" should produce the same emoji. As for these embeddings themselves, you can create your own from massively large datasets or use one that someone else created. Here, we're going with the latter. The embeddings used here come from TensorFlow Hub (more in the references section below)."
      ]
    },
    {
      "cell_type": "markdown",
      "metadata": {
        "id": "YvmwBRlpFVpx"
      },
      "source": [
        "Look at how the sentence \"I love you.\" becomes a vector of 128 numbers.\r\n"
      ]
    },
    {
      "cell_type": "code",
      "metadata": {
        "id": "HqLbOpvadnvH"
      },
      "source": [
        "def load_hub_module():\r\n",
        "  embed = hub.load(\"https://tfhub.dev/google/nnlm-en-dim128-with-normalization/2\")\r\n",
        "  return embed"
      ],
      "execution_count": null,
      "outputs": []
    },
    {
      "cell_type": "code",
      "metadata": {
        "colab": {
          "base_uri": "https://localhost:8080/"
        },
        "id": "2g5IpX9_mYrl",
        "outputId": "adbc8c4f-33f1-4356-c850-aaf2e98f722b"
      },
      "source": [
        "embed = load_hub_module()\r\n",
        "print (\"I love you.\\n\\n{}\".format(embed([\"I love you.\"])))"
      ],
      "execution_count": null,
      "outputs": [
        {
          "output_type": "stream",
          "text": [
            "I love you.\n",
            "\n",
            "[[ 0.06720316 -0.05019467  0.19946459  0.12020276  0.14881054 -0.00456426\n",
            "  -0.05057551 -0.04841431 -0.19195782 -0.02451784 -0.12093704 -0.2852198\n",
            "  -0.00294066 -0.05971586  0.14719391  0.07701718  0.02095461 -0.06760143\n",
            "   0.15468313  0.01675761 -0.03760123 -0.05660797 -0.00736546  0.08649251\n",
            "  -0.08041847 -0.1563163   0.03294101  0.07168686 -0.11695939 -0.1823932\n",
            "  -0.08472857 -0.0987467  -0.03675023 -0.01732922  0.22283307 -0.05921975\n",
            "  -0.01329962 -0.05822768  0.06824754  0.17341426 -0.07891089 -0.23081318\n",
            "  -0.10878634 -0.30201977  0.0608683   0.08700971 -0.05933066 -0.13618678\n",
            "  -0.02547742  0.18084317  0.07031292 -0.11094392  0.04854394  0.15780668\n",
            "  -0.06359842 -0.09194843  0.02376433 -0.14330299  0.03715428 -0.06878028\n",
            "  -0.14734161  0.19417918  0.0823964   0.05661403 -0.05078657 -0.06345925\n",
            "   0.10933136  0.04545296  0.14868559 -0.03175765 -0.39383692  0.14416008\n",
            "   0.07267258 -0.11527298  0.09845851  0.01740749  0.08343427 -0.14131157\n",
            "   0.03251657  0.23407583  0.16797747  0.03399577 -0.057875   -0.10542976\n",
            "  -0.01186056 -0.05624991  0.01801045 -0.02148287  0.1361867   0.02048323\n",
            "  -0.10837713  0.00970503  0.06507829 -0.0664895   0.16917071 -0.03851476\n",
            "   0.13855007  0.06109535 -0.00296407 -0.01300511  0.09075141 -0.03050167\n",
            "   0.16900752 -0.12665273  0.08207355 -0.02063324 -0.16423716  0.12405533\n",
            "  -0.14883116  0.02858107 -0.11822073 -0.11193876 -0.02074423  0.03844061\n",
            "  -0.1346886  -0.05284637 -0.0035206  -0.14857209 -0.21723205  0.11980139\n",
            "   0.09087516  0.10499977 -0.0890507   0.29368913  0.17826816 -0.03604833\n",
            "  -0.05201548  0.09901257]]\n"
          ],
          "name": "stdout"
        }
      ]
    },
    {
      "cell_type": "markdown",
      "metadata": {
        "id": "_fG879H-FjH3"
      },
      "source": [
        "Now for the fun part! We pass the embedded training (and testing) data, the one-hot encoded training (and testing) labels, and specify a few other things- like how long we want the training to take place and the number of examples to train with each time."
      ]
    },
    {
      "cell_type": "code",
      "metadata": {
        "id": "radmLsneY-g8"
      },
      "source": [
        "def train_model(model, embed, X_train, Y_train_oh, X_test, Y_test_oh, num_epochs=100, batch_size=10, shuffle=True):\r\n",
        "  return model.fit(embed(X_train),\r\n",
        "                      Y_train_oh,\r\n",
        "                      epochs = num_epochs,\r\n",
        "                      batch_size = batch_size,\r\n",
        "                      shuffle=shuffle,\r\n",
        "                      validation_data=(embed(X_test), Y_test_oh))"
      ],
      "execution_count": null,
      "outputs": []
    },
    {
      "cell_type": "code",
      "metadata": {
        "colab": {
          "base_uri": "https://localhost:8080/"
        },
        "id": "7Bnooi-wmrwl",
        "outputId": "8711498b-8ff2-4f66-e440-119bd7051628"
      },
      "source": [
        "history = train_model(model, embed, X_train, Y_train_oh, X_test, Y_test_oh)"
      ],
      "execution_count": null,
      "outputs": [
        {
          "output_type": "stream",
          "text": [
            "Epoch 1/100\n",
            "15/15 [==============================] - 5s 94ms/step - loss: 1.6109 - accuracy: 0.1977 - val_loss: 1.6083 - val_accuracy: 0.2400\n",
            "Epoch 2/100\n",
            "15/15 [==============================] - 0s 11ms/step - loss: 1.6062 - accuracy: 0.2885 - val_loss: 1.6092 - val_accuracy: 0.1800\n",
            "Epoch 3/100\n",
            "15/15 [==============================] - 0s 9ms/step - loss: 1.5992 - accuracy: 0.4247 - val_loss: 1.6094 - val_accuracy: 0.1600\n",
            "Epoch 4/100\n",
            "15/15 [==============================] - 0s 10ms/step - loss: 1.5963 - accuracy: 0.3612 - val_loss: 1.6085 - val_accuracy: 0.2400\n",
            "Epoch 5/100\n",
            "15/15 [==============================] - 0s 10ms/step - loss: 1.5873 - accuracy: 0.4457 - val_loss: 1.6059 - val_accuracy: 0.2600\n",
            "Epoch 6/100\n",
            "15/15 [==============================] - 0s 9ms/step - loss: 1.5715 - accuracy: 0.4485 - val_loss: 1.6013 - val_accuracy: 0.2800\n",
            "Epoch 7/100\n",
            "15/15 [==============================] - 0s 9ms/step - loss: 1.5515 - accuracy: 0.4744 - val_loss: 1.5939 - val_accuracy: 0.3000\n",
            "Epoch 8/100\n",
            "15/15 [==============================] - 0s 9ms/step - loss: 1.5080 - accuracy: 0.4999 - val_loss: 1.5846 - val_accuracy: 0.2800\n",
            "Epoch 9/100\n",
            "15/15 [==============================] - 0s 10ms/step - loss: 1.4643 - accuracy: 0.4668 - val_loss: 1.5617 - val_accuracy: 0.3000\n",
            "Epoch 10/100\n",
            "15/15 [==============================] - 0s 11ms/step - loss: 1.3678 - accuracy: 0.4953 - val_loss: 1.5422 - val_accuracy: 0.3200\n",
            "Epoch 11/100\n",
            "15/15 [==============================] - 0s 10ms/step - loss: 1.3102 - accuracy: 0.4901 - val_loss: 1.5256 - val_accuracy: 0.3000\n",
            "Epoch 12/100\n",
            "15/15 [==============================] - 0s 10ms/step - loss: 1.1347 - accuracy: 0.5837 - val_loss: 1.5092 - val_accuracy: 0.3400\n",
            "Epoch 13/100\n",
            "15/15 [==============================] - 0s 10ms/step - loss: 1.1200 - accuracy: 0.5476 - val_loss: 1.4836 - val_accuracy: 0.3200\n",
            "Epoch 14/100\n",
            "15/15 [==============================] - 0s 10ms/step - loss: 0.9446 - accuracy: 0.6806 - val_loss: 1.4739 - val_accuracy: 0.4000\n",
            "Epoch 15/100\n",
            "15/15 [==============================] - 0s 10ms/step - loss: 0.9722 - accuracy: 0.6144 - val_loss: 1.4651 - val_accuracy: 0.3400\n",
            "Epoch 16/100\n",
            "15/15 [==============================] - 0s 10ms/step - loss: 0.8708 - accuracy: 0.6761 - val_loss: 1.4485 - val_accuracy: 0.4000\n",
            "Epoch 17/100\n",
            "15/15 [==============================] - 0s 10ms/step - loss: 0.7918 - accuracy: 0.6964 - val_loss: 1.4608 - val_accuracy: 0.4000\n",
            "Epoch 18/100\n",
            "15/15 [==============================] - 0s 9ms/step - loss: 0.7640 - accuracy: 0.7053 - val_loss: 1.4746 - val_accuracy: 0.4000\n",
            "Epoch 19/100\n",
            "15/15 [==============================] - 0s 10ms/step - loss: 0.7277 - accuracy: 0.7619 - val_loss: 1.4591 - val_accuracy: 0.4000\n",
            "Epoch 20/100\n",
            "15/15 [==============================] - 0s 9ms/step - loss: 0.6383 - accuracy: 0.8167 - val_loss: 1.5410 - val_accuracy: 0.4000\n",
            "Epoch 21/100\n",
            "15/15 [==============================] - 0s 9ms/step - loss: 0.5689 - accuracy: 0.8219 - val_loss: 1.5012 - val_accuracy: 0.4400\n",
            "Epoch 22/100\n",
            "15/15 [==============================] - 0s 10ms/step - loss: 0.5173 - accuracy: 0.8367 - val_loss: 1.5054 - val_accuracy: 0.4400\n",
            "Epoch 23/100\n",
            "15/15 [==============================] - 0s 9ms/step - loss: 0.4808 - accuracy: 0.8472 - val_loss: 1.5589 - val_accuracy: 0.4400\n",
            "Epoch 24/100\n",
            "15/15 [==============================] - 0s 10ms/step - loss: 0.5379 - accuracy: 0.8300 - val_loss: 1.5632 - val_accuracy: 0.4400\n",
            "Epoch 25/100\n",
            "15/15 [==============================] - 0s 10ms/step - loss: 0.4064 - accuracy: 0.8799 - val_loss: 1.5990 - val_accuracy: 0.4600\n",
            "Epoch 26/100\n",
            "15/15 [==============================] - 0s 10ms/step - loss: 0.4395 - accuracy: 0.8467 - val_loss: 1.6074 - val_accuracy: 0.4800\n",
            "Epoch 27/100\n",
            "15/15 [==============================] - 0s 10ms/step - loss: 0.4736 - accuracy: 0.8396 - val_loss: 1.6196 - val_accuracy: 0.4800\n",
            "Epoch 28/100\n",
            "15/15 [==============================] - 0s 19ms/step - loss: 0.5007 - accuracy: 0.8681 - val_loss: 1.6224 - val_accuracy: 0.5000\n",
            "Epoch 29/100\n",
            "15/15 [==============================] - 0s 10ms/step - loss: 0.3710 - accuracy: 0.9256 - val_loss: 1.6492 - val_accuracy: 0.4600\n",
            "Epoch 30/100\n",
            "15/15 [==============================] - 0s 10ms/step - loss: 0.3458 - accuracy: 0.8823 - val_loss: 1.7077 - val_accuracy: 0.4800\n",
            "Epoch 31/100\n",
            "15/15 [==============================] - 0s 10ms/step - loss: 0.3101 - accuracy: 0.8869 - val_loss: 1.7212 - val_accuracy: 0.4600\n",
            "Epoch 32/100\n",
            "15/15 [==============================] - 0s 10ms/step - loss: 0.3983 - accuracy: 0.8416 - val_loss: 1.7459 - val_accuracy: 0.5400\n",
            "Epoch 33/100\n",
            "15/15 [==============================] - 0s 10ms/step - loss: 0.4239 - accuracy: 0.8651 - val_loss: 1.7922 - val_accuracy: 0.5400\n",
            "Epoch 34/100\n",
            "15/15 [==============================] - 0s 10ms/step - loss: 0.2418 - accuracy: 0.9433 - val_loss: 1.8096 - val_accuracy: 0.5000\n",
            "Epoch 35/100\n",
            "15/15 [==============================] - 0s 10ms/step - loss: 0.1937 - accuracy: 0.9525 - val_loss: 1.8420 - val_accuracy: 0.5600\n",
            "Epoch 36/100\n",
            "15/15 [==============================] - 0s 10ms/step - loss: 0.2300 - accuracy: 0.9467 - val_loss: 1.8612 - val_accuracy: 0.5400\n",
            "Epoch 37/100\n",
            "15/15 [==============================] - 0s 10ms/step - loss: 0.1550 - accuracy: 0.9832 - val_loss: 1.8966 - val_accuracy: 0.5000\n",
            "Epoch 38/100\n",
            "15/15 [==============================] - 0s 10ms/step - loss: 0.1744 - accuracy: 0.9700 - val_loss: 1.9623 - val_accuracy: 0.4800\n",
            "Epoch 39/100\n",
            "15/15 [==============================] - 0s 10ms/step - loss: 0.2296 - accuracy: 0.9236 - val_loss: 2.0660 - val_accuracy: 0.5400\n",
            "Epoch 40/100\n",
            "15/15 [==============================] - 0s 10ms/step - loss: 0.1697 - accuracy: 0.9733 - val_loss: 2.0554 - val_accuracy: 0.5000\n",
            "Epoch 41/100\n",
            "15/15 [==============================] - 0s 10ms/step - loss: 0.1550 - accuracy: 0.9663 - val_loss: 2.1374 - val_accuracy: 0.4800\n",
            "Epoch 42/100\n",
            "15/15 [==============================] - 0s 11ms/step - loss: 0.2285 - accuracy: 0.9193 - val_loss: 2.1175 - val_accuracy: 0.4600\n",
            "Epoch 43/100\n",
            "15/15 [==============================] - 0s 10ms/step - loss: 0.2299 - accuracy: 0.9515 - val_loss: 2.0923 - val_accuracy: 0.5000\n",
            "Epoch 44/100\n",
            "15/15 [==============================] - 0s 9ms/step - loss: 0.1607 - accuracy: 0.9470 - val_loss: 2.1315 - val_accuracy: 0.5600\n",
            "Epoch 45/100\n",
            "15/15 [==============================] - 0s 9ms/step - loss: 0.1071 - accuracy: 0.9889 - val_loss: 2.1691 - val_accuracy: 0.5200\n",
            "Epoch 46/100\n",
            "15/15 [==============================] - 0s 9ms/step - loss: 0.1239 - accuracy: 0.9644 - val_loss: 2.2069 - val_accuracy: 0.5200\n",
            "Epoch 47/100\n",
            "15/15 [==============================] - 0s 9ms/step - loss: 0.1252 - accuracy: 0.9714 - val_loss: 2.2081 - val_accuracy: 0.5400\n",
            "Epoch 48/100\n",
            "15/15 [==============================] - 0s 10ms/step - loss: 0.1368 - accuracy: 0.9757 - val_loss: 2.2702 - val_accuracy: 0.5200\n",
            "Epoch 49/100\n",
            "15/15 [==============================] - 0s 10ms/step - loss: 0.1075 - accuracy: 0.9821 - val_loss: 2.3069 - val_accuracy: 0.5400\n",
            "Epoch 50/100\n",
            "15/15 [==============================] - 0s 10ms/step - loss: 0.1300 - accuracy: 0.9803 - val_loss: 2.3527 - val_accuracy: 0.5400\n",
            "Epoch 51/100\n",
            "15/15 [==============================] - 0s 20ms/step - loss: 0.0979 - accuracy: 0.9785 - val_loss: 2.3440 - val_accuracy: 0.5600\n",
            "Epoch 52/100\n",
            "15/15 [==============================] - 0s 10ms/step - loss: 0.1145 - accuracy: 0.9856 - val_loss: 2.3938 - val_accuracy: 0.5200\n",
            "Epoch 53/100\n",
            "15/15 [==============================] - 0s 9ms/step - loss: 0.0850 - accuracy: 0.9919 - val_loss: 2.4117 - val_accuracy: 0.5400\n",
            "Epoch 54/100\n",
            "15/15 [==============================] - 0s 10ms/step - loss: 0.0897 - accuracy: 0.9780 - val_loss: 2.4647 - val_accuracy: 0.5800\n",
            "Epoch 55/100\n",
            "15/15 [==============================] - 0s 9ms/step - loss: 0.0484 - accuracy: 0.9958 - val_loss: 2.5090 - val_accuracy: 0.5000\n",
            "Epoch 56/100\n",
            "15/15 [==============================] - 0s 10ms/step - loss: 0.0933 - accuracy: 0.9632 - val_loss: 2.5172 - val_accuracy: 0.5400\n",
            "Epoch 57/100\n",
            "15/15 [==============================] - 0s 9ms/step - loss: 0.0794 - accuracy: 0.9759 - val_loss: 2.5087 - val_accuracy: 0.5600\n",
            "Epoch 58/100\n",
            "15/15 [==============================] - 0s 10ms/step - loss: 0.0437 - accuracy: 1.0000 - val_loss: 2.5327 - val_accuracy: 0.5400\n",
            "Epoch 59/100\n",
            "15/15 [==============================] - 0s 9ms/step - loss: 0.0939 - accuracy: 0.9681 - val_loss: 2.5492 - val_accuracy: 0.5600\n",
            "Epoch 60/100\n",
            "15/15 [==============================] - 0s 10ms/step - loss: 0.1231 - accuracy: 0.9536 - val_loss: 2.5597 - val_accuracy: 0.6000\n",
            "Epoch 61/100\n",
            "15/15 [==============================] - 0s 10ms/step - loss: 0.0989 - accuracy: 0.9852 - val_loss: 2.5945 - val_accuracy: 0.5400\n",
            "Epoch 62/100\n",
            "15/15 [==============================] - 0s 10ms/step - loss: 0.0999 - accuracy: 0.9636 - val_loss: 2.5809 - val_accuracy: 0.5600\n",
            "Epoch 63/100\n",
            "15/15 [==============================] - 0s 10ms/step - loss: 0.0809 - accuracy: 1.0000 - val_loss: 2.5957 - val_accuracy: 0.5600\n",
            "Epoch 64/100\n",
            "15/15 [==============================] - 0s 9ms/step - loss: 0.0678 - accuracy: 0.9788 - val_loss: 2.6657 - val_accuracy: 0.5600\n",
            "Epoch 65/100\n",
            "15/15 [==============================] - 0s 10ms/step - loss: 0.0476 - accuracy: 0.9903 - val_loss: 2.6655 - val_accuracy: 0.5800\n",
            "Epoch 66/100\n",
            "15/15 [==============================] - 0s 10ms/step - loss: 0.0570 - accuracy: 1.0000 - val_loss: 2.7113 - val_accuracy: 0.5600\n",
            "Epoch 67/100\n",
            "15/15 [==============================] - 0s 10ms/step - loss: 0.0341 - accuracy: 0.9972 - val_loss: 2.7428 - val_accuracy: 0.5600\n",
            "Epoch 68/100\n",
            "15/15 [==============================] - 0s 10ms/step - loss: 0.0336 - accuracy: 0.9992 - val_loss: 2.7702 - val_accuracy: 0.5200\n",
            "Epoch 69/100\n",
            "15/15 [==============================] - 0s 10ms/step - loss: 0.0647 - accuracy: 0.9788 - val_loss: 2.7634 - val_accuracy: 0.5600\n",
            "Epoch 70/100\n",
            "15/15 [==============================] - 0s 10ms/step - loss: 0.0469 - accuracy: 0.9942 - val_loss: 2.7902 - val_accuracy: 0.5600\n",
            "Epoch 71/100\n",
            "15/15 [==============================] - 0s 9ms/step - loss: 0.0658 - accuracy: 0.9661 - val_loss: 2.7517 - val_accuracy: 0.5600\n",
            "Epoch 72/100\n",
            "15/15 [==============================] - 0s 9ms/step - loss: 0.0558 - accuracy: 0.9665 - val_loss: 2.7805 - val_accuracy: 0.5600\n",
            "Epoch 73/100\n",
            "15/15 [==============================] - 0s 10ms/step - loss: 0.0348 - accuracy: 1.0000 - val_loss: 2.8054 - val_accuracy: 0.5600\n",
            "Epoch 74/100\n",
            "15/15 [==============================] - 0s 9ms/step - loss: 0.0217 - accuracy: 1.0000 - val_loss: 2.8058 - val_accuracy: 0.5600\n",
            "Epoch 75/100\n",
            "15/15 [==============================] - 0s 10ms/step - loss: 0.0443 - accuracy: 0.9937 - val_loss: 2.8329 - val_accuracy: 0.5400\n",
            "Epoch 76/100\n",
            "15/15 [==============================] - 0s 10ms/step - loss: 0.0573 - accuracy: 0.9671 - val_loss: 2.8531 - val_accuracy: 0.5800\n",
            "Epoch 77/100\n",
            "15/15 [==============================] - 0s 10ms/step - loss: 0.0437 - accuracy: 0.9882 - val_loss: 2.8601 - val_accuracy: 0.5600\n",
            "Epoch 78/100\n",
            "15/15 [==============================] - 0s 9ms/step - loss: 0.0302 - accuracy: 0.9992 - val_loss: 2.9126 - val_accuracy: 0.5200\n",
            "Epoch 79/100\n",
            "15/15 [==============================] - 0s 9ms/step - loss: 0.0627 - accuracy: 0.9903 - val_loss: 2.9249 - val_accuracy: 0.5600\n",
            "Epoch 80/100\n",
            "15/15 [==============================] - 0s 18ms/step - loss: 0.0263 - accuracy: 1.0000 - val_loss: 2.9280 - val_accuracy: 0.5600\n",
            "Epoch 81/100\n",
            "15/15 [==============================] - 0s 10ms/step - loss: 0.0292 - accuracy: 1.0000 - val_loss: 2.9294 - val_accuracy: 0.5400\n",
            "Epoch 82/100\n",
            "15/15 [==============================] - 0s 10ms/step - loss: 0.0401 - accuracy: 1.0000 - val_loss: 2.9652 - val_accuracy: 0.5600\n",
            "Epoch 83/100\n",
            "15/15 [==============================] - 0s 10ms/step - loss: 0.0296 - accuracy: 0.9942 - val_loss: 2.9813 - val_accuracy: 0.5600\n",
            "Epoch 84/100\n",
            "15/15 [==============================] - 0s 10ms/step - loss: 0.0275 - accuracy: 1.0000 - val_loss: 3.0055 - val_accuracy: 0.5600\n",
            "Epoch 85/100\n",
            "15/15 [==============================] - 0s 10ms/step - loss: 0.0300 - accuracy: 0.9919 - val_loss: 3.0452 - val_accuracy: 0.6000\n",
            "Epoch 86/100\n",
            "15/15 [==============================] - 0s 10ms/step - loss: 0.0327 - accuracy: 1.0000 - val_loss: 3.0894 - val_accuracy: 0.5800\n",
            "Epoch 87/100\n",
            "15/15 [==============================] - 0s 10ms/step - loss: 0.0241 - accuracy: 1.0000 - val_loss: 3.0787 - val_accuracy: 0.5600\n",
            "Epoch 88/100\n",
            "15/15 [==============================] - 0s 12ms/step - loss: 0.0197 - accuracy: 1.0000 - val_loss: 3.0982 - val_accuracy: 0.5600\n",
            "Epoch 89/100\n",
            "15/15 [==============================] - 0s 10ms/step - loss: 0.0209 - accuracy: 1.0000 - val_loss: 3.1322 - val_accuracy: 0.5400\n",
            "Epoch 90/100\n",
            "15/15 [==============================] - 0s 10ms/step - loss: 0.0163 - accuracy: 1.0000 - val_loss: 3.1881 - val_accuracy: 0.5200\n",
            "Epoch 91/100\n",
            "15/15 [==============================] - 0s 10ms/step - loss: 0.0298 - accuracy: 1.0000 - val_loss: 3.1559 - val_accuracy: 0.5800\n",
            "Epoch 92/100\n",
            "15/15 [==============================] - 0s 9ms/step - loss: 0.0198 - accuracy: 1.0000 - val_loss: 3.1714 - val_accuracy: 0.5200\n",
            "Epoch 93/100\n",
            "15/15 [==============================] - 0s 10ms/step - loss: 0.0293 - accuracy: 1.0000 - val_loss: 3.2154 - val_accuracy: 0.5400\n",
            "Epoch 94/100\n",
            "15/15 [==============================] - 0s 11ms/step - loss: 0.0146 - accuracy: 1.0000 - val_loss: 3.2367 - val_accuracy: 0.5600\n",
            "Epoch 95/100\n",
            "15/15 [==============================] - 0s 9ms/step - loss: 0.0234 - accuracy: 0.9992 - val_loss: 3.2080 - val_accuracy: 0.5600\n",
            "Epoch 96/100\n",
            "15/15 [==============================] - 0s 11ms/step - loss: 0.0240 - accuracy: 1.0000 - val_loss: 3.1997 - val_accuracy: 0.5200\n",
            "Epoch 97/100\n",
            "15/15 [==============================] - 0s 10ms/step - loss: 0.0313 - accuracy: 0.9890 - val_loss: 3.2138 - val_accuracy: 0.5400\n",
            "Epoch 98/100\n",
            "15/15 [==============================] - 0s 10ms/step - loss: 0.0321 - accuracy: 0.9910 - val_loss: 3.2198 - val_accuracy: 0.5000\n",
            "Epoch 99/100\n",
            "15/15 [==============================] - 0s 10ms/step - loss: 0.0158 - accuracy: 0.9977 - val_loss: 3.2391 - val_accuracy: 0.5600\n",
            "Epoch 100/100\n",
            "15/15 [==============================] - 0s 10ms/step - loss: 0.0136 - accuracy: 1.0000 - val_loss: 3.2976 - val_accuracy: 0.5400\n"
          ],
          "name": "stdout"
        }
      ]
    },
    {
      "cell_type": "markdown",
      "metadata": {
        "id": "KRzVRmnqGDoU"
      },
      "source": [
        "If you don't understand this, don't worry. We're just having a look at how our model has been composed."
      ]
    },
    {
      "cell_type": "code",
      "metadata": {
        "colab": {
          "base_uri": "https://localhost:8080/"
        },
        "id": "ODReUjmik-rA",
        "outputId": "58bba0c5-f1af-454a-8ff3-214a479c909d"
      },
      "source": [
        "model.summary()"
      ],
      "execution_count": null,
      "outputs": [
        {
          "output_type": "stream",
          "text": [
            "Model: \"sequential\"\n",
            "_________________________________________________________________\n",
            "Layer (type)                 Output Shape              Param #   \n",
            "=================================================================\n",
            "lambda (Lambda)              (10, 1, 128)              0         \n",
            "_________________________________________________________________\n",
            "lstm (LSTM)                  (10, 1, 128)              131584    \n",
            "_________________________________________________________________\n",
            "dropout (Dropout)            (10, 1, 128)              0         \n",
            "_________________________________________________________________\n",
            "lstm_1 (LSTM)                (10, 128)                 131584    \n",
            "_________________________________________________________________\n",
            "dropout_1 (Dropout)          (10, 128)                 0         \n",
            "_________________________________________________________________\n",
            "dense (Dense)                (10, 5)                   645       \n",
            "_________________________________________________________________\n",
            "activation (Activation)      (10, 5)                   0         \n",
            "=================================================================\n",
            "Total params: 263,813\n",
            "Trainable params: 263,813\n",
            "Non-trainable params: 0\n",
            "_________________________________________________________________\n"
          ],
          "name": "stdout"
        }
      ]
    },
    {
      "cell_type": "markdown",
      "metadata": {
        "id": "BYZtCGEUGYRP"
      },
      "source": [
        "The plot shown here indicates how the model did in both Training, as well as in Validation. As you can see, the Validation Accuracy stopped growing after about 40-50% (though the Train Accuracy went up to 100%). Can you think of why? Hint: Lack of data on our end."
      ]
    },
    {
      "cell_type": "code",
      "metadata": {
        "colab": {
          "base_uri": "https://localhost:8080/",
          "height": 295
        },
        "id": "1dVWJb_S2mLr",
        "outputId": "d974d944-9bf3-4c57-df00-9b0ffea9414c"
      },
      "source": [
        "accuracy_train = history.history['accuracy']\r\n",
        "accuracy_val = history.history['val_accuracy']\r\n",
        "loss_train = history.history['loss']\r\n",
        "loss_val = history.history['val_loss']\r\n",
        "\r\n",
        "epochs = range(1,101)\r\n",
        "\r\n",
        "plt.plot(epochs, accuracy_train, 'g', label='Training Accuracy')\r\n",
        "plt.plot(epochs, accuracy_val, 'b', label='Validation Accuracy')\r\n",
        "\r\n",
        "plt.title('Training and Validation Accuracy')\r\n",
        "plt.xlabel('Epochs')\r\n",
        "\r\n",
        "plt.legend()\r\n",
        "plt.show()"
      ],
      "execution_count": null,
      "outputs": [
        {
          "output_type": "display_data",
          "data": {
            "image/png": "[encoded data removed]",
            "text/plain": [
              "<Figure size 432x288 with 1 Axes>"
            ]
          },
          "metadata": {
            "tags": [],
            "needs_background": "light"
          }
        }
      ]
    },
    {
      "cell_type": "markdown",
      "metadata": {
        "id": "-m9b733F7GBn"
      },
      "source": [
        "## Predicting Locally"
      ]
    },
    {
      "cell_type": "markdown",
      "metadata": {
        "id": "UzVdIcNNGzvP"
      },
      "source": [
        "And we're done! Time to see if our model works.\r\n"
      ]
    },
    {
      "cell_type": "code",
      "metadata": {
        "id": "97JQKpktgbPX"
      },
      "source": [
        "def predict(list_of_input_sentences, mode='deploy'):\r\n",
        "\r\n",
        "  '''\r\n",
        "  Input: A list of sentences and a mode. 'Test' mode is used to simply generate \r\n",
        "         and print the string-emoji pairs to make sure everything works properly.\r\n",
        "         'Deploy' mode is used when we want to return a prediction for one\r\n",
        "         sentence at a time.\r\n",
        "\r\n",
        "  Task: Use the model built to make emoji predictions with the given sentences.\r\n",
        "  \r\n",
        "  '''\r\n",
        "\r\n",
        "  number_of_input_sentences = len(list_of_input_sentences)\r\n",
        "  embedded_list = embed(list_of_input_sentences)\r\n",
        "  prediction = model.predict(embedded_list)\r\n",
        "\r\n",
        "  if mode == 'test':\r\n",
        "    for i in range(number_of_input_sentences):\r\n",
        "      print (\"{} : {}\".format(list_of_input_sentences[i], label_to_emoji(tf.argmax(prediction[i]))))\r\n",
        "\r\n",
        "  elif mode == 'deploy':\r\n",
        "    return tf.argmax(prediction[0])"
      ],
      "execution_count": null,
      "outputs": []
    },
    {
      "cell_type": "markdown",
      "metadata": {
        "id": "JgKwxo_gG-qP"
      },
      "source": [
        "Here are some relatively straightforward sentences. If our model gets these too badly wrong, there might be a problem."
      ]
    },
    {
      "cell_type": "code",
      "metadata": {
        "colab": {
          "base_uri": "https://localhost:8080/"
        },
        "id": "rOYfhFXeqbig",
        "outputId": "0240f3f6-0aa6-4680-ad21-a1d7cdf4b49f"
      },
      "source": [
        "predict([\"I feel like dancing today!\",\r\n",
        "         \"Now THAT was funny!\",\r\n",
        "         \"I am terrified.\",\r\n",
        "         \"This isn't fair!\",\r\n",
        "         \"That hurts!\"], mode='test')"
      ],
      "execution_count": null,
      "outputs": [
        {
          "output_type": "stream",
          "text": [
            "I feel like dancing today! : 😃\n",
            "Now THAT was funny! : 😂\n",
            "I am terrified. : 😨\n",
            "This isn't fair! : 😠\n",
            "That hurts! : 😭\n"
          ],
          "name": "stdout"
        }
      ]
    },
    {
      "cell_type": "markdown",
      "metadata": {
        "id": "coXpD3nNHOcY"
      },
      "source": [
        "Everything works fine. Now let's try to build out a mini-version of the comment system."
      ]
    },
    {
      "cell_type": "code",
      "metadata": {
        "id": "vNhkuFVBnkoD"
      },
      "source": [
        "class Comments:\r\n",
        "\r\n",
        "  def __init__(self):\r\n",
        "\r\n",
        "    self.comments = []\r\n",
        "    self.generated_emojis = []\r\n",
        "\r\n",
        "    self.num_happy = 0\r\n",
        "    self.num_laugh = 0\r\n",
        "    self.num_scared=0\r\n",
        "    self.num_angry=0\r\n",
        "    self.num_sad = 0\r\n",
        "\r\n",
        "  def input_sentences(self, list_of_input_sentences):\r\n",
        "\r\n",
        "    '''\r\n",
        "    Input: A list of comments.\r\n",
        "\r\n",
        "    Task: Generates emojis from the comments and saves the comment-emoji pairs.\r\n",
        "\r\n",
        "    '''\r\n",
        "\r\n",
        "    for sentence in list_of_input_sentences:\r\n",
        "\r\n",
        "      self.comments.append(sentence)\r\n",
        "\r\n",
        "      result = predict([sentence])\r\n",
        "\r\n",
        "      self.generated_emojis.append(label_to_emoji(result))\r\n",
        "\r\n",
        "      if result == 0:\r\n",
        "        self.num_happy = self.num_happy + 1\r\n",
        "      elif result == 1:\r\n",
        "        self.num_laugh = self.num_laugh + 1\r\n",
        "      elif result == 2:\r\n",
        "        self.num_scared = self.num_scared + 1\r\n",
        "      elif result == 3:\r\n",
        "        self.num_angry = self.num_angry + 1\r\n",
        "      elif result == 4:\r\n",
        "        self.num_sad = self.num_sad + 1\r\n",
        "\r\n",
        "  def display_comments(self):\r\n",
        "\r\n",
        "    '''\r\n",
        "    Task: Displays the entire comment system.\r\n",
        "    \r\n",
        "    '''\r\n",
        "      \r\n",
        "    print(\"{} 😃   {} 😂   {} 😨   {} 😠   {} 😭\".format(self.num_happy, self.num_laugh, self.num_scared, self.num_angry, self.num_sad))\r\n",
        "    print (\"___________________________________\\n\\n\")\r\n",
        "\r\n",
        "    comment_emoji_pairs = zip(self.comments, self.generated_emojis)\r\n",
        "\r\n",
        "    for comment, emoji in comment_emoji_pairs:\r\n",
        "      print (\"{:<75}{:>1}\\n\".format(comment, emoji))"
      ],
      "execution_count": null,
      "outputs": []
    },
    {
      "cell_type": "code",
      "metadata": {
        "id": "DjJDQLfwV1Fc"
      },
      "source": [
        "comment_system = Comments()"
      ],
      "execution_count": null,
      "outputs": []
    },
    {
      "cell_type": "code",
      "metadata": {
        "colab": {
          "base_uri": "https://localhost:8080/"
        },
        "id": "51cNxKwyRg27",
        "outputId": "61236753-1326-41df-b83c-c294d064e38a"
      },
      "source": [
        "comment_system.input_sentences([\"The darkness is closing all around us.\",\r\n",
        "                                \"This is upsetting.\",\r\n",
        "                                \"Your smile is beautiful!\"])\r\n",
        "\r\n",
        "comment_system.display_comments()"
      ],
      "execution_count": null,
      "outputs": [
        {
          "output_type": "stream",
          "text": [
            "1 😃   0 😂   1 😨   0 😠   1 😭\n",
            "___________________________________\n",
            "\n",
            "\n",
            "The darkness is closing all around us.                                     😨\n",
            "\n",
            "This is upsetting.                                                         😭\n",
            "\n",
            "Your smile is beautiful!                                                   😃\n",
            "\n"
          ],
          "name": "stdout"
        }
      ]
    },
    {
      "cell_type": "code",
      "metadata": {
        "colab": {
          "base_uri": "https://localhost:8080/"
        },
        "id": "uZ_j18kWVzmW",
        "outputId": "cd0613de-b948-4411-851f-b3a5d048b2b7"
      },
      "source": [
        "comment_system.input_sentences([\"Are you mad?\",\r\n",
        "                                \"Hilarious!\"])\r\n",
        "\r\n",
        "comment_system.display_comments()"
      ],
      "execution_count": null,
      "outputs": [
        {
          "output_type": "stream",
          "text": [
            "1 😃   1 😂   2 😨   0 😠   1 😭\n",
            "___________________________________\n",
            "\n",
            "\n",
            "The darkness is closing all around us.                                     😨\n",
            "\n",
            "This is upsetting.                                                         😭\n",
            "\n",
            "Your smile is beautiful!                                                   😃\n",
            "\n",
            "Are you mad?                                                               😨\n",
            "\n",
            "Hilarious!                                                                 😂\n",
            "\n"
          ],
          "name": "stdout"
        }
      ]
    },
    {
      "cell_type": "markdown",
      "metadata": {
        "id": "TMq88Q31CUg3"
      },
      "source": [
        "## Training With AI Platform Jobs"
      ]
    },
    {
      "cell_type": "markdown",
      "metadata": {
        "id": "pOShqVp_Zz94"
      },
      "source": [
        "Now that we've built our model, and are happy with the performance, let's talk about training on AI Platform Jobs. Our notebook was used for rapid prototyping, and while we can (and have) produced a working model here, it may be better to train on Jobs.\r\n",
        "\r\n",
        "1. Jobs can be orchestrated within an AI pipeline.\r\n",
        "\r\n",
        "2. They run on temporarily allotted hardware, and unlike notebooks that are expensive to keep running, you're only charged for a job while it is running.\r\n",
        "\r\n",
        "3. You can use AI Platform's hyperparameter tuning service to find the best set of hyperparameters to use with your model."
      ]
    },
    {
      "cell_type": "markdown",
      "metadata": {
        "id": "XcSDooiWdn6R"
      },
      "source": [
        "The approach is as follows:\r\n",
        "\r\n",
        "1. Train on a small dataset within your notebook (prototyping), and then with the entire dataset within Jobs. In this case, our dataset was anyway small, so this doesn't make a difference to us.\r\n",
        "\r\n",
        "2. When satisfied with the model code, build a Python package containing a task.py file (will be used only to read the hyperparameters passed as command-line arguments) and a model.py file (includes all the model code and program logic).\r\n",
        "\r\n",
        "3. Train the model with Jobs and save the model in Google Cloud Storage."
      ]
    },
    {
      "cell_type": "markdown",
      "metadata": {
        "id": "WEdeRS5J0k7C"
      },
      "source": [
        "First, we make a folder called *trainer*."
      ]
    },
    {
      "cell_type": "code",
      "metadata": {
        "id": "aceecdXyj8by"
      },
      "source": [
        "%mkdir train\r\n",
        "%mkdir train/trainer"
      ],
      "execution_count": null,
      "outputs": []
    },
    {
      "cell_type": "markdown",
      "metadata": {
        "id": "S-AF7pZOkFCg"
      },
      "source": [
        "Let's start by writing an \\__ init __.py file. This is required to make the folder be treated as a Python package."
      ]
    },
    {
      "cell_type": "code",
      "metadata": {
        "colab": {
          "base_uri": "https://localhost:8080/"
        },
        "id": "gnDOWbkjkEO0",
        "outputId": "11b604fd-5574-4a47-9f06-102121e846bf"
      },
      "source": [
        "%%writefile train/trainer/__init__.py\r\n",
        "# This exists only as a formality"
      ],
      "execution_count": null,
      "outputs": [
        {
          "output_type": "stream",
          "text": [
            "Writing train/trainer/__init__.py\n"
          ],
          "name": "stdout"
        }
      ]
    },
    {
      "cell_type": "markdown",
      "metadata": {
        "id": "kJQgwS8Pk081"
      },
      "source": [
        "Next, let's write the model.py file."
      ]
    },
    {
      "cell_type": "code",
      "metadata": {
        "colab": {
          "base_uri": "https://localhost:8080/"
        },
        "id": "WbGK7PXKk0Cz",
        "outputId": "b96f0da9-63f9-438c-8308-9f54e83d5a2a"
      },
      "source": [
        "%%writefile train/trainer/model.py\r\n",
        "import tensorflow as tf\r\n",
        "import keras\r\n",
        "import tensorflow_hub as hub\r\n",
        "\r\n",
        "import matplotlib.pyplot as plt\r\n",
        "\r\n",
        "import csv\r\n",
        "import random\r\n",
        "\r\n",
        "import os\r\n",
        "\r\n",
        "list_of_emojis = ['😃','😂','😨','😠','😭']\r\n",
        "\r\n",
        "def label_to_emoji(label):\r\n",
        "  return list_of_emojis[label]\r\n",
        "\r\n",
        "#-------------------------------------------------------------------------------\r\n",
        "\r\n",
        "# This block is only for use on GCP\r\n",
        "\r\n",
        "# import gcsfs\r\n",
        "\r\n",
        "# def prepare_data(filename):\r\n",
        "\r\n",
        "#   data = []\r\n",
        "#   labels = []\r\n",
        "    \r\n",
        "#   if filename.startswith('gs://'):\r\n",
        "#     fs = gcsfs.GCSFileSystem(project='durable-will-291417')\r\n",
        "#     with fs.open(filename, \"rt\", encoding=\"ascii\") as my_dataset:\r\n",
        "        \r\n",
        "#       reader = csv.reader(my_dataset, delimiter=',')\r\n",
        "#       for row in reader:\r\n",
        "#         data.append(row[0])\r\n",
        "#         labels.append(int(row[1]))\r\n",
        "        \r\n",
        "#   else:\r\n",
        "#     with open(filename) as my_dataset:\r\n",
        "\r\n",
        "#       reader = csv.reader(my_dataset, delimiter=',')\r\n",
        "#       for row in reader:\r\n",
        "#         data.append(row[0])\r\n",
        "#         labels.append(int(row[1]))\r\n",
        "\r\n",
        "#   return (data, labels)\r\n",
        "\r\n",
        "#-------------------------------------------------------------------------------\r\n",
        "\r\n",
        "\r\n",
        "#-------------------------------------------------------------------------------\r\n",
        "\r\n",
        "# This block is only for use on Colab\r\n",
        "\r\n",
        "def prepare_data(filename):\r\n",
        "  data = []\r\n",
        "  labels = []\r\n",
        "\r\n",
        "  with open(filename) as my_dataset:\r\n",
        "\r\n",
        "    reader = csv.reader(my_dataset, delimiter=',')\r\n",
        "\r\n",
        "    for row in reader:\r\n",
        "\r\n",
        "      data.append(row[0])\r\n",
        "      labels.append(int(row[1]))\r\n",
        "\r\n",
        "  return (data, labels)\r\n",
        "\r\n",
        "#-------------------------------------------------------------------------------\r\n",
        "\r\n",
        "def shuffle_data(data, labels):\r\n",
        "\r\n",
        "  X_train = []\r\n",
        "  Y_train = []\r\n",
        "  X_test = []\r\n",
        "  Y_test = []\r\n",
        "\r\n",
        "  list_to_shuffle = list(zip(data, labels))\r\n",
        "  random.shuffle(list_to_shuffle)\r\n",
        "\r\n",
        "  shuffled_data, shuffled_labels = zip(*list_to_shuffle)\r\n",
        "\r\n",
        "  X_train = shuffled_data[0:150]\r\n",
        "  Y_train = shuffled_labels[0:150]\r\n",
        "\r\n",
        "  X_test = shuffled_data[150:200]\r\n",
        "  Y_test = shuffled_labels[150:200]\r\n",
        "\r\n",
        "  return (X_train, Y_train, X_test, Y_test)\r\n",
        "\r\n",
        "def Model():\r\n",
        "\r\n",
        "  model = keras.Sequential([keras.layers.Lambda(lambda x: tf.expand_dims(x, axis=1)),\r\n",
        "                            keras.layers.LSTM(units=128, return_sequences=True),\r\n",
        "                            keras.layers.Dropout(rate=0.5),\r\n",
        "                            keras.layers.LSTM(units=128, return_sequences=False),\r\n",
        "                            keras.layers.Dropout(rate=0.5),\r\n",
        "                            keras.layers.Dense(units=5),\r\n",
        "                            keras.layers.Activation(\"softmax\")])\r\n",
        "  \r\n",
        "  model.compile(loss='categorical_crossentropy', optimizer=tf.keras.optimizers.Adam(learning_rate=0.001), metrics=['accuracy'])\r\n",
        "  \r\n",
        "  return model\r\n",
        "\r\n",
        "def convert_to_one_hot(labels):\r\n",
        "  return tf.one_hot(labels, 5)\r\n",
        "\r\n",
        "def load_hub_module():\r\n",
        "  embed = hub.load(\"https://tfhub.dev/google/nnlm-en-dim128-with-normalization/2\")\r\n",
        "  return embed\r\n",
        "\r\n",
        "def train_model(model,embed, X_train, Y_train_oh, X_test, Y_test_oh, num_epochs=100, batch_size=10, shuffle=True):\r\n",
        "  return model.fit(embed(X_train),\r\n",
        "                      Y_train_oh,\r\n",
        "                      epochs = num_epochs,\r\n",
        "                      batch_size = batch_size,\r\n",
        "                      shuffle=shuffle,\r\n",
        "                      validation_data=(embed(X_test), Y_test_oh))\r\n",
        "  \r\n",
        "# A helper method that uses all the above methods to create a model and save it\r\n",
        "# in a Cloud Bucket\r\n",
        "def train_and_save_model(dataset_location, output_dir):\r\n",
        "\r\n",
        "  data, labels = prepare_data(dataset_location)\r\n",
        "  print (\"Data loading successful.\\n\")\r\n",
        "\r\n",
        "  X_train, Y_train, X_test, Y_test = shuffle_data(data, labels)\r\n",
        "  print (\"Data shuffling and splitting successful.\\n\")\r\n",
        "\r\n",
        "  model = Model()\r\n",
        "  print (\"Model creation successful.\\n\")\r\n",
        "\r\n",
        "  embed = load_hub_module()\r\n",
        "  print (\"Hub module loading successful.\\n\")\r\n",
        "\r\n",
        "  Y_train_oh = convert_to_one_hot(labels=Y_train)\r\n",
        "  Y_test_oh = convert_to_one_hot(labels=Y_test)\r\n",
        "  print (\"One-hot encoding successful.\\n\")\r\n",
        "\r\n",
        "  print (\"Model training initiated.\\n\")\r\n",
        "  history = train_model(model, embed, X_train, Y_train_oh, X_test, Y_test_oh)\r\n",
        "  print (\"\\nModel training completed.\\n\")\r\n",
        "\r\n",
        "  savedmodel_dir = os.path.join(output_dir, 'savedmodel')\r\n",
        "  tf.saved_model.save(model, savedmodel_dir)\r\n",
        "  print (\"\\nModel saving completed.\\n\")"
      ],
      "execution_count": null,
      "outputs": [
        {
          "output_type": "stream",
          "text": [
            "Writing train/trainer/model.py\n"
          ],
          "name": "stdout"
        }
      ]
    },
    {
      "cell_type": "markdown",
      "metadata": {
        "id": "TXeGOJJnd2MJ"
      },
      "source": [
        "Lastly, let's write a task.py file that reads in command line arguments, trains the model, and then saves it."
      ]
    },
    {
      "cell_type": "code",
      "metadata": {
        "colab": {
          "base_uri": "https://localhost:8080/"
        },
        "id": "OCTIU_-SZzWb",
        "outputId": "0eaed95b-ce27-4bde-c037-f961063cfb6d"
      },
      "source": [
        "%%writefile train/trainer/task.py\r\n",
        "import argparse\r\n",
        "\r\n",
        "from trainer import model\r\n",
        "\r\n",
        "if __name__ == '__main__':\r\n",
        "\r\n",
        "    parser = argparse.ArgumentParser()\r\n",
        "\r\n",
        "    parser.add_argument(\r\n",
        "        \"--data-file\",\r\n",
        "        help=\"Path to the dataset file.\"\r\n",
        "    )\r\n",
        "    \r\n",
        "    parser.add_argument(\r\n",
        "      '--job-dir',\r\n",
        "      help='Location where the model should be saved.',\r\n",
        "    )\r\n",
        "\r\n",
        "    args = parser.parse_args()\r\n",
        "    hparams = args.__dict__\r\n",
        "\r\n",
        "    model.train_and_save_model(hparams['data_file'], hparams['job_dir'])"
      ],
      "execution_count": null,
      "outputs": [
        {
          "output_type": "stream",
          "text": [
            "Writing train/trainer/task.py\n"
          ],
          "name": "stdout"
        }
      ]
    },
    {
      "cell_type": "markdown",
      "metadata": {
        "id": "pyzgzsiNqWTY"
      },
      "source": [
        "With that done, let's move the dataset into a cloud bucket as Jobs cannot read from a locally stored file (make the file public as well). Then, let's make sure the above code works by running task.py with Jobs, locally."
      ]
    },
    {
      "cell_type": "code",
      "metadata": {
        "id": "zHVvUmNIDDo2"
      },
      "source": [
        "# The next cell is only for use on GCP"
      ],
      "execution_count": null,
      "outputs": []
    },
    {
      "cell_type": "code",
      "metadata": {
        "id": "SKS0v6F_DDr9"
      },
      "source": [
        "# %%bash\r\n",
        "\r\n",
        "# gsutil cp -r heartfelt_dataset.csv gs://gccd_heartfelt\r\n",
        "# gsutil acl ch -u AllUsers:R gs://gccd_heartfelt/heartfelt_dataset.csv"
      ],
      "execution_count": null,
      "outputs": []
    },
    {
      "cell_type": "code",
      "metadata": {
        "id": "MUwlQzEqgDlZ"
      },
      "source": [
        "# The next cell is only for use on GCP"
      ],
      "execution_count": null,
      "outputs": []
    },
    {
      "cell_type": "code",
      "metadata": {
        "id": "AQt3HBKQVJP8"
      },
      "source": [
        "# %%bash\r\n",
        "\r\n",
        "# gcloud ai-platform local train \\\r\n",
        "#     --job-dir '/home/jupyter/' \\\r\n",
        "#     --module-name trainer.task \\\r\n",
        "#     --package-path train/trainer/ \\\r\n",
        "#     -- \\\r\n",
        "#     --data-file='gs://gccd_heartfelt/heartfelt_dataset.csv' \\"
      ],
      "execution_count": null,
      "outputs": []
    },
    {
      "cell_type": "code",
      "metadata": {
        "id": "I_4lzjGLgPEe"
      },
      "source": [
        "# The next cell is only for use on Colab"
      ],
      "execution_count": null,
      "outputs": []
    },
    {
      "cell_type": "code",
      "metadata": {
        "colab": {
          "base_uri": "https://localhost:8080/"
        },
        "id": "PqipHolPqVbK",
        "outputId": "4aba0de8-835e-43d8-fb8e-0055d3307036"
      },
      "source": [
        "%%bash\r\n",
        "\r\n",
        "cd train\r\n",
        "\r\n",
        "python -m trainer.task \\\r\n",
        " --data-file='/content/heartfelt_dataset.csv' \\\r\n",
        " --job-dir='/content'"
      ],
      "execution_count": null,
      "outputs": [
        {
          "output_type": "stream",
          "text": [
            "Data loading successful.\n",
            "\n",
            "Data shuffling and splitting successful.\n",
            "\n",
            "Model creation successful.\n",
            "\n",
            "Hub module loading successful.\n",
            "\n",
            "One-hot encoding successful.\n",
            "\n",
            "Model training initiated.\n",
            "\n",
            "Epoch 1/100\n",
            "\r 1/15 [=>............................] - ETA: 44s - loss: 1.6081 - accuracy: 0.1000\b\b\b\b\b\b\b\b\b\b\b\b\b\b\b\b\b\b\b\b\b\b\b\b\b\b\b\b\b\b\b\b\b\b\b\b\b\b\b\b\b\b\b\b\b\b\b\b\b\b\b\b\b\b\b\b\b\b\b\b\b\b\b\b\b\b\b\b\b\b\b\b\b\b\b\b\b\b\b\b\b\b\b\r 7/15 [=============>................] - ETA: 0s - loss: 1.6093 - accuracy: 0.1377 \b\b\b\b\b\b\b\b\b\b\b\b\b\b\b\b\b\b\b\b\b\b\b\b\b\b\b\b\b\b\b\b\b\b\b\b\b\b\b\b\b\b\b\b\b\b\b\b\b\b\b\b\b\b\b\b\b\b\b\b\b\b\b\b\b\b\b\b\b\b\b\b\b\b\b\b\b\b\b\b\b\b\r14/15 [===========================>..] - ETA: 0s - loss: 1.6090 - accuracy: 0.1623\b\b\b\b\b\b\b\b\b\b\b\b\b\b\b\b\b\b\b\b\b\b\b\b\b\b\b\b\b\b\b\b\b\b\b\b\b\b\b\b\b\b\b\b\b\b\b\b\b\b\b\b\b\b\b\b\b\b\b\b\b\b\b\b\b\b\b\b\b\b\b\b\b\b\b\b\b\b\b\b\b\b\r15/15 [==============================] - 4s 81ms/step - loss: 1.6090 - accuracy: 0.1645 - val_loss: 1.6131 - val_accuracy: 0.2400\n",
            "Epoch 2/100\n",
            "\r 1/15 [=>............................] - ETA: 0s - loss: 1.6062 - accuracy: 0.1000\b\b\b\b\b\b\b\b\b\b\b\b\b\b\b\b\b\b\b\b\b\b\b\b\b\b\b\b\b\b\b\b\b\b\b\b\b\b\b\b\b\b\b\b\b\b\b\b\b\b\b\b\b\b\b\b\b\b\b\b\b\b\b\b\b\b\b\b\b\b\b\b\b\b\b\b\b\b\b\b\b\b\r 7/15 [=============>................] - ETA: 0s - loss: 1.6051 - accuracy: 0.1957\b\b\b\b\b\b\b\b\b\b\b\b\b\b\b\b\b\b\b\b\b\b\b\b\b\b\b\b\b\b\b\b\b\b\b\b\b\b\b\b\b\b\b\b\b\b\b\b\b\b\b\b\b\b\b\b\b\b\b\b\b\b\b\b\b\b\b\b\b\b\b\b\b\b\b\b\b\b\b\b\b\b\r13/15 [=========================>....] - ETA: 0s - loss: 1.6043 - accuracy: 0.2320\b\b\b\b\b\b\b\b\b\b\b\b\b\b\b\b\b\b\b\b\b\b\b\b\b\b\b\b\b\b\b\b\b\b\b\b\b\b\b\b\b\b\b\b\b\b\b\b\b\b\b\b\b\b\b\b\b\b\b\b\b\b\b\b\b\b\b\b\b\b\b\b\b\b\b\b\b\b\b\b\b\b\r15/15 [==============================] - 0s 12ms/step - loss: 1.6041 - accuracy: 0.2439 - val_loss: 1.6202 - val_accuracy: 0.1600\n",
            "Epoch 3/100\n",
            "\r 1/15 [=>............................] - ETA: 0s - loss: 1.5993 - accuracy: 0.2000\b\b\b\b\b\b\b\b\b\b\b\b\b\b\b\b\b\b\b\b\b\b\b\b\b\b\b\b\b\b\b\b\b\b\b\b\b\b\b\b\b\b\b\b\b\b\b\b\b\b\b\b\b\b\b\b\b\b\b\b\b\b\b\b\b\b\b\b\b\b\b\b\b\b\b\b\b\b\b\b\b\b\r 7/15 [=============>................] - ETA: 0s - loss: 1.5974 - accuracy: 0.2920\b\b\b\b\b\b\b\b\b\b\b\b\b\b\b\b\b\b\b\b\b\b\b\b\b\b\b\b\b\b\b\b\b\b\b\b\b\b\b\b\b\b\b\b\b\b\b\b\b\b\b\b\b\b\b\b\b\b\b\b\b\b\b\b\b\b\b\b\b\b\b\b\b\b\b\b\b\b\b\b\b\b\r13/15 [=========================>....] - ETA: 0s - loss: 1.5980 - accuracy: 0.3049\b\b\b\b\b\b\b\b\b\b\b\b\b\b\b\b\b\b\b\b\b\b\b\b\b\b\b\b\b\b\b\b\b\b\b\b\b\b\b\b\b\b\b\b\b\b\b\b\b\b\b\b\b\b\b\b\b\b\b\b\b\b\b\b\b\b\b\b\b\b\b\b\b\b\b\b\b\b\b\b\b\b\r15/15 [==============================] - 0s 15ms/step - loss: 1.5982 - accuracy: 0.3096 - val_loss: 1.6256 - val_accuracy: 0.1800\n",
            "Epoch 4/100\n",
            "\r 1/15 [=>............................] - ETA: 0s - loss: 1.5870 - accuracy: 0.3000\b\b\b\b\b\b\b\b\b\b\b\b\b\b\b\b\b\b\b\b\b\b\b\b\b\b\b\b\b\b\b\b\b\b\b\b\b\b\b\b\b\b\b\b\b\b\b\b\b\b\b\b\b\b\b\b\b\b\b\b\b\b\b\b\b\b\b\b\b\b\b\b\b\b\b\b\b\b\b\b\b\b\r 7/15 [=============>................] - ETA: 0s - loss: 1.5989 - accuracy: 0.2733\b\b\b\b\b\b\b\b\b\b\b\b\b\b\b\b\b\b\b\b\b\b\b\b\b\b\b\b\b\b\b\b\b\b\b\b\b\b\b\b\b\b\b\b\b\b\b\b\b\b\b\b\b\b\b\b\b\b\b\b\b\b\b\b\b\b\b\b\b\b\b\b\b\b\b\b\b\b\b\b\b\b\r12/15 [=======================>......] - ETA: 0s - loss: 1.5979 - accuracy: 0.3076\b\b\b\b\b\b\b\b\b\b\b\b\b\b\b\b\b\b\b\b\b\b\b\b\b\b\b\b\b\b\b\b\b\b\b\b\b\b\b\b\b\b\b\b\b\b\b\b\b\b\b\b\b\b\b\b\b\b\b\b\b\b\b\b\b\b\b\b\b\b\b\b\b\b\b\b\b\b\b\b\b\b\r15/15 [==============================] - 0s 14ms/step - loss: 1.5964 - accuracy: 0.3281 - val_loss: 1.6288 - val_accuracy: 0.2000\n",
            "Epoch 5/100\n",
            "\r 1/15 [=>............................] - ETA: 0s - loss: 1.5772 - accuracy: 0.4000\b\b\b\b\b\b\b\b\b\b\b\b\b\b\b\b\b\b\b\b\b\b\b\b\b\b\b\b\b\b\b\b\b\b\b\b\b\b\b\b\b\b\b\b\b\b\b\b\b\b\b\b\b\b\b\b\b\b\b\b\b\b\b\b\b\b\b\b\b\b\b\b\b\b\b\b\b\b\b\b\b\b\r 7/15 [=============>................] - ETA: 0s - loss: 1.5839 - accuracy: 0.3239\b\b\b\b\b\b\b\b\b\b\b\b\b\b\b\b\b\b\b\b\b\b\b\b\b\b\b\b\b\b\b\b\b\b\b\b\b\b\b\b\b\b\b\b\b\b\b\b\b\b\b\b\b\b\b\b\b\b\b\b\b\b\b\b\b\b\b\b\b\b\b\b\b\b\b\b\b\b\b\b\b\b\r13/15 [=========================>....] - ETA: 0s - loss: 1.5819 - accuracy: 0.3508\b\b\b\b\b\b\b\b\b\b\b\b\b\b\b\b\b\b\b\b\b\b\b\b\b\b\b\b\b\b\b\b\b\b\b\b\b\b\b\b\b\b\b\b\b\b\b\b\b\b\b\b\b\b\b\b\b\b\b\b\b\b\b\b\b\b\b\b\b\b\b\b\b\b\b\b\b\b\b\b\b\b\r15/15 [==============================] - 0s 13ms/step - loss: 1.5820 - accuracy: 0.3592 - val_loss: 1.6414 - val_accuracy: 0.1800\n",
            "Epoch 6/100\n",
            "\r 1/15 [=>............................] - ETA: 0s - loss: 1.5814 - accuracy: 0.6000\b\b\b\b\b\b\b\b\b\b\b\b\b\b\b\b\b\b\b\b\b\b\b\b\b\b\b\b\b\b\b\b\b\b\b\b\b\b\b\b\b\b\b\b\b\b\b\b\b\b\b\b\b\b\b\b\b\b\b\b\b\b\b\b\b\b\b\b\b\b\b\b\b\b\b\b\b\b\b\b\b\b\r 7/15 [=============>................] - ETA: 0s - loss: 1.5806 - accuracy: 0.4126\b\b\b\b\b\b\b\b\b\b\b\b\b\b\b\b\b\b\b\b\b\b\b\b\b\b\b\b\b\b\b\b\b\b\b\b\b\b\b\b\b\b\b\b\b\b\b\b\b\b\b\b\b\b\b\b\b\b\b\b\b\b\b\b\b\b\b\b\b\b\b\b\b\b\b\b\b\b\b\b\b\b\r13/15 [=========================>....] - ETA: 0s - loss: 1.5772 - accuracy: 0.4001\b\b\b\b\b\b\b\b\b\b\b\b\b\b\b\b\b\b\b\b\b\b\b\b\b\b\b\b\b\b\b\b\b\b\b\b\b\b\b\b\b\b\b\b\b\b\b\b\b\b\b\b\b\b\b\b\b\b\b\b\b\b\b\b\b\b\b\b\b\b\b\b\b\b\b\b\b\b\b\b\b\b\r15/15 [==============================] - 0s 13ms/step - loss: 1.5766 - accuracy: 0.3941 - val_loss: 1.6439 - val_accuracy: 0.1800\n",
            "Epoch 7/100\n",
            "\r 1/15 [=>............................] - ETA: 0s - loss: 1.5865 - accuracy: 0.1000\b\b\b\b\b\b\b\b\b\b\b\b\b\b\b\b\b\b\b\b\b\b\b\b\b\b\b\b\b\b\b\b\b\b\b\b\b\b\b\b\b\b\b\b\b\b\b\b\b\b\b\b\b\b\b\b\b\b\b\b\b\b\b\b\b\b\b\b\b\b\b\b\b\b\b\b\b\b\b\b\b\b\r 7/15 [=============>................] - ETA: 0s - loss: 1.5607 - accuracy: 0.3093\b\b\b\b\b\b\b\b\b\b\b\b\b\b\b\b\b\b\b\b\b\b\b\b\b\b\b\b\b\b\b\b\b\b\b\b\b\b\b\b\b\b\b\b\b\b\b\b\b\b\b\b\b\b\b\b\b\b\b\b\b\b\b\b\b\b\b\b\b\b\b\b\b\b\b\b\b\b\b\b\b\b\r12/15 [=======================>......] - ETA: 0s - loss: 1.5579 - accuracy: 0.3471\b\b\b\b\b\b\b\b\b\b\b\b\b\b\b\b\b\b\b\b\b\b\b\b\b\b\b\b\b\b\b\b\b\b\b\b\b\b\b\b\b\b\b\b\b\b\b\b\b\b\b\b\b\b\b\b\b\b\b\b\b\b\b\b\b\b\b\b\b\b\b\b\b\b\b\b\b\b\b\b\b\b\r15/15 [==============================] - 0s 14ms/step - loss: 1.5559 - accuracy: 0.3560 - val_loss: 1.6395 - val_accuracy: 0.2400\n",
            "Epoch 8/100\n",
            "\r 1/15 [=>............................] - ETA: 0s - loss: 1.5167 - accuracy: 0.2000\b\b\b\b\b\b\b\b\b\b\b\b\b\b\b\b\b\b\b\b\b\b\b\b\b\b\b\b\b\b\b\b\b\b\b\b\b\b\b\b\b\b\b\b\b\b\b\b\b\b\b\b\b\b\b\b\b\b\b\b\b\b\b\b\b\b\b\b\b\b\b\b\b\b\b\b\b\b\b\b\b\b\r 7/15 [=============>................] - ETA: 0s - loss: 1.5178 - accuracy: 0.3780\b\b\b\b\b\b\b\b\b\b\b\b\b\b\b\b\b\b\b\b\b\b\b\b\b\b\b\b\b\b\b\b\b\b\b\b\b\b\b\b\b\b\b\b\b\b\b\b\b\b\b\b\b\b\b\b\b\b\b\b\b\b\b\b\b\b\b\b\b\b\b\b\b\b\b\b\b\b\b\b\b\b\r13/15 [=========================>....] - ETA: 0s - loss: 1.5175 - accuracy: 0.3989\b\b\b\b\b\b\b\b\b\b\b\b\b\b\b\b\b\b\b\b\b\b\b\b\b\b\b\b\b\b\b\b\b\b\b\b\b\b\b\b\b\b\b\b\b\b\b\b\b\b\b\b\b\b\b\b\b\b\b\b\b\b\b\b\b\b\b\b\b\b\b\b\b\b\b\b\b\b\b\b\b\b\r15/15 [==============================] - 0s 12ms/step - loss: 1.5163 - accuracy: 0.4093 - val_loss: 1.6403 - val_accuracy: 0.2000\n",
            "Epoch 9/100\n",
            "\r 1/15 [=>............................] - ETA: 0s - loss: 1.5595 - accuracy: 0.5000\b\b\b\b\b\b\b\b\b\b\b\b\b\b\b\b\b\b\b\b\b\b\b\b\b\b\b\b\b\b\b\b\b\b\b\b\b\b\b\b\b\b\b\b\b\b\b\b\b\b\b\b\b\b\b\b\b\b\b\b\b\b\b\b\b\b\b\b\b\b\b\b\b\b\b\b\b\b\b\b\b\b\r 7/15 [=============>................] - ETA: 0s - loss: 1.5016 - accuracy: 0.4993\b\b\b\b\b\b\b\b\b\b\b\b\b\b\b\b\b\b\b\b\b\b\b\b\b\b\b\b\b\b\b\b\b\b\b\b\b\b\b\b\b\b\b\b\b\b\b\b\b\b\b\b\b\b\b\b\b\b\b\b\b\b\b\b\b\b\b\b\b\b\b\b\b\b\b\b\b\b\b\b\b\b\r13/15 [=========================>....] - ETA: 0s - loss: 1.4891 - accuracy: 0.4970\b\b\b\b\b\b\b\b\b\b\b\b\b\b\b\b\b\b\b\b\b\b\b\b\b\b\b\b\b\b\b\b\b\b\b\b\b\b\b\b\b\b\b\b\b\b\b\b\b\b\b\b\b\b\b\b\b\b\b\b\b\b\b\b\b\b\b\b\b\b\b\b\b\b\b\b\b\b\b\b\b\b\r15/15 [==============================] - 0s 13ms/step - loss: 1.4842 - accuracy: 0.5002 - val_loss: 1.6337 - val_accuracy: 0.2200\n",
            "Epoch 10/100\n",
            "\r 1/15 [=>............................] - ETA: 0s - loss: 1.4238 - accuracy: 0.4000\b\b\b\b\b\b\b\b\b\b\b\b\b\b\b\b\b\b\b\b\b\b\b\b\b\b\b\b\b\b\b\b\b\b\b\b\b\b\b\b\b\b\b\b\b\b\b\b\b\b\b\b\b\b\b\b\b\b\b\b\b\b\b\b\b\b\b\b\b\b\b\b\b\b\b\b\b\b\b\b\b\b\r 7/15 [=============>................] - ETA: 0s - loss: 1.3912 - accuracy: 0.4786\b\b\b\b\b\b\b\b\b\b\b\b\b\b\b\b\b\b\b\b\b\b\b\b\b\b\b\b\b\b\b\b\b\b\b\b\b\b\b\b\b\b\b\b\b\b\b\b\b\b\b\b\b\b\b\b\b\b\b\b\b\b\b\b\b\b\b\b\b\b\b\b\b\b\b\b\b\b\b\b\b\b\r13/15 [=========================>....] - ETA: 0s - loss: 1.3885 - accuracy: 0.4796\b\b\b\b\b\b\b\b\b\b\b\b\b\b\b\b\b\b\b\b\b\b\b\b\b\b\b\b\b\b\b\b\b\b\b\b\b\b\b\b\b\b\b\b\b\b\b\b\b\b\b\b\b\b\b\b\b\b\b\b\b\b\b\b\b\b\b\b\b\b\b\b\b\b\b\b\b\b\b\b\b\b\r15/15 [==============================] - 0s 13ms/step - loss: 1.3881 - accuracy: 0.4856 - val_loss: 1.6137 - val_accuracy: 0.2600\n",
            "Epoch 11/100\n",
            "\r 1/15 [=>............................] - ETA: 0s - loss: 1.3155 - accuracy: 0.7000\b\b\b\b\b\b\b\b\b\b\b\b\b\b\b\b\b\b\b\b\b\b\b\b\b\b\b\b\b\b\b\b\b\b\b\b\b\b\b\b\b\b\b\b\b\b\b\b\b\b\b\b\b\b\b\b\b\b\b\b\b\b\b\b\b\b\b\b\b\b\b\b\b\b\b\b\b\b\b\b\b\b\r 7/15 [=============>................] - ETA: 0s - loss: 1.2677 - accuracy: 0.7221\b\b\b\b\b\b\b\b\b\b\b\b\b\b\b\b\b\b\b\b\b\b\b\b\b\b\b\b\b\b\b\b\b\b\b\b\b\b\b\b\b\b\b\b\b\b\b\b\b\b\b\b\b\b\b\b\b\b\b\b\b\b\b\b\b\b\b\b\b\b\b\b\b\b\b\b\b\b\b\b\b\b\r13/15 [=========================>....] - ETA: 0s - loss: 1.2850 - accuracy: 0.6664\b\b\b\b\b\b\b\b\b\b\b\b\b\b\b\b\b\b\b\b\b\b\b\b\b\b\b\b\b\b\b\b\b\b\b\b\b\b\b\b\b\b\b\b\b\b\b\b\b\b\b\b\b\b\b\b\b\b\b\b\b\b\b\b\b\b\b\b\b\b\b\b\b\b\b\b\b\b\b\b\b\b\r15/15 [==============================] - 0s 13ms/step - loss: 1.2904 - accuracy: 0.6476 - val_loss: 1.5865 - val_accuracy: 0.3000\n",
            "Epoch 12/100\n",
            "\r 1/15 [=>............................] - ETA: 0s - loss: 1.3048 - accuracy: 0.7000\b\b\b\b\b\b\b\b\b\b\b\b\b\b\b\b\b\b\b\b\b\b\b\b\b\b\b\b\b\b\b\b\b\b\b\b\b\b\b\b\b\b\b\b\b\b\b\b\b\b\b\b\b\b\b\b\b\b\b\b\b\b\b\b\b\b\b\b\b\b\b\b\b\b\b\b\b\b\b\b\b\b\r 7/15 [=============>................] - ETA: 0s - loss: 1.2410 - accuracy: 0.6498\b\b\b\b\b\b\b\b\b\b\b\b\b\b\b\b\b\b\b\b\b\b\b\b\b\b\b\b\b\b\b\b\b\b\b\b\b\b\b\b\b\b\b\b\b\b\b\b\b\b\b\b\b\b\b\b\b\b\b\b\b\b\b\b\b\b\b\b\b\b\b\b\b\b\b\b\b\b\b\b\b\b\r13/15 [=========================>....] - ETA: 0s - loss: 1.2276 - accuracy: 0.6096\b\b\b\b\b\b\b\b\b\b\b\b\b\b\b\b\b\b\b\b\b\b\b\b\b\b\b\b\b\b\b\b\b\b\b\b\b\b\b\b\b\b\b\b\b\b\b\b\b\b\b\b\b\b\b\b\b\b\b\b\b\b\b\b\b\b\b\b\b\b\b\b\b\b\b\b\b\b\b\b\b\b\r15/15 [==============================] - 0s 14ms/step - loss: 1.2241 - accuracy: 0.5963 - val_loss: 1.5733 - val_accuracy: 0.2800\n",
            "Epoch 13/100\n",
            "\r 1/15 [=>............................] - ETA: 0s - loss: 1.0120 - accuracy: 0.8000\b\b\b\b\b\b\b\b\b\b\b\b\b\b\b\b\b\b\b\b\b\b\b\b\b\b\b\b\b\b\b\b\b\b\b\b\b\b\b\b\b\b\b\b\b\b\b\b\b\b\b\b\b\b\b\b\b\b\b\b\b\b\b\b\b\b\b\b\b\b\b\b\b\b\b\b\b\b\b\b\b\b\r 7/15 [=============>................] - ETA: 0s - loss: 1.0433 - accuracy: 0.6872\b\b\b\b\b\b\b\b\b\b\b\b\b\b\b\b\b\b\b\b\b\b\b\b\b\b\b\b\b\b\b\b\b\b\b\b\b\b\b\b\b\b\b\b\b\b\b\b\b\b\b\b\b\b\b\b\b\b\b\b\b\b\b\b\b\b\b\b\b\b\b\b\b\b\b\b\b\b\b\b\b\b\r13/15 [=========================>....] - ETA: 0s - loss: 1.0673 - accuracy: 0.6395\b\b\b\b\b\b\b\b\b\b\b\b\b\b\b\b\b\b\b\b\b\b\b\b\b\b\b\b\b\b\b\b\b\b\b\b\b\b\b\b\b\b\b\b\b\b\b\b\b\b\b\b\b\b\b\b\b\b\b\b\b\b\b\b\b\b\b\b\b\b\b\b\b\b\b\b\b\b\b\b\b\b\r15/15 [==============================] - 0s 13ms/step - loss: 1.0721 - accuracy: 0.6283 - val_loss: 1.5157 - val_accuracy: 0.3200\n",
            "Epoch 14/100\n",
            "\r 1/15 [=>............................] - ETA: 0s - loss: 1.2467 - accuracy: 0.5000\b\b\b\b\b\b\b\b\b\b\b\b\b\b\b\b\b\b\b\b\b\b\b\b\b\b\b\b\b\b\b\b\b\b\b\b\b\b\b\b\b\b\b\b\b\b\b\b\b\b\b\b\b\b\b\b\b\b\b\b\b\b\b\b\b\b\b\b\b\b\b\b\b\b\b\b\b\b\b\b\b\b\r 7/15 [=============>................] - ETA: 0s - loss: 1.1215 - accuracy: 0.5458\b\b\b\b\b\b\b\b\b\b\b\b\b\b\b\b\b\b\b\b\b\b\b\b\b\b\b\b\b\b\b\b\b\b\b\b\b\b\b\b\b\b\b\b\b\b\b\b\b\b\b\b\b\b\b\b\b\b\b\b\b\b\b\b\b\b\b\b\b\b\b\b\b\b\b\b\b\b\b\b\b\b\r13/15 [=========================>....] - ETA: 0s - loss: 1.0704 - accuracy: 0.5784\b\b\b\b\b\b\b\b\b\b\b\b\b\b\b\b\b\b\b\b\b\b\b\b\b\b\b\b\b\b\b\b\b\b\b\b\b\b\b\b\b\b\b\b\b\b\b\b\b\b\b\b\b\b\b\b\b\b\b\b\b\b\b\b\b\b\b\b\b\b\b\b\b\b\b\b\b\b\b\b\b\b\r15/15 [==============================] - 0s 13ms/step - loss: 1.0603 - accuracy: 0.5846 - val_loss: 1.4620 - val_accuracy: 0.3600\n",
            "Epoch 15/100\n",
            "\r 1/15 [=>............................] - ETA: 0s - loss: 0.9138 - accuracy: 0.6000\b\b\b\b\b\b\b\b\b\b\b\b\b\b\b\b\b\b\b\b\b\b\b\b\b\b\b\b\b\b\b\b\b\b\b\b\b\b\b\b\b\b\b\b\b\b\b\b\b\b\b\b\b\b\b\b\b\b\b\b\b\b\b\b\b\b\b\b\b\b\b\b\b\b\b\b\b\b\b\b\b\b\r 6/15 [===========>..................] - ETA: 0s - loss: 0.8523 - accuracy: 0.6275\b\b\b\b\b\b\b\b\b\b\b\b\b\b\b\b\b\b\b\b\b\b\b\b\b\b\b\b\b\b\b\b\b\b\b\b\b\b\b\b\b\b\b\b\b\b\b\b\b\b\b\b\b\b\b\b\b\b\b\b\b\b\b\b\b\b\b\b\b\b\b\b\b\b\b\b\b\b\b\b\b\b\r11/15 [=====================>........] - ETA: 0s - loss: 0.8625 - accuracy: 0.6535\b\b\b\b\b\b\b\b\b\b\b\b\b\b\b\b\b\b\b\b\b\b\b\b\b\b\b\b\b\b\b\b\b\b\b\b\b\b\b\b\b\b\b\b\b\b\b\b\b\b\b\b\b\b\b\b\b\b\b\b\b\b\b\b\b\b\b\b\b\b\b\b\b\b\b\b\b\b\b\b\b\b\r15/15 [==============================] - 0s 14ms/step - loss: 0.8709 - accuracy: 0.6674 - val_loss: 1.4644 - val_accuracy: 0.3600\n",
            "Epoch 16/100\n",
            "\r 1/15 [=>............................] - ETA: 0s - loss: 0.7499 - accuracy: 0.8000\b\b\b\b\b\b\b\b\b\b\b\b\b\b\b\b\b\b\b\b\b\b\b\b\b\b\b\b\b\b\b\b\b\b\b\b\b\b\b\b\b\b\b\b\b\b\b\b\b\b\b\b\b\b\b\b\b\b\b\b\b\b\b\b\b\b\b\b\b\b\b\b\b\b\b\b\b\b\b\b\b\b\r 7/15 [=============>................] - ETA: 0s - loss: 0.8541 - accuracy: 0.6873\b\b\b\b\b\b\b\b\b\b\b\b\b\b\b\b\b\b\b\b\b\b\b\b\b\b\b\b\b\b\b\b\b\b\b\b\b\b\b\b\b\b\b\b\b\b\b\b\b\b\b\b\b\b\b\b\b\b\b\b\b\b\b\b\b\b\b\b\b\b\b\b\b\b\b\b\b\b\b\b\b\b\r13/15 [=========================>....] - ETA: 0s - loss: 0.8723 - accuracy: 0.6844\b\b\b\b\b\b\b\b\b\b\b\b\b\b\b\b\b\b\b\b\b\b\b\b\b\b\b\b\b\b\b\b\b\b\b\b\b\b\b\b\b\b\b\b\b\b\b\b\b\b\b\b\b\b\b\b\b\b\b\b\b\b\b\b\b\b\b\b\b\b\b\b\b\b\b\b\b\b\b\b\b\b\r15/15 [==============================] - 0s 13ms/step - loss: 0.8714 - accuracy: 0.6886 - val_loss: 1.4643 - val_accuracy: 0.3800\n",
            "Epoch 17/100\n",
            "\r 1/15 [=>............................] - ETA: 0s - loss: 0.6890 - accuracy: 0.9000\b\b\b\b\b\b\b\b\b\b\b\b\b\b\b\b\b\b\b\b\b\b\b\b\b\b\b\b\b\b\b\b\b\b\b\b\b\b\b\b\b\b\b\b\b\b\b\b\b\b\b\b\b\b\b\b\b\b\b\b\b\b\b\b\b\b\b\b\b\b\b\b\b\b\b\b\b\b\b\b\b\b\r 7/15 [=============>................] - ETA: 0s - loss: 0.7565 - accuracy: 0.7605\b\b\b\b\b\b\b\b\b\b\b\b\b\b\b\b\b\b\b\b\b\b\b\b\b\b\b\b\b\b\b\b\b\b\b\b\b\b\b\b\b\b\b\b\b\b\b\b\b\b\b\b\b\b\b\b\b\b\b\b\b\b\b\b\b\b\b\b\b\b\b\b\b\b\b\b\b\b\b\b\b\b\r13/15 [=========================>....] - ETA: 0s - loss: 0.7972 - accuracy: 0.7207\b\b\b\b\b\b\b\b\b\b\b\b\b\b\b\b\b\b\b\b\b\b\b\b\b\b\b\b\b\b\b\b\b\b\b\b\b\b\b\b\b\b\b\b\b\b\b\b\b\b\b\b\b\b\b\b\b\b\b\b\b\b\b\b\b\b\b\b\b\b\b\b\b\b\b\b\b\b\b\b\b\b\r15/15 [==============================] - 0s 13ms/step - loss: 0.7995 - accuracy: 0.7172 - val_loss: 1.4442 - val_accuracy: 0.3000\n",
            "Epoch 18/100\n",
            "\r 1/15 [=>............................] - ETA: 0s - loss: 1.0549 - accuracy: 0.5000\b\b\b\b\b\b\b\b\b\b\b\b\b\b\b\b\b\b\b\b\b\b\b\b\b\b\b\b\b\b\b\b\b\b\b\b\b\b\b\b\b\b\b\b\b\b\b\b\b\b\b\b\b\b\b\b\b\b\b\b\b\b\b\b\b\b\b\b\b\b\b\b\b\b\b\b\b\b\b\b\b\b\r 6/15 [===========>..................] - ETA: 0s - loss: 0.8357 - accuracy: 0.6714\b\b\b\b\b\b\b\b\b\b\b\b\b\b\b\b\b\b\b\b\b\b\b\b\b\b\b\b\b\b\b\b\b\b\b\b\b\b\b\b\b\b\b\b\b\b\b\b\b\b\b\b\b\b\b\b\b\b\b\b\b\b\b\b\b\b\b\b\b\b\b\b\b\b\b\b\b\b\b\b\b\b\r12/15 [=======================>......] - ETA: 0s - loss: 0.7904 - accuracy: 0.6949\b\b\b\b\b\b\b\b\b\b\b\b\b\b\b\b\b\b\b\b\b\b\b\b\b\b\b\b\b\b\b\b\b\b\b\b\b\b\b\b\b\b\b\b\b\b\b\b\b\b\b\b\b\b\b\b\b\b\b\b\b\b\b\b\b\b\b\b\b\b\b\b\b\b\b\b\b\b\b\b\b\b\r15/15 [==============================] - 0s 13ms/step - loss: 0.7828 - accuracy: 0.6957 - val_loss: 1.4852 - val_accuracy: 0.3400\n",
            "Epoch 19/100\n",
            "\r 1/15 [=>............................] - ETA: 0s - loss: 0.6424 - accuracy: 0.8000\b\b\b\b\b\b\b\b\b\b\b\b\b\b\b\b\b\b\b\b\b\b\b\b\b\b\b\b\b\b\b\b\b\b\b\b\b\b\b\b\b\b\b\b\b\b\b\b\b\b\b\b\b\b\b\b\b\b\b\b\b\b\b\b\b\b\b\b\b\b\b\b\b\b\b\b\b\b\b\b\b\b\r 7/15 [=============>................] - ETA: 0s - loss: 0.6436 - accuracy: 0.8200\b\b\b\b\b\b\b\b\b\b\b\b\b\b\b\b\b\b\b\b\b\b\b\b\b\b\b\b\b\b\b\b\b\b\b\b\b\b\b\b\b\b\b\b\b\b\b\b\b\b\b\b\b\b\b\b\b\b\b\b\b\b\b\b\b\b\b\b\b\b\b\b\b\b\b\b\b\b\b\b\b\b\r13/15 [=========================>....] - ETA: 0s - loss: 0.6956 - accuracy: 0.8027\b\b\b\b\b\b\b\b\b\b\b\b\b\b\b\b\b\b\b\b\b\b\b\b\b\b\b\b\b\b\b\b\b\b\b\b\b\b\b\b\b\b\b\b\b\b\b\b\b\b\b\b\b\b\b\b\b\b\b\b\b\b\b\b\b\b\b\b\b\b\b\b\b\b\b\b\b\b\b\b\b\b\r15/15 [==============================] - 0s 13ms/step - loss: 0.7044 - accuracy: 0.7962 - val_loss: 1.5071 - val_accuracy: 0.3600\n",
            "Epoch 20/100\n",
            "\r 1/15 [=>............................] - ETA: 0s - loss: 0.9885 - accuracy: 0.6000\b\b\b\b\b\b\b\b\b\b\b\b\b\b\b\b\b\b\b\b\b\b\b\b\b\b\b\b\b\b\b\b\b\b\b\b\b\b\b\b\b\b\b\b\b\b\b\b\b\b\b\b\b\b\b\b\b\b\b\b\b\b\b\b\b\b\b\b\b\b\b\b\b\b\b\b\b\b\b\b\b\b\r 7/15 [=============>................] - ETA: 0s - loss: 0.6821 - accuracy: 0.7750\b\b\b\b\b\b\b\b\b\b\b\b\b\b\b\b\b\b\b\b\b\b\b\b\b\b\b\b\b\b\b\b\b\b\b\b\b\b\b\b\b\b\b\b\b\b\b\b\b\b\b\b\b\b\b\b\b\b\b\b\b\b\b\b\b\b\b\b\b\b\b\b\b\b\b\b\b\b\b\b\b\b\r13/15 [=========================>....] - ETA: 0s - loss: 0.6353 - accuracy: 0.7930\b\b\b\b\b\b\b\b\b\b\b\b\b\b\b\b\b\b\b\b\b\b\b\b\b\b\b\b\b\b\b\b\b\b\b\b\b\b\b\b\b\b\b\b\b\b\b\b\b\b\b\b\b\b\b\b\b\b\b\b\b\b\b\b\b\b\b\b\b\b\b\b\b\b\b\b\b\b\b\b\b\b\r15/15 [==============================] - 0s 13ms/step - loss: 0.6246 - accuracy: 0.7964 - val_loss: 1.5411 - val_accuracy: 0.3600\n",
            "Epoch 21/100\n",
            "\r 1/15 [=>............................] - ETA: 0s - loss: 0.6235 - accuracy: 0.8000\b\b\b\b\b\b\b\b\b\b\b\b\b\b\b\b\b\b\b\b\b\b\b\b\b\b\b\b\b\b\b\b\b\b\b\b\b\b\b\b\b\b\b\b\b\b\b\b\b\b\b\b\b\b\b\b\b\b\b\b\b\b\b\b\b\b\b\b\b\b\b\b\b\b\b\b\b\b\b\b\b\b\r 7/15 [=============>................] - ETA: 0s - loss: 0.5804 - accuracy: 0.8131\b\b\b\b\b\b\b\b\b\b\b\b\b\b\b\b\b\b\b\b\b\b\b\b\b\b\b\b\b\b\b\b\b\b\b\b\b\b\b\b\b\b\b\b\b\b\b\b\b\b\b\b\b\b\b\b\b\b\b\b\b\b\b\b\b\b\b\b\b\b\b\b\b\b\b\b\b\b\b\b\b\b\r13/15 [=========================>....] - ETA: 0s - loss: 0.5699 - accuracy: 0.8139\b\b\b\b\b\b\b\b\b\b\b\b\b\b\b\b\b\b\b\b\b\b\b\b\b\b\b\b\b\b\b\b\b\b\b\b\b\b\b\b\b\b\b\b\b\b\b\b\b\b\b\b\b\b\b\b\b\b\b\b\b\b\b\b\b\b\b\b\b\b\b\b\b\b\b\b\b\b\b\b\b\b\r15/15 [==============================] - 0s 13ms/step - loss: 0.5675 - accuracy: 0.8113 - val_loss: 1.5529 - val_accuracy: 0.3400\n",
            "Epoch 22/100\n",
            "\r 1/15 [=>............................] - ETA: 0s - loss: 0.8755 - accuracy: 0.7000\b\b\b\b\b\b\b\b\b\b\b\b\b\b\b\b\b\b\b\b\b\b\b\b\b\b\b\b\b\b\b\b\b\b\b\b\b\b\b\b\b\b\b\b\b\b\b\b\b\b\b\b\b\b\b\b\b\b\b\b\b\b\b\b\b\b\b\b\b\b\b\b\b\b\b\b\b\b\b\b\b\b\r 6/15 [===========>..................] - ETA: 0s - loss: 0.6813 - accuracy: 0.7875\b\b\b\b\b\b\b\b\b\b\b\b\b\b\b\b\b\b\b\b\b\b\b\b\b\b\b\b\b\b\b\b\b\b\b\b\b\b\b\b\b\b\b\b\b\b\b\b\b\b\b\b\b\b\b\b\b\b\b\b\b\b\b\b\b\b\b\b\b\b\b\b\b\b\b\b\b\b\b\b\b\b\r12/15 [=======================>......] - ETA: 0s - loss: 0.6359 - accuracy: 0.7999\b\b\b\b\b\b\b\b\b\b\b\b\b\b\b\b\b\b\b\b\b\b\b\b\b\b\b\b\b\b\b\b\b\b\b\b\b\b\b\b\b\b\b\b\b\b\b\b\b\b\b\b\b\b\b\b\b\b\b\b\b\b\b\b\b\b\b\b\b\b\b\b\b\b\b\b\b\b\b\b\b\b\r15/15 [==============================] - 0s 13ms/step - loss: 0.6139 - accuracy: 0.8070 - val_loss: 1.5804 - val_accuracy: 0.3600\n",
            "Epoch 23/100\n",
            "\r 1/15 [=>............................] - ETA: 0s - loss: 0.4715 - accuracy: 1.0000\b\b\b\b\b\b\b\b\b\b\b\b\b\b\b\b\b\b\b\b\b\b\b\b\b\b\b\b\b\b\b\b\b\b\b\b\b\b\b\b\b\b\b\b\b\b\b\b\b\b\b\b\b\b\b\b\b\b\b\b\b\b\b\b\b\b\b\b\b\b\b\b\b\b\b\b\b\b\b\b\b\b\r 7/15 [=============>................] - ETA: 0s - loss: 0.4607 - accuracy: 0.9102\b\b\b\b\b\b\b\b\b\b\b\b\b\b\b\b\b\b\b\b\b\b\b\b\b\b\b\b\b\b\b\b\b\b\b\b\b\b\b\b\b\b\b\b\b\b\b\b\b\b\b\b\b\b\b\b\b\b\b\b\b\b\b\b\b\b\b\b\b\b\b\b\b\b\b\b\b\b\b\b\b\b\r12/15 [=======================>......] - ETA: 0s - loss: 0.4742 - accuracy: 0.8836\b\b\b\b\b\b\b\b\b\b\b\b\b\b\b\b\b\b\b\b\b\b\b\b\b\b\b\b\b\b\b\b\b\b\b\b\b\b\b\b\b\b\b\b\b\b\b\b\b\b\b\b\b\b\b\b\b\b\b\b\b\b\b\b\b\b\b\b\b\b\b\b\b\b\b\b\b\b\b\b\b\b\r15/15 [==============================] - 0s 13ms/step - loss: 0.4832 - accuracy: 0.8718 - val_loss: 1.6992 - val_accuracy: 0.3800\n",
            "Epoch 24/100\n",
            "\r 1/15 [=>............................] - ETA: 0s - loss: 0.5864 - accuracy: 0.7000\b\b\b\b\b\b\b\b\b\b\b\b\b\b\b\b\b\b\b\b\b\b\b\b\b\b\b\b\b\b\b\b\b\b\b\b\b\b\b\b\b\b\b\b\b\b\b\b\b\b\b\b\b\b\b\b\b\b\b\b\b\b\b\b\b\b\b\b\b\b\b\b\b\b\b\b\b\b\b\b\b\b\r 7/15 [=============>................] - ETA: 0s - loss: 0.4723 - accuracy: 0.8095\b\b\b\b\b\b\b\b\b\b\b\b\b\b\b\b\b\b\b\b\b\b\b\b\b\b\b\b\b\b\b\b\b\b\b\b\b\b\b\b\b\b\b\b\b\b\b\b\b\b\b\b\b\b\b\b\b\b\b\b\b\b\b\b\b\b\b\b\b\b\b\b\b\b\b\b\b\b\b\b\b\b\r13/15 [=========================>....] - ETA: 0s - loss: 0.4429 - accuracy: 0.8367\b\b\b\b\b\b\b\b\b\b\b\b\b\b\b\b\b\b\b\b\b\b\b\b\b\b\b\b\b\b\b\b\b\b\b\b\b\b\b\b\b\b\b\b\b\b\b\b\b\b\b\b\b\b\b\b\b\b\b\b\b\b\b\b\b\b\b\b\b\b\b\b\b\b\b\b\b\b\b\b\b\b\r15/15 [==============================] - 0s 13ms/step - loss: 0.4379 - accuracy: 0.8400 - val_loss: 1.6749 - val_accuracy: 0.3800\n",
            "Epoch 25/100\n",
            "\r 1/15 [=>............................] - ETA: 0s - loss: 0.6020 - accuracy: 0.7000\b\b\b\b\b\b\b\b\b\b\b\b\b\b\b\b\b\b\b\b\b\b\b\b\b\b\b\b\b\b\b\b\b\b\b\b\b\b\b\b\b\b\b\b\b\b\b\b\b\b\b\b\b\b\b\b\b\b\b\b\b\b\b\b\b\b\b\b\b\b\b\b\b\b\b\b\b\b\b\b\b\b\r 7/15 [=============>................] - ETA: 0s - loss: 0.4962 - accuracy: 0.8006\b\b\b\b\b\b\b\b\b\b\b\b\b\b\b\b\b\b\b\b\b\b\b\b\b\b\b\b\b\b\b\b\b\b\b\b\b\b\b\b\b\b\b\b\b\b\b\b\b\b\b\b\b\b\b\b\b\b\b\b\b\b\b\b\b\b\b\b\b\b\b\b\b\b\b\b\b\b\b\b\b\b\r13/15 [=========================>....] - ETA: 0s - loss: 0.4956 - accuracy: 0.8187\b\b\b\b\b\b\b\b\b\b\b\b\b\b\b\b\b\b\b\b\b\b\b\b\b\b\b\b\b\b\b\b\b\b\b\b\b\b\b\b\b\b\b\b\b\b\b\b\b\b\b\b\b\b\b\b\b\b\b\b\b\b\b\b\b\b\b\b\b\b\b\b\b\b\b\b\b\b\b\b\b\b\r15/15 [==============================] - 0s 13ms/step - loss: 0.4944 - accuracy: 0.8250 - val_loss: 1.7234 - val_accuracy: 0.3400\n",
            "Epoch 26/100\n",
            "\r 1/15 [=>............................] - ETA: 0s - loss: 0.9607 - accuracy: 0.7000\b\b\b\b\b\b\b\b\b\b\b\b\b\b\b\b\b\b\b\b\b\b\b\b\b\b\b\b\b\b\b\b\b\b\b\b\b\b\b\b\b\b\b\b\b\b\b\b\b\b\b\b\b\b\b\b\b\b\b\b\b\b\b\b\b\b\b\b\b\b\b\b\b\b\b\b\b\b\b\b\b\b\r 7/15 [=============>................] - ETA: 0s - loss: 0.6271 - accuracy: 0.8023\b\b\b\b\b\b\b\b\b\b\b\b\b\b\b\b\b\b\b\b\b\b\b\b\b\b\b\b\b\b\b\b\b\b\b\b\b\b\b\b\b\b\b\b\b\b\b\b\b\b\b\b\b\b\b\b\b\b\b\b\b\b\b\b\b\b\b\b\b\b\b\b\b\b\b\b\b\b\b\b\b\b\r13/15 [=========================>....] - ETA: 0s - loss: 0.5443 - accuracy: 0.8294\b\b\b\b\b\b\b\b\b\b\b\b\b\b\b\b\b\b\b\b\b\b\b\b\b\b\b\b\b\b\b\b\b\b\b\b\b\b\b\b\b\b\b\b\b\b\b\b\b\b\b\b\b\b\b\b\b\b\b\b\b\b\b\b\b\b\b\b\b\b\b\b\b\b\b\b\b\b\b\b\b\b\r15/15 [==============================] - 0s 12ms/step - loss: 0.5278 - accuracy: 0.8358 - val_loss: 1.7684 - val_accuracy: 0.4000\n",
            "Epoch 27/100\n",
            "\r 1/15 [=>............................] - ETA: 0s - loss: 0.3680 - accuracy: 0.9000\b\b\b\b\b\b\b\b\b\b\b\b\b\b\b\b\b\b\b\b\b\b\b\b\b\b\b\b\b\b\b\b\b\b\b\b\b\b\b\b\b\b\b\b\b\b\b\b\b\b\b\b\b\b\b\b\b\b\b\b\b\b\b\b\b\b\b\b\b\b\b\b\b\b\b\b\b\b\b\b\b\b\r 7/15 [=============>................] - ETA: 0s - loss: 0.3968 - accuracy: 0.8821\b\b\b\b\b\b\b\b\b\b\b\b\b\b\b\b\b\b\b\b\b\b\b\b\b\b\b\b\b\b\b\b\b\b\b\b\b\b\b\b\b\b\b\b\b\b\b\b\b\b\b\b\b\b\b\b\b\b\b\b\b\b\b\b\b\b\b\b\b\b\b\b\b\b\b\b\b\b\b\b\b\b\r14/15 [===========================>..] - ETA: 0s - loss: 0.3776 - accuracy: 0.8920\b\b\b\b\b\b\b\b\b\b\b\b\b\b\b\b\b\b\b\b\b\b\b\b\b\b\b\b\b\b\b\b\b\b\b\b\b\b\b\b\b\b\b\b\b\b\b\b\b\b\b\b\b\b\b\b\b\b\b\b\b\b\b\b\b\b\b\b\b\b\b\b\b\b\b\b\b\b\b\b\b\b\r15/15 [==============================] - 0s 11ms/step - loss: 0.3782 - accuracy: 0.8913 - val_loss: 1.8352 - val_accuracy: 0.3600\n",
            "Epoch 28/100\n",
            "\r 1/15 [=>............................] - ETA: 0s - loss: 0.1420 - accuracy: 1.0000\b\b\b\b\b\b\b\b\b\b\b\b\b\b\b\b\b\b\b\b\b\b\b\b\b\b\b\b\b\b\b\b\b\b\b\b\b\b\b\b\b\b\b\b\b\b\b\b\b\b\b\b\b\b\b\b\b\b\b\b\b\b\b\b\b\b\b\b\b\b\b\b\b\b\b\b\b\b\b\b\b\b\r 6/15 [===========>..................] - ETA: 0s - loss: 0.3243 - accuracy: 0.9042\b\b\b\b\b\b\b\b\b\b\b\b\b\b\b\b\b\b\b\b\b\b\b\b\b\b\b\b\b\b\b\b\b\b\b\b\b\b\b\b\b\b\b\b\b\b\b\b\b\b\b\b\b\b\b\b\b\b\b\b\b\b\b\b\b\b\b\b\b\b\b\b\b\b\b\b\b\b\b\b\b\b\r12/15 [=======================>......] - ETA: 0s - loss: 0.3412 - accuracy: 0.8925\b\b\b\b\b\b\b\b\b\b\b\b\b\b\b\b\b\b\b\b\b\b\b\b\b\b\b\b\b\b\b\b\b\b\b\b\b\b\b\b\b\b\b\b\b\b\b\b\b\b\b\b\b\b\b\b\b\b\b\b\b\b\b\b\b\b\b\b\b\b\b\b\b\b\b\b\b\b\b\b\b\b\r15/15 [==============================] - 0s 14ms/step - loss: 0.3507 - accuracy: 0.8887 - val_loss: 1.8466 - val_accuracy: 0.4000\n",
            "Epoch 29/100\n",
            "\r 1/15 [=>............................] - ETA: 0s - loss: 0.1556 - accuracy: 1.0000\b\b\b\b\b\b\b\b\b\b\b\b\b\b\b\b\b\b\b\b\b\b\b\b\b\b\b\b\b\b\b\b\b\b\b\b\b\b\b\b\b\b\b\b\b\b\b\b\b\b\b\b\b\b\b\b\b\b\b\b\b\b\b\b\b\b\b\b\b\b\b\b\b\b\b\b\b\b\b\b\b\b\r 7/15 [=============>................] - ETA: 0s - loss: 0.2646 - accuracy: 0.9294\b\b\b\b\b\b\b\b\b\b\b\b\b\b\b\b\b\b\b\b\b\b\b\b\b\b\b\b\b\b\b\b\b\b\b\b\b\b\b\b\b\b\b\b\b\b\b\b\b\b\b\b\b\b\b\b\b\b\b\b\b\b\b\b\b\b\b\b\b\b\b\b\b\b\b\b\b\b\b\b\b\b\r12/15 [=======================>......] - ETA: 0s - loss: 0.2951 - accuracy: 0.9124\b\b\b\b\b\b\b\b\b\b\b\b\b\b\b\b\b\b\b\b\b\b\b\b\b\b\b\b\b\b\b\b\b\b\b\b\b\b\b\b\b\b\b\b\b\b\b\b\b\b\b\b\b\b\b\b\b\b\b\b\b\b\b\b\b\b\b\b\b\b\b\b\b\b\b\b\b\b\b\b\b\b\r15/15 [==============================] - 0s 13ms/step - loss: 0.3054 - accuracy: 0.9076 - val_loss: 1.9285 - val_accuracy: 0.3800\n",
            "Epoch 30/100\n",
            "\r 1/15 [=>............................] - ETA: 0s - loss: 0.3106 - accuracy: 0.8000\b\b\b\b\b\b\b\b\b\b\b\b\b\b\b\b\b\b\b\b\b\b\b\b\b\b\b\b\b\b\b\b\b\b\b\b\b\b\b\b\b\b\b\b\b\b\b\b\b\b\b\b\b\b\b\b\b\b\b\b\b\b\b\b\b\b\b\b\b\b\b\b\b\b\b\b\b\b\b\b\b\b\r 7/15 [=============>................] - ETA: 0s - loss: 0.3585 - accuracy: 0.8212\b\b\b\b\b\b\b\b\b\b\b\b\b\b\b\b\b\b\b\b\b\b\b\b\b\b\b\b\b\b\b\b\b\b\b\b\b\b\b\b\b\b\b\b\b\b\b\b\b\b\b\b\b\b\b\b\b\b\b\b\b\b\b\b\b\b\b\b\b\b\b\b\b\b\b\b\b\b\b\b\b\b\r13/15 [=========================>....] - ETA: 0s - loss: 0.3448 - accuracy: 0.8428\b\b\b\b\b\b\b\b\b\b\b\b\b\b\b\b\b\b\b\b\b\b\b\b\b\b\b\b\b\b\b\b\b\b\b\b\b\b\b\b\b\b\b\b\b\b\b\b\b\b\b\b\b\b\b\b\b\b\b\b\b\b\b\b\b\b\b\b\b\b\b\b\b\b\b\b\b\b\b\b\b\b\r15/15 [==============================] - 0s 12ms/step - loss: 0.3401 - accuracy: 0.8518 - val_loss: 2.0588 - val_accuracy: 0.3400\n",
            "Epoch 31/100\n",
            "\r 1/15 [=>............................] - ETA: 0s - loss: 0.1709 - accuracy: 1.0000\b\b\b\b\b\b\b\b\b\b\b\b\b\b\b\b\b\b\b\b\b\b\b\b\b\b\b\b\b\b\b\b\b\b\b\b\b\b\b\b\b\b\b\b\b\b\b\b\b\b\b\b\b\b\b\b\b\b\b\b\b\b\b\b\b\b\b\b\b\b\b\b\b\b\b\b\b\b\b\b\b\b\r 7/15 [=============>................] - ETA: 0s - loss: 0.2991 - accuracy: 0.9207\b\b\b\b\b\b\b\b\b\b\b\b\b\b\b\b\b\b\b\b\b\b\b\b\b\b\b\b\b\b\b\b\b\b\b\b\b\b\b\b\b\b\b\b\b\b\b\b\b\b\b\b\b\b\b\b\b\b\b\b\b\b\b\b\b\b\b\b\b\b\b\b\b\b\b\b\b\b\b\b\b\b\r14/15 [===========================>..] - ETA: 0s - loss: 0.2939 - accuracy: 0.9187\b\b\b\b\b\b\b\b\b\b\b\b\b\b\b\b\b\b\b\b\b\b\b\b\b\b\b\b\b\b\b\b\b\b\b\b\b\b\b\b\b\b\b\b\b\b\b\b\b\b\b\b\b\b\b\b\b\b\b\b\b\b\b\b\b\b\b\b\b\b\b\b\b\b\b\b\b\b\b\b\b\b\r15/15 [==============================] - 0s 11ms/step - loss: 0.2949 - accuracy: 0.9180 - val_loss: 1.9703 - val_accuracy: 0.4400\n",
            "Epoch 32/100\n",
            "\r 1/15 [=>............................] - ETA: 0s - loss: 0.2595 - accuracy: 0.9000\b\b\b\b\b\b\b\b\b\b\b\b\b\b\b\b\b\b\b\b\b\b\b\b\b\b\b\b\b\b\b\b\b\b\b\b\b\b\b\b\b\b\b\b\b\b\b\b\b\b\b\b\b\b\b\b\b\b\b\b\b\b\b\b\b\b\b\b\b\b\b\b\b\b\b\b\b\b\b\b\b\b\r 8/15 [===============>..............] - ETA: 0s - loss: 0.2254 - accuracy: 0.9423\b\b\b\b\b\b\b\b\b\b\b\b\b\b\b\b\b\b\b\b\b\b\b\b\b\b\b\b\b\b\b\b\b\b\b\b\b\b\b\b\b\b\b\b\b\b\b\b\b\b\b\b\b\b\b\b\b\b\b\b\b\b\b\b\b\b\b\b\b\b\b\b\b\b\b\b\b\b\b\b\b\b\r15/15 [==============================] - 0s 10ms/step - loss: 0.2332 - accuracy: 0.9365 - val_loss: 2.1664 - val_accuracy: 0.3200\n",
            "Epoch 33/100\n",
            "\r 1/15 [=>............................] - ETA: 0s - loss: 0.4462 - accuracy: 0.8000\b\b\b\b\b\b\b\b\b\b\b\b\b\b\b\b\b\b\b\b\b\b\b\b\b\b\b\b\b\b\b\b\b\b\b\b\b\b\b\b\b\b\b\b\b\b\b\b\b\b\b\b\b\b\b\b\b\b\b\b\b\b\b\b\b\b\b\b\b\b\b\b\b\b\b\b\b\b\b\b\b\b\r 8/15 [===============>..............] - ETA: 0s - loss: 0.3079 - accuracy: 0.8931\b\b\b\b\b\b\b\b\b\b\b\b\b\b\b\b\b\b\b\b\b\b\b\b\b\b\b\b\b\b\b\b\b\b\b\b\b\b\b\b\b\b\b\b\b\b\b\b\b\b\b\b\b\b\b\b\b\b\b\b\b\b\b\b\b\b\b\b\b\b\b\b\b\b\b\b\b\b\b\b\b\b\r15/15 [==============================] - ETA: 0s - loss: 0.3055 - accuracy: 0.8955\b\b\b\b\b\b\b\b\b\b\b\b\b\b\b\b\b\b\b\b\b\b\b\b\b\b\b\b\b\b\b\b\b\b\b\b\b\b\b\b\b\b\b\b\b\b\b\b\b\b\b\b\b\b\b\b\b\b\b\b\b\b\b\b\b\b\b\b\b\b\b\b\b\b\b\b\b\b\b\b\b\b\r15/15 [==============================] - 0s 10ms/step - loss: 0.3049 - accuracy: 0.8962 - val_loss: 2.1133 - val_accuracy: 0.4000\n",
            "Epoch 34/100\n",
            "\r 1/15 [=>............................] - ETA: 0s - loss: 0.1948 - accuracy: 1.0000\b\b\b\b\b\b\b\b\b\b\b\b\b\b\b\b\b\b\b\b\b\b\b\b\b\b\b\b\b\b\b\b\b\b\b\b\b\b\b\b\b\b\b\b\b\b\b\b\b\b\b\b\b\b\b\b\b\b\b\b\b\b\b\b\b\b\b\b\b\b\b\b\b\b\b\b\b\b\b\b\b\b\r 9/15 [=================>............] - ETA: 0s - loss: 0.3124 - accuracy: 0.9162\b\b\b\b\b\b\b\b\b\b\b\b\b\b\b\b\b\b\b\b\b\b\b\b\b\b\b\b\b\b\b\b\b\b\b\b\b\b\b\b\b\b\b\b\b\b\b\b\b\b\b\b\b\b\b\b\b\b\b\b\b\b\b\b\b\b\b\b\b\b\b\b\b\b\b\b\b\b\b\b\b\b\r15/15 [==============================] - 0s 10ms/step - loss: 0.3156 - accuracy: 0.9044 - val_loss: 2.0696 - val_accuracy: 0.4200\n",
            "Epoch 35/100\n",
            "\r 1/15 [=>............................] - ETA: 0s - loss: 0.1707 - accuracy: 1.0000\b\b\b\b\b\b\b\b\b\b\b\b\b\b\b\b\b\b\b\b\b\b\b\b\b\b\b\b\b\b\b\b\b\b\b\b\b\b\b\b\b\b\b\b\b\b\b\b\b\b\b\b\b\b\b\b\b\b\b\b\b\b\b\b\b\b\b\b\b\b\b\b\b\b\b\b\b\b\b\b\b\b\r 8/15 [===============>..............] - ETA: 0s - loss: 0.2355 - accuracy: 0.9553\b\b\b\b\b\b\b\b\b\b\b\b\b\b\b\b\b\b\b\b\b\b\b\b\b\b\b\b\b\b\b\b\b\b\b\b\b\b\b\b\b\b\b\b\b\b\b\b\b\b\b\b\b\b\b\b\b\b\b\b\b\b\b\b\b\b\b\b\b\b\b\b\b\b\b\b\b\b\b\b\b\b\r15/15 [==============================] - 0s 10ms/step - loss: 0.2406 - accuracy: 0.9456 - val_loss: 2.1622 - val_accuracy: 0.4000\n",
            "Epoch 36/100\n",
            "\r 1/15 [=>............................] - ETA: 0s - loss: 0.1348 - accuracy: 1.0000\b\b\b\b\b\b\b\b\b\b\b\b\b\b\b\b\b\b\b\b\b\b\b\b\b\b\b\b\b\b\b\b\b\b\b\b\b\b\b\b\b\b\b\b\b\b\b\b\b\b\b\b\b\b\b\b\b\b\b\b\b\b\b\b\b\b\b\b\b\b\b\b\b\b\b\b\b\b\b\b\b\b\r 9/15 [=================>............] - ETA: 0s - loss: 0.2313 - accuracy: 0.9398\b\b\b\b\b\b\b\b\b\b\b\b\b\b\b\b\b\b\b\b\b\b\b\b\b\b\b\b\b\b\b\b\b\b\b\b\b\b\b\b\b\b\b\b\b\b\b\b\b\b\b\b\b\b\b\b\b\b\b\b\b\b\b\b\b\b\b\b\b\b\b\b\b\b\b\b\b\b\b\b\b\b\r15/15 [==============================] - ETA: 0s - loss: 0.2270 - accuracy: 0.9419\b\b\b\b\b\b\b\b\b\b\b\b\b\b\b\b\b\b\b\b\b\b\b\b\b\b\b\b\b\b\b\b\b\b\b\b\b\b\b\b\b\b\b\b\b\b\b\b\b\b\b\b\b\b\b\b\b\b\b\b\b\b\b\b\b\b\b\b\b\b\b\b\b\b\b\b\b\b\b\b\b\b\r15/15 [==============================] - 0s 11ms/step - loss: 0.2258 - accuracy: 0.9422 - val_loss: 2.2386 - val_accuracy: 0.4000\n",
            "Epoch 37/100\n",
            "\r 1/15 [=>............................] - ETA: 0s - loss: 0.1318 - accuracy: 1.0000\b\b\b\b\b\b\b\b\b\b\b\b\b\b\b\b\b\b\b\b\b\b\b\b\b\b\b\b\b\b\b\b\b\b\b\b\b\b\b\b\b\b\b\b\b\b\b\b\b\b\b\b\b\b\b\b\b\b\b\b\b\b\b\b\b\b\b\b\b\b\b\b\b\b\b\b\b\b\b\b\b\b\r 7/15 [=============>................] - ETA: 0s - loss: 0.2178 - accuracy: 0.8915\b\b\b\b\b\b\b\b\b\b\b\b\b\b\b\b\b\b\b\b\b\b\b\b\b\b\b\b\b\b\b\b\b\b\b\b\b\b\b\b\b\b\b\b\b\b\b\b\b\b\b\b\b\b\b\b\b\b\b\b\b\b\b\b\b\b\b\b\b\b\b\b\b\b\b\b\b\b\b\b\b\b\r15/15 [==============================] - ETA: 0s - loss: 0.2169 - accuracy: 0.9060\b\b\b\b\b\b\b\b\b\b\b\b\b\b\b\b\b\b\b\b\b\b\b\b\b\b\b\b\b\b\b\b\b\b\b\b\b\b\b\b\b\b\b\b\b\b\b\b\b\b\b\b\b\b\b\b\b\b\b\b\b\b\b\b\b\b\b\b\b\b\b\b\b\b\b\b\b\b\b\b\b\b\r15/15 [==============================] - 0s 11ms/step - loss: 0.2165 - accuracy: 0.9077 - val_loss: 2.2449 - val_accuracy: 0.4000\n",
            "Epoch 38/100\n",
            "\r 1/15 [=>............................] - ETA: 0s - loss: 0.1737 - accuracy: 0.9000\b\b\b\b\b\b\b\b\b\b\b\b\b\b\b\b\b\b\b\b\b\b\b\b\b\b\b\b\b\b\b\b\b\b\b\b\b\b\b\b\b\b\b\b\b\b\b\b\b\b\b\b\b\b\b\b\b\b\b\b\b\b\b\b\b\b\b\b\b\b\b\b\b\b\b\b\b\b\b\b\b\b\r 9/15 [=================>............] - ETA: 0s - loss: 0.1833 - accuracy: 0.9448\b\b\b\b\b\b\b\b\b\b\b\b\b\b\b\b\b\b\b\b\b\b\b\b\b\b\b\b\b\b\b\b\b\b\b\b\b\b\b\b\b\b\b\b\b\b\b\b\b\b\b\b\b\b\b\b\b\b\b\b\b\b\b\b\b\b\b\b\b\b\b\b\b\b\b\b\b\b\b\b\b\b\r15/15 [==============================] - 0s 8ms/step - loss: 0.1874 - accuracy: 0.9417 - val_loss: 2.2946 - val_accuracy: 0.4000\n",
            "Epoch 39/100\n",
            "\r 1/15 [=>............................] - ETA: 0s - loss: 0.0276 - accuracy: 1.0000\b\b\b\b\b\b\b\b\b\b\b\b\b\b\b\b\b\b\b\b\b\b\b\b\b\b\b\b\b\b\b\b\b\b\b\b\b\b\b\b\b\b\b\b\b\b\b\b\b\b\b\b\b\b\b\b\b\b\b\b\b\b\b\b\b\b\b\b\b\b\b\b\b\b\b\b\b\b\b\b\b\b\r12/15 [=======================>......] - ETA: 0s - loss: 0.1513 - accuracy: 0.9696\b\b\b\b\b\b\b\b\b\b\b\b\b\b\b\b\b\b\b\b\b\b\b\b\b\b\b\b\b\b\b\b\b\b\b\b\b\b\b\b\b\b\b\b\b\b\b\b\b\b\b\b\b\b\b\b\b\b\b\b\b\b\b\b\b\b\b\b\b\b\b\b\b\b\b\b\b\b\b\b\b\b\r15/15 [==============================] - 0s 6ms/step - loss: 0.1631 - accuracy: 0.9623 - val_loss: 2.3059 - val_accuracy: 0.4200\n",
            "Epoch 40/100\n",
            "\r 1/15 [=>............................] - ETA: 0s - loss: 0.2251 - accuracy: 0.9000\b\b\b\b\b\b\b\b\b\b\b\b\b\b\b\b\b\b\b\b\b\b\b\b\b\b\b\b\b\b\b\b\b\b\b\b\b\b\b\b\b\b\b\b\b\b\b\b\b\b\b\b\b\b\b\b\b\b\b\b\b\b\b\b\b\b\b\b\b\b\b\b\b\b\b\b\b\b\b\b\b\b\r12/15 [=======================>......] - ETA: 0s - loss: 0.1827 - accuracy: 0.9575\b\b\b\b\b\b\b\b\b\b\b\b\b\b\b\b\b\b\b\b\b\b\b\b\b\b\b\b\b\b\b\b\b\b\b\b\b\b\b\b\b\b\b\b\b\b\b\b\b\b\b\b\b\b\b\b\b\b\b\b\b\b\b\b\b\b\b\b\b\b\b\b\b\b\b\b\b\b\b\b\b\b\r15/15 [==============================] - 0s 6ms/step - loss: 0.1839 - accuracy: 0.9558 - val_loss: 2.4872 - val_accuracy: 0.3800\n",
            "Epoch 41/100\n",
            "\r 1/15 [=>............................] - ETA: 0s - loss: 0.0690 - accuracy: 1.0000\b\b\b\b\b\b\b\b\b\b\b\b\b\b\b\b\b\b\b\b\b\b\b\b\b\b\b\b\b\b\b\b\b\b\b\b\b\b\b\b\b\b\b\b\b\b\b\b\b\b\b\b\b\b\b\b\b\b\b\b\b\b\b\b\b\b\b\b\b\b\b\b\b\b\b\b\b\b\b\b\b\b\r10/15 [===================>..........] - ETA: 0s - loss: 0.0962 - accuracy: 1.0000\b\b\b\b\b\b\b\b\b\b\b\b\b\b\b\b\b\b\b\b\b\b\b\b\b\b\b\b\b\b\b\b\b\b\b\b\b\b\b\b\b\b\b\b\b\b\b\b\b\b\b\b\b\b\b\b\b\b\b\b\b\b\b\b\b\b\b\b\b\b\b\b\b\b\b\b\b\b\b\b\b\b\r15/15 [==============================] - 0s 9ms/step - loss: 0.1051 - accuracy: 0.9972 - val_loss: 2.4745 - val_accuracy: 0.4000\n",
            "Epoch 42/100\n",
            "\r 1/15 [=>............................] - ETA: 0s - loss: 0.2438 - accuracy: 1.0000\b\b\b\b\b\b\b\b\b\b\b\b\b\b\b\b\b\b\b\b\b\b\b\b\b\b\b\b\b\b\b\b\b\b\b\b\b\b\b\b\b\b\b\b\b\b\b\b\b\b\b\b\b\b\b\b\b\b\b\b\b\b\b\b\b\b\b\b\b\b\b\b\b\b\b\b\b\b\b\b\b\b\r 9/15 [=================>............] - ETA: 0s - loss: 0.1822 - accuracy: 0.9787\b\b\b\b\b\b\b\b\b\b\b\b\b\b\b\b\b\b\b\b\b\b\b\b\b\b\b\b\b\b\b\b\b\b\b\b\b\b\b\b\b\b\b\b\b\b\b\b\b\b\b\b\b\b\b\b\b\b\b\b\b\b\b\b\b\b\b\b\b\b\b\b\b\b\b\b\b\b\b\b\b\b\r15/15 [==============================] - 0s 10ms/step - loss: 0.1692 - accuracy: 0.9767 - val_loss: 2.5055 - val_accuracy: 0.4200\n",
            "Epoch 43/100\n",
            "\r 1/15 [=>............................] - ETA: 0s - loss: 0.2283 - accuracy: 1.0000\b\b\b\b\b\b\b\b\b\b\b\b\b\b\b\b\b\b\b\b\b\b\b\b\b\b\b\b\b\b\b\b\b\b\b\b\b\b\b\b\b\b\b\b\b\b\b\b\b\b\b\b\b\b\b\b\b\b\b\b\b\b\b\b\b\b\b\b\b\b\b\b\b\b\b\b\b\b\b\b\b\b\r10/15 [===================>..........] - ETA: 0s - loss: 0.1721 - accuracy: 0.9915\b\b\b\b\b\b\b\b\b\b\b\b\b\b\b\b\b\b\b\b\b\b\b\b\b\b\b\b\b\b\b\b\b\b\b\b\b\b\b\b\b\b\b\b\b\b\b\b\b\b\b\b\b\b\b\b\b\b\b\b\b\b\b\b\b\b\b\b\b\b\b\b\b\b\b\b\b\b\b\b\b\b\r15/15 [==============================] - 0s 10ms/step - loss: 0.1627 - accuracy: 0.9857 - val_loss: 2.5437 - val_accuracy: 0.4000\n",
            "Epoch 44/100\n",
            "\r 1/15 [=>............................] - ETA: 0s - loss: 0.0968 - accuracy: 1.0000\b\b\b\b\b\b\b\b\b\b\b\b\b\b\b\b\b\b\b\b\b\b\b\b\b\b\b\b\b\b\b\b\b\b\b\b\b\b\b\b\b\b\b\b\b\b\b\b\b\b\b\b\b\b\b\b\b\b\b\b\b\b\b\b\b\b\b\b\b\b\b\b\b\b\b\b\b\b\b\b\b\b\r 6/15 [===========>..................] - ETA: 0s - loss: 0.1040 - accuracy: 0.9972\b\b\b\b\b\b\b\b\b\b\b\b\b\b\b\b\b\b\b\b\b\b\b\b\b\b\b\b\b\b\b\b\b\b\b\b\b\b\b\b\b\b\b\b\b\b\b\b\b\b\b\b\b\b\b\b\b\b\b\b\b\b\b\b\b\b\b\b\b\b\b\b\b\b\b\b\b\b\b\b\b\b\r12/15 [=======================>......] - ETA: 0s - loss: 0.1101 - accuracy: 0.9909\b\b\b\b\b\b\b\b\b\b\b\b\b\b\b\b\b\b\b\b\b\b\b\b\b\b\b\b\b\b\b\b\b\b\b\b\b\b\b\b\b\b\b\b\b\b\b\b\b\b\b\b\b\b\b\b\b\b\b\b\b\b\b\b\b\b\b\b\b\b\b\b\b\b\b\b\b\b\b\b\b\b\r15/15 [==============================] - 0s 13ms/step - loss: 0.1106 - accuracy: 0.9888 - val_loss: 2.5374 - val_accuracy: 0.4000\n",
            "Epoch 45/100\n",
            "\r 1/15 [=>............................] - ETA: 0s - loss: 0.1453 - accuracy: 1.0000\b\b\b\b\b\b\b\b\b\b\b\b\b\b\b\b\b\b\b\b\b\b\b\b\b\b\b\b\b\b\b\b\b\b\b\b\b\b\b\b\b\b\b\b\b\b\b\b\b\b\b\b\b\b\b\b\b\b\b\b\b\b\b\b\b\b\b\b\b\b\b\b\b\b\b\b\b\b\b\b\b\b\r 6/15 [===========>..................] - ETA: 0s - loss: 0.1338 - accuracy: 0.9897\b\b\b\b\b\b\b\b\b\b\b\b\b\b\b\b\b\b\b\b\b\b\b\b\b\b\b\b\b\b\b\b\b\b\b\b\b\b\b\b\b\b\b\b\b\b\b\b\b\b\b\b\b\b\b\b\b\b\b\b\b\b\b\b\b\b\b\b\b\b\b\b\b\b\b\b\b\b\b\b\b\b\r12/15 [=======================>......] - ETA: 0s - loss: 0.1468 - accuracy: 0.9751\b\b\b\b\b\b\b\b\b\b\b\b\b\b\b\b\b\b\b\b\b\b\b\b\b\b\b\b\b\b\b\b\b\b\b\b\b\b\b\b\b\b\b\b\b\b\b\b\b\b\b\b\b\b\b\b\b\b\b\b\b\b\b\b\b\b\b\b\b\b\b\b\b\b\b\b\b\b\b\b\b\b\r15/15 [==============================] - 0s 13ms/step - loss: 0.1537 - accuracy: 0.9669 - val_loss: 2.5590 - val_accuracy: 0.4400\n",
            "Epoch 46/100\n",
            "\r 1/15 [=>............................] - ETA: 0s - loss: 0.1014 - accuracy: 1.0000\b\b\b\b\b\b\b\b\b\b\b\b\b\b\b\b\b\b\b\b\b\b\b\b\b\b\b\b\b\b\b\b\b\b\b\b\b\b\b\b\b\b\b\b\b\b\b\b\b\b\b\b\b\b\b\b\b\b\b\b\b\b\b\b\b\b\b\b\b\b\b\b\b\b\b\b\b\b\b\b\b\b\r 9/15 [=================>............] - ETA: 0s - loss: 0.1065 - accuracy: 0.9913\b\b\b\b\b\b\b\b\b\b\b\b\b\b\b\b\b\b\b\b\b\b\b\b\b\b\b\b\b\b\b\b\b\b\b\b\b\b\b\b\b\b\b\b\b\b\b\b\b\b\b\b\b\b\b\b\b\b\b\b\b\b\b\b\b\b\b\b\b\b\b\b\b\b\b\b\b\b\b\b\b\b\r15/15 [==============================] - 0s 9ms/step - loss: 0.1111 - accuracy: 0.9882 - val_loss: 2.6418 - val_accuracy: 0.4200\n",
            "Epoch 47/100\n",
            "\r 1/15 [=>............................] - ETA: 0s - loss: 0.7472 - accuracy: 0.8000\b\b\b\b\b\b\b\b\b\b\b\b\b\b\b\b\b\b\b\b\b\b\b\b\b\b\b\b\b\b\b\b\b\b\b\b\b\b\b\b\b\b\b\b\b\b\b\b\b\b\b\b\b\b\b\b\b\b\b\b\b\b\b\b\b\b\b\b\b\b\b\b\b\b\b\b\b\b\b\b\b\b\r 7/15 [=============>................] - ETA: 0s - loss: 0.3350 - accuracy: 0.9215\b\b\b\b\b\b\b\b\b\b\b\b\b\b\b\b\b\b\b\b\b\b\b\b\b\b\b\b\b\b\b\b\b\b\b\b\b\b\b\b\b\b\b\b\b\b\b\b\b\b\b\b\b\b\b\b\b\b\b\b\b\b\b\b\b\b\b\b\b\b\b\b\b\b\b\b\b\b\b\b\b\b\r12/15 [=======================>......] - ETA: 0s - loss: 0.2671 - accuracy: 0.9385\b\b\b\b\b\b\b\b\b\b\b\b\b\b\b\b\b\b\b\b\b\b\b\b\b\b\b\b\b\b\b\b\b\b\b\b\b\b\b\b\b\b\b\b\b\b\b\b\b\b\b\b\b\b\b\b\b\b\b\b\b\b\b\b\b\b\b\b\b\b\b\b\b\b\b\b\b\b\b\b\b\b\r15/15 [==============================] - 0s 13ms/step - loss: 0.2427 - accuracy: 0.9438 - val_loss: 2.7591 - val_accuracy: 0.3800\n",
            "Epoch 48/100\n",
            "\r 1/15 [=>............................] - ETA: 0s - loss: 0.0575 - accuracy: 1.0000\b\b\b\b\b\b\b\b\b\b\b\b\b\b\b\b\b\b\b\b\b\b\b\b\b\b\b\b\b\b\b\b\b\b\b\b\b\b\b\b\b\b\b\b\b\b\b\b\b\b\b\b\b\b\b\b\b\b\b\b\b\b\b\b\b\b\b\b\b\b\b\b\b\b\b\b\b\b\b\b\b\b\r 6/15 [===========>..................] - ETA: 0s - loss: 0.1130 - accuracy: 0.9731\b\b\b\b\b\b\b\b\b\b\b\b\b\b\b\b\b\b\b\b\b\b\b\b\b\b\b\b\b\b\b\b\b\b\b\b\b\b\b\b\b\b\b\b\b\b\b\b\b\b\b\b\b\b\b\b\b\b\b\b\b\b\b\b\b\b\b\b\b\b\b\b\b\b\b\b\b\b\b\b\b\b\r11/15 [=====================>........] - ETA: 0s - loss: 0.1130 - accuracy: 0.9749\b\b\b\b\b\b\b\b\b\b\b\b\b\b\b\b\b\b\b\b\b\b\b\b\b\b\b\b\b\b\b\b\b\b\b\b\b\b\b\b\b\b\b\b\b\b\b\b\b\b\b\b\b\b\b\b\b\b\b\b\b\b\b\b\b\b\b\b\b\b\b\b\b\b\b\b\b\b\b\b\b\b\r15/15 [==============================] - 0s 14ms/step - loss: 0.1092 - accuracy: 0.9764 - val_loss: 2.6506 - val_accuracy: 0.4000\n",
            "Epoch 49/100\n",
            "\r 1/15 [=>............................] - ETA: 0s - loss: 0.0499 - accuracy: 1.0000\b\b\b\b\b\b\b\b\b\b\b\b\b\b\b\b\b\b\b\b\b\b\b\b\b\b\b\b\b\b\b\b\b\b\b\b\b\b\b\b\b\b\b\b\b\b\b\b\b\b\b\b\b\b\b\b\b\b\b\b\b\b\b\b\b\b\b\b\b\b\b\b\b\b\b\b\b\b\b\b\b\b\r 7/15 [=============>................] - ETA: 0s - loss: 0.0819 - accuracy: 0.9980\b\b\b\b\b\b\b\b\b\b\b\b\b\b\b\b\b\b\b\b\b\b\b\b\b\b\b\b\b\b\b\b\b\b\b\b\b\b\b\b\b\b\b\b\b\b\b\b\b\b\b\b\b\b\b\b\b\b\b\b\b\b\b\b\b\b\b\b\b\b\b\b\b\b\b\b\b\b\b\b\b\b\r13/15 [=========================>....] - ETA: 0s - loss: 0.0859 - accuracy: 0.9938\b\b\b\b\b\b\b\b\b\b\b\b\b\b\b\b\b\b\b\b\b\b\b\b\b\b\b\b\b\b\b\b\b\b\b\b\b\b\b\b\b\b\b\b\b\b\b\b\b\b\b\b\b\b\b\b\b\b\b\b\b\b\b\b\b\b\b\b\b\b\b\b\b\b\b\b\b\b\b\b\b\b\r15/15 [==============================] - 0s 13ms/step - loss: 0.0898 - accuracy: 0.9911 - val_loss: 2.6725 - val_accuracy: 0.4200\n",
            "Epoch 50/100\n",
            "\r 1/15 [=>............................] - ETA: 0s - loss: 0.0645 - accuracy: 1.0000\b\b\b\b\b\b\b\b\b\b\b\b\b\b\b\b\b\b\b\b\b\b\b\b\b\b\b\b\b\b\b\b\b\b\b\b\b\b\b\b\b\b\b\b\b\b\b\b\b\b\b\b\b\b\b\b\b\b\b\b\b\b\b\b\b\b\b\b\b\b\b\b\b\b\b\b\b\b\b\b\b\b\r 7/15 [=============>................] - ETA: 0s - loss: 0.1144 - accuracy: 0.9616\b\b\b\b\b\b\b\b\b\b\b\b\b\b\b\b\b\b\b\b\b\b\b\b\b\b\b\b\b\b\b\b\b\b\b\b\b\b\b\b\b\b\b\b\b\b\b\b\b\b\b\b\b\b\b\b\b\b\b\b\b\b\b\b\b\b\b\b\b\b\b\b\b\b\b\b\b\b\b\b\b\b\r13/15 [=========================>....] - ETA: 0s - loss: 0.1118 - accuracy: 0.9659\b\b\b\b\b\b\b\b\b\b\b\b\b\b\b\b\b\b\b\b\b\b\b\b\b\b\b\b\b\b\b\b\b\b\b\b\b\b\b\b\b\b\b\b\b\b\b\b\b\b\b\b\b\b\b\b\b\b\b\b\b\b\b\b\b\b\b\b\b\b\b\b\b\b\b\b\b\b\b\b\b\b\r15/15 [==============================] - 0s 13ms/step - loss: 0.1155 - accuracy: 0.9659 - val_loss: 2.9205 - val_accuracy: 0.4000\n",
            "Epoch 51/100\n",
            "\r 1/15 [=>............................] - ETA: 0s - loss: 0.0539 - accuracy: 1.0000\b\b\b\b\b\b\b\b\b\b\b\b\b\b\b\b\b\b\b\b\b\b\b\b\b\b\b\b\b\b\b\b\b\b\b\b\b\b\b\b\b\b\b\b\b\b\b\b\b\b\b\b\b\b\b\b\b\b\b\b\b\b\b\b\b\b\b\b\b\b\b\b\b\b\b\b\b\b\b\b\b\b\r 6/15 [===========>..................] - ETA: 0s - loss: 0.0570 - accuracy: 1.0000\b\b\b\b\b\b\b\b\b\b\b\b\b\b\b\b\b\b\b\b\b\b\b\b\b\b\b\b\b\b\b\b\b\b\b\b\b\b\b\b\b\b\b\b\b\b\b\b\b\b\b\b\b\b\b\b\b\b\b\b\b\b\b\b\b\b\b\b\b\b\b\b\b\b\b\b\b\b\b\b\b\b\r13/15 [=========================>....] - ETA: 0s - loss: 0.0804 - accuracy: 0.9844\b\b\b\b\b\b\b\b\b\b\b\b\b\b\b\b\b\b\b\b\b\b\b\b\b\b\b\b\b\b\b\b\b\b\b\b\b\b\b\b\b\b\b\b\b\b\b\b\b\b\b\b\b\b\b\b\b\b\b\b\b\b\b\b\b\b\b\b\b\b\b\b\b\b\b\b\b\b\b\b\b\b\r15/15 [==============================] - 0s 12ms/step - loss: 0.0847 - accuracy: 0.9822 - val_loss: 2.7626 - val_accuracy: 0.4000\n",
            "Epoch 52/100\n",
            "\r 1/15 [=>............................] - ETA: 0s - loss: 0.1964 - accuracy: 0.9000\b\b\b\b\b\b\b\b\b\b\b\b\b\b\b\b\b\b\b\b\b\b\b\b\b\b\b\b\b\b\b\b\b\b\b\b\b\b\b\b\b\b\b\b\b\b\b\b\b\b\b\b\b\b\b\b\b\b\b\b\b\b\b\b\b\b\b\b\b\b\b\b\b\b\b\b\b\b\b\b\b\b\r 7/15 [=============>................] - ETA: 0s - loss: 0.1740 - accuracy: 0.9365\b\b\b\b\b\b\b\b\b\b\b\b\b\b\b\b\b\b\b\b\b\b\b\b\b\b\b\b\b\b\b\b\b\b\b\b\b\b\b\b\b\b\b\b\b\b\b\b\b\b\b\b\b\b\b\b\b\b\b\b\b\b\b\b\b\b\b\b\b\b\b\b\b\b\b\b\b\b\b\b\b\b\r14/15 [===========================>..] - ETA: 0s - loss: 0.1551 - accuracy: 0.9442\b\b\b\b\b\b\b\b\b\b\b\b\b\b\b\b\b\b\b\b\b\b\b\b\b\b\b\b\b\b\b\b\b\b\b\b\b\b\b\b\b\b\b\b\b\b\b\b\b\b\b\b\b\b\b\b\b\b\b\b\b\b\b\b\b\b\b\b\b\b\b\b\b\b\b\b\b\b\b\b\b\b\r15/15 [==============================] - 0s 12ms/step - loss: 0.1511 - accuracy: 0.9462 - val_loss: 2.8636 - val_accuracy: 0.4200\n",
            "Epoch 53/100\n",
            "\r 1/15 [=>............................] - ETA: 0s - loss: 0.0520 - accuracy: 1.0000\b\b\b\b\b\b\b\b\b\b\b\b\b\b\b\b\b\b\b\b\b\b\b\b\b\b\b\b\b\b\b\b\b\b\b\b\b\b\b\b\b\b\b\b\b\b\b\b\b\b\b\b\b\b\b\b\b\b\b\b\b\b\b\b\b\b\b\b\b\b\b\b\b\b\b\b\b\b\b\b\b\b\r 7/15 [=============>................] - ETA: 0s - loss: 0.0758 - accuracy: 1.0000\b\b\b\b\b\b\b\b\b\b\b\b\b\b\b\b\b\b\b\b\b\b\b\b\b\b\b\b\b\b\b\b\b\b\b\b\b\b\b\b\b\b\b\b\b\b\b\b\b\b\b\b\b\b\b\b\b\b\b\b\b\b\b\b\b\b\b\b\b\b\b\b\b\b\b\b\b\b\b\b\b\b\r12/15 [=======================>......] - ETA: 0s - loss: 0.0869 - accuracy: 0.9932\b\b\b\b\b\b\b\b\b\b\b\b\b\b\b\b\b\b\b\b\b\b\b\b\b\b\b\b\b\b\b\b\b\b\b\b\b\b\b\b\b\b\b\b\b\b\b\b\b\b\b\b\b\b\b\b\b\b\b\b\b\b\b\b\b\b\b\b\b\b\b\b\b\b\b\b\b\b\b\b\b\b\r15/15 [==============================] - 0s 12ms/step - loss: 0.0992 - accuracy: 0.9827 - val_loss: 2.8373 - val_accuracy: 0.4200\n",
            "Epoch 54/100\n",
            "\r 1/15 [=>............................] - ETA: 0s - loss: 0.1062 - accuracy: 0.9000\b\b\b\b\b\b\b\b\b\b\b\b\b\b\b\b\b\b\b\b\b\b\b\b\b\b\b\b\b\b\b\b\b\b\b\b\b\b\b\b\b\b\b\b\b\b\b\b\b\b\b\b\b\b\b\b\b\b\b\b\b\b\b\b\b\b\b\b\b\b\b\b\b\b\b\b\b\b\b\b\b\b\r10/15 [===================>..........] - ETA: 0s - loss: 0.0889 - accuracy: 0.9697\b\b\b\b\b\b\b\b\b\b\b\b\b\b\b\b\b\b\b\b\b\b\b\b\b\b\b\b\b\b\b\b\b\b\b\b\b\b\b\b\b\b\b\b\b\b\b\b\b\b\b\b\b\b\b\b\b\b\b\b\b\b\b\b\b\b\b\b\b\b\b\b\b\b\b\b\b\b\b\b\b\b\r15/15 [==============================] - 0s 8ms/step - loss: 0.0996 - accuracy: 0.9697 - val_loss: 2.7958 - val_accuracy: 0.4000\n",
            "Epoch 55/100\n",
            "\r 1/15 [=>............................] - ETA: 0s - loss: 0.0660 - accuracy: 1.0000\b\b\b\b\b\b\b\b\b\b\b\b\b\b\b\b\b\b\b\b\b\b\b\b\b\b\b\b\b\b\b\b\b\b\b\b\b\b\b\b\b\b\b\b\b\b\b\b\b\b\b\b\b\b\b\b\b\b\b\b\b\b\b\b\b\b\b\b\b\b\b\b\b\b\b\b\b\b\b\b\b\b\r 9/15 [=================>............] - ETA: 0s - loss: 0.0831 - accuracy: 0.9939\b\b\b\b\b\b\b\b\b\b\b\b\b\b\b\b\b\b\b\b\b\b\b\b\b\b\b\b\b\b\b\b\b\b\b\b\b\b\b\b\b\b\b\b\b\b\b\b\b\b\b\b\b\b\b\b\b\b\b\b\b\b\b\b\b\b\b\b\b\b\b\b\b\b\b\b\b\b\b\b\b\b\r15/15 [==============================] - 0s 11ms/step - loss: 0.0895 - accuracy: 0.9896 - val_loss: 2.8564 - val_accuracy: 0.4200\n",
            "Epoch 56/100\n",
            "\r 1/15 [=>............................] - ETA: 0s - loss: 0.0299 - accuracy: 1.0000\b\b\b\b\b\b\b\b\b\b\b\b\b\b\b\b\b\b\b\b\b\b\b\b\b\b\b\b\b\b\b\b\b\b\b\b\b\b\b\b\b\b\b\b\b\b\b\b\b\b\b\b\b\b\b\b\b\b\b\b\b\b\b\b\b\b\b\b\b\b\b\b\b\b\b\b\b\b\b\b\b\b\r 6/15 [===========>..................] - ETA: 0s - loss: 0.0630 - accuracy: 0.9758\b\b\b\b\b\b\b\b\b\b\b\b\b\b\b\b\b\b\b\b\b\b\b\b\b\b\b\b\b\b\b\b\b\b\b\b\b\b\b\b\b\b\b\b\b\b\b\b\b\b\b\b\b\b\b\b\b\b\b\b\b\b\b\b\b\b\b\b\b\b\b\b\b\b\b\b\b\b\b\b\b\b\r12/15 [=======================>......] - ETA: 0s - loss: 0.0648 - accuracy: 0.9818\b\b\b\b\b\b\b\b\b\b\b\b\b\b\b\b\b\b\b\b\b\b\b\b\b\b\b\b\b\b\b\b\b\b\b\b\b\b\b\b\b\b\b\b\b\b\b\b\b\b\b\b\b\b\b\b\b\b\b\b\b\b\b\b\b\b\b\b\b\b\b\b\b\b\b\b\b\b\b\b\b\b\r15/15 [==============================] - 0s 13ms/step - loss: 0.0686 - accuracy: 0.9828 - val_loss: 2.9757 - val_accuracy: 0.4200\n",
            "Epoch 57/100\n",
            "\r 1/15 [=>............................] - ETA: 0s - loss: 0.0710 - accuracy: 1.0000\b\b\b\b\b\b\b\b\b\b\b\b\b\b\b\b\b\b\b\b\b\b\b\b\b\b\b\b\b\b\b\b\b\b\b\b\b\b\b\b\b\b\b\b\b\b\b\b\b\b\b\b\b\b\b\b\b\b\b\b\b\b\b\b\b\b\b\b\b\b\b\b\b\b\b\b\b\b\b\b\b\b\r 6/15 [===========>..................] - ETA: 0s - loss: 0.0646 - accuracy: 1.0000\b\b\b\b\b\b\b\b\b\b\b\b\b\b\b\b\b\b\b\b\b\b\b\b\b\b\b\b\b\b\b\b\b\b\b\b\b\b\b\b\b\b\b\b\b\b\b\b\b\b\b\b\b\b\b\b\b\b\b\b\b\b\b\b\b\b\b\b\b\b\b\b\b\b\b\b\b\b\b\b\b\b\r12/15 [=======================>......] - ETA: 0s - loss: 0.0677 - accuracy: 0.9957\b\b\b\b\b\b\b\b\b\b\b\b\b\b\b\b\b\b\b\b\b\b\b\b\b\b\b\b\b\b\b\b\b\b\b\b\b\b\b\b\b\b\b\b\b\b\b\b\b\b\b\b\b\b\b\b\b\b\b\b\b\b\b\b\b\b\b\b\b\b\b\b\b\b\b\b\b\b\b\b\b\b\r15/15 [==============================] - 0s 13ms/step - loss: 0.0698 - accuracy: 0.9942 - val_loss: 3.1150 - val_accuracy: 0.4000\n",
            "Epoch 58/100\n",
            "\r 1/15 [=>............................] - ETA: 0s - loss: 0.0255 - accuracy: 1.0000\b\b\b\b\b\b\b\b\b\b\b\b\b\b\b\b\b\b\b\b\b\b\b\b\b\b\b\b\b\b\b\b\b\b\b\b\b\b\b\b\b\b\b\b\b\b\b\b\b\b\b\b\b\b\b\b\b\b\b\b\b\b\b\b\b\b\b\b\b\b\b\b\b\b\b\b\b\b\b\b\b\b\r 7/15 [=============>................] - ETA: 0s - loss: 0.0487 - accuracy: 1.0000\b\b\b\b\b\b\b\b\b\b\b\b\b\b\b\b\b\b\b\b\b\b\b\b\b\b\b\b\b\b\b\b\b\b\b\b\b\b\b\b\b\b\b\b\b\b\b\b\b\b\b\b\b\b\b\b\b\b\b\b\b\b\b\b\b\b\b\b\b\b\b\b\b\b\b\b\b\b\b\b\b\b\r13/15 [=========================>....] - ETA: 0s - loss: 0.0855 - accuracy: 0.9865\b\b\b\b\b\b\b\b\b\b\b\b\b\b\b\b\b\b\b\b\b\b\b\b\b\b\b\b\b\b\b\b\b\b\b\b\b\b\b\b\b\b\b\b\b\b\b\b\b\b\b\b\b\b\b\b\b\b\b\b\b\b\b\b\b\b\b\b\b\b\b\b\b\b\b\b\b\b\b\b\b\b\r15/15 [==============================] - 0s 14ms/step - loss: 0.0931 - accuracy: 0.9839 - val_loss: 3.0800 - val_accuracy: 0.4000\n",
            "Epoch 59/100\n",
            "\r 1/15 [=>............................] - ETA: 0s - loss: 0.0257 - accuracy: 1.0000\b\b\b\b\b\b\b\b\b\b\b\b\b\b\b\b\b\b\b\b\b\b\b\b\b\b\b\b\b\b\b\b\b\b\b\b\b\b\b\b\b\b\b\b\b\b\b\b\b\b\b\b\b\b\b\b\b\b\b\b\b\b\b\b\b\b\b\b\b\b\b\b\b\b\b\b\b\b\b\b\b\b\r 7/15 [=============>................] - ETA: 0s - loss: 0.0567 - accuracy: 0.9771\b\b\b\b\b\b\b\b\b\b\b\b\b\b\b\b\b\b\b\b\b\b\b\b\b\b\b\b\b\b\b\b\b\b\b\b\b\b\b\b\b\b\b\b\b\b\b\b\b\b\b\b\b\b\b\b\b\b\b\b\b\b\b\b\b\b\b\b\b\b\b\b\b\b\b\b\b\b\b\b\b\b\r13/15 [=========================>....] - ETA: 0s - loss: 0.0576 - accuracy: 0.9753\b\b\b\b\b\b\b\b\b\b\b\b\b\b\b\b\b\b\b\b\b\b\b\b\b\b\b\b\b\b\b\b\b\b\b\b\b\b\b\b\b\b\b\b\b\b\b\b\b\b\b\b\b\b\b\b\b\b\b\b\b\b\b\b\b\b\b\b\b\b\b\b\b\b\b\b\b\b\b\b\b\b\r15/15 [==============================] - 0s 13ms/step - loss: 0.0691 - accuracy: 0.9727 - val_loss: 3.0790 - val_accuracy: 0.4200\n",
            "Epoch 60/100\n",
            "\r 1/15 [=>............................] - ETA: 0s - loss: 0.1586 - accuracy: 1.0000\b\b\b\b\b\b\b\b\b\b\b\b\b\b\b\b\b\b\b\b\b\b\b\b\b\b\b\b\b\b\b\b\b\b\b\b\b\b\b\b\b\b\b\b\b\b\b\b\b\b\b\b\b\b\b\b\b\b\b\b\b\b\b\b\b\b\b\b\b\b\b\b\b\b\b\b\b\b\b\b\b\b\r 7/15 [=============>................] - ETA: 0s - loss: 0.1023 - accuracy: 0.9927\b\b\b\b\b\b\b\b\b\b\b\b\b\b\b\b\b\b\b\b\b\b\b\b\b\b\b\b\b\b\b\b\b\b\b\b\b\b\b\b\b\b\b\b\b\b\b\b\b\b\b\b\b\b\b\b\b\b\b\b\b\b\b\b\b\b\b\b\b\b\b\b\b\b\b\b\b\b\b\b\b\b\r15/15 [==============================] - ETA: 0s - loss: 0.0923 - accuracy: 0.9918\b\b\b\b\b\b\b\b\b\b\b\b\b\b\b\b\b\b\b\b\b\b\b\b\b\b\b\b\b\b\b\b\b\b\b\b\b\b\b\b\b\b\b\b\b\b\b\b\b\b\b\b\b\b\b\b\b\b\b\b\b\b\b\b\b\b\b\b\b\b\b\b\b\b\b\b\b\b\b\b\b\b\r15/15 [==============================] - 0s 10ms/step - loss: 0.0920 - accuracy: 0.9919 - val_loss: 2.9752 - val_accuracy: 0.4200\n",
            "Epoch 61/100\n",
            "\r 1/15 [=>............................] - ETA: 0s - loss: 0.0309 - accuracy: 1.0000\b\b\b\b\b\b\b\b\b\b\b\b\b\b\b\b\b\b\b\b\b\b\b\b\b\b\b\b\b\b\b\b\b\b\b\b\b\b\b\b\b\b\b\b\b\b\b\b\b\b\b\b\b\b\b\b\b\b\b\b\b\b\b\b\b\b\b\b\b\b\b\b\b\b\b\b\b\b\b\b\b\b\r 9/15 [=================>............] - ETA: 0s - loss: 0.0689 - accuracy: 0.9917\b\b\b\b\b\b\b\b\b\b\b\b\b\b\b\b\b\b\b\b\b\b\b\b\b\b\b\b\b\b\b\b\b\b\b\b\b\b\b\b\b\b\b\b\b\b\b\b\b\b\b\b\b\b\b\b\b\b\b\b\b\b\b\b\b\b\b\b\b\b\b\b\b\b\b\b\b\b\b\b\b\b\r15/15 [==============================] - 0s 9ms/step - loss: 0.0727 - accuracy: 0.9896 - val_loss: 3.0526 - val_accuracy: 0.4000\n",
            "Epoch 62/100\n",
            "\r 1/15 [=>............................] - ETA: 0s - loss: 0.0114 - accuracy: 1.0000\b\b\b\b\b\b\b\b\b\b\b\b\b\b\b\b\b\b\b\b\b\b\b\b\b\b\b\b\b\b\b\b\b\b\b\b\b\b\b\b\b\b\b\b\b\b\b\b\b\b\b\b\b\b\b\b\b\b\b\b\b\b\b\b\b\b\b\b\b\b\b\b\b\b\b\b\b\b\b\b\b\b\r10/15 [===================>..........] - ETA: 0s - loss: 0.0374 - accuracy: 0.9823\b\b\b\b\b\b\b\b\b\b\b\b\b\b\b\b\b\b\b\b\b\b\b\b\b\b\b\b\b\b\b\b\b\b\b\b\b\b\b\b\b\b\b\b\b\b\b\b\b\b\b\b\b\b\b\b\b\b\b\b\b\b\b\b\b\b\b\b\b\b\b\b\b\b\b\b\b\b\b\b\b\b\r15/15 [==============================] - 0s 10ms/step - loss: 0.0466 - accuracy: 0.9810 - val_loss: 3.0199 - val_accuracy: 0.4200\n",
            "Epoch 63/100\n",
            "\r 1/15 [=>............................] - ETA: 0s - loss: 0.0464 - accuracy: 1.0000\b\b\b\b\b\b\b\b\b\b\b\b\b\b\b\b\b\b\b\b\b\b\b\b\b\b\b\b\b\b\b\b\b\b\b\b\b\b\b\b\b\b\b\b\b\b\b\b\b\b\b\b\b\b\b\b\b\b\b\b\b\b\b\b\b\b\b\b\b\b\b\b\b\b\b\b\b\b\b\b\b\b\r 7/15 [=============>................] - ETA: 0s - loss: 0.0703 - accuracy: 1.0000\b\b\b\b\b\b\b\b\b\b\b\b\b\b\b\b\b\b\b\b\b\b\b\b\b\b\b\b\b\b\b\b\b\b\b\b\b\b\b\b\b\b\b\b\b\b\b\b\b\b\b\b\b\b\b\b\b\b\b\b\b\b\b\b\b\b\b\b\b\b\b\b\b\b\b\b\b\b\b\b\b\b\r13/15 [=========================>....] - ETA: 0s - loss: 0.0688 - accuracy: 0.9973\b\b\b\b\b\b\b\b\b\b\b\b\b\b\b\b\b\b\b\b\b\b\b\b\b\b\b\b\b\b\b\b\b\b\b\b\b\b\b\b\b\b\b\b\b\b\b\b\b\b\b\b\b\b\b\b\b\b\b\b\b\b\b\b\b\b\b\b\b\b\b\b\b\b\b\b\b\b\b\b\b\b\r15/15 [==============================] - 0s 14ms/step - loss: 0.0691 - accuracy: 0.9952 - val_loss: 3.1352 - val_accuracy: 0.4000\n",
            "Epoch 64/100\n",
            "\r 1/15 [=>............................] - ETA: 0s - loss: 0.0634 - accuracy: 1.0000\b\b\b\b\b\b\b\b\b\b\b\b\b\b\b\b\b\b\b\b\b\b\b\b\b\b\b\b\b\b\b\b\b\b\b\b\b\b\b\b\b\b\b\b\b\b\b\b\b\b\b\b\b\b\b\b\b\b\b\b\b\b\b\b\b\b\b\b\b\b\b\b\b\b\b\b\b\b\b\b\b\b\r 7/15 [=============>................] - ETA: 0s - loss: 0.0737 - accuracy: 0.9772\b\b\b\b\b\b\b\b\b\b\b\b\b\b\b\b\b\b\b\b\b\b\b\b\b\b\b\b\b\b\b\b\b\b\b\b\b\b\b\b\b\b\b\b\b\b\b\b\b\b\b\b\b\b\b\b\b\b\b\b\b\b\b\b\b\b\b\b\b\b\b\b\b\b\b\b\b\b\b\b\b\b\r13/15 [=========================>....] - ETA: 0s - loss: 0.0734 - accuracy: 0.9805\b\b\b\b\b\b\b\b\b\b\b\b\b\b\b\b\b\b\b\b\b\b\b\b\b\b\b\b\b\b\b\b\b\b\b\b\b\b\b\b\b\b\b\b\b\b\b\b\b\b\b\b\b\b\b\b\b\b\b\b\b\b\b\b\b\b\b\b\b\b\b\b\b\b\b\b\b\b\b\b\b\b\r15/15 [==============================] - 0s 12ms/step - loss: 0.0753 - accuracy: 0.9795 - val_loss: 3.1999 - val_accuracy: 0.4000\n",
            "Epoch 65/100\n",
            "\r 1/15 [=>............................] - ETA: 0s - loss: 0.0272 - accuracy: 1.0000\b\b\b\b\b\b\b\b\b\b\b\b\b\b\b\b\b\b\b\b\b\b\b\b\b\b\b\b\b\b\b\b\b\b\b\b\b\b\b\b\b\b\b\b\b\b\b\b\b\b\b\b\b\b\b\b\b\b\b\b\b\b\b\b\b\b\b\b\b\b\b\b\b\b\b\b\b\b\b\b\b\b\r 7/15 [=============>................] - ETA: 0s - loss: 0.0514 - accuracy: 1.0000\b\b\b\b\b\b\b\b\b\b\b\b\b\b\b\b\b\b\b\b\b\b\b\b\b\b\b\b\b\b\b\b\b\b\b\b\b\b\b\b\b\b\b\b\b\b\b\b\b\b\b\b\b\b\b\b\b\b\b\b\b\b\b\b\b\b\b\b\b\b\b\b\b\b\b\b\b\b\b\b\b\b\r13/15 [=========================>....] - ETA: 0s - loss: 0.0505 - accuracy: 1.0000\b\b\b\b\b\b\b\b\b\b\b\b\b\b\b\b\b\b\b\b\b\b\b\b\b\b\b\b\b\b\b\b\b\b\b\b\b\b\b\b\b\b\b\b\b\b\b\b\b\b\b\b\b\b\b\b\b\b\b\b\b\b\b\b\b\b\b\b\b\b\b\b\b\b\b\b\b\b\b\b\b\b\r15/15 [==============================] - 0s 12ms/step - loss: 0.0526 - accuracy: 0.9979 - val_loss: 3.2263 - val_accuracy: 0.4400\n",
            "Epoch 66/100\n",
            "\r 1/15 [=>............................] - ETA: 0s - loss: 0.2201 - accuracy: 0.9000\b\b\b\b\b\b\b\b\b\b\b\b\b\b\b\b\b\b\b\b\b\b\b\b\b\b\b\b\b\b\b\b\b\b\b\b\b\b\b\b\b\b\b\b\b\b\b\b\b\b\b\b\b\b\b\b\b\b\b\b\b\b\b\b\b\b\b\b\b\b\b\b\b\b\b\b\b\b\b\b\b\b\r 6/15 [===========>..................] - ETA: 0s - loss: 0.1523 - accuracy: 0.9331\b\b\b\b\b\b\b\b\b\b\b\b\b\b\b\b\b\b\b\b\b\b\b\b\b\b\b\b\b\b\b\b\b\b\b\b\b\b\b\b\b\b\b\b\b\b\b\b\b\b\b\b\b\b\b\b\b\b\b\b\b\b\b\b\b\b\b\b\b\b\b\b\b\b\b\b\b\b\b\b\b\b\r12/15 [=======================>......] - ETA: 0s - loss: 0.1188 - accuracy: 0.9495\b\b\b\b\b\b\b\b\b\b\b\b\b\b\b\b\b\b\b\b\b\b\b\b\b\b\b\b\b\b\b\b\b\b\b\b\b\b\b\b\b\b\b\b\b\b\b\b\b\b\b\b\b\b\b\b\b\b\b\b\b\b\b\b\b\b\b\b\b\b\b\b\b\b\b\b\b\b\b\b\b\b\r15/15 [==============================] - 0s 13ms/step - loss: 0.1117 - accuracy: 0.9551 - val_loss: 3.1747 - val_accuracy: 0.4200\n",
            "Epoch 67/100\n",
            "\r 1/15 [=>............................] - ETA: 0s - loss: 0.0093 - accuracy: 1.0000\b\b\b\b\b\b\b\b\b\b\b\b\b\b\b\b\b\b\b\b\b\b\b\b\b\b\b\b\b\b\b\b\b\b\b\b\b\b\b\b\b\b\b\b\b\b\b\b\b\b\b\b\b\b\b\b\b\b\b\b\b\b\b\b\b\b\b\b\b\b\b\b\b\b\b\b\b\b\b\b\b\b\r 7/15 [=============>................] - ETA: 0s - loss: 0.0350 - accuracy: 0.9980\b\b\b\b\b\b\b\b\b\b\b\b\b\b\b\b\b\b\b\b\b\b\b\b\b\b\b\b\b\b\b\b\b\b\b\b\b\b\b\b\b\b\b\b\b\b\b\b\b\b\b\b\b\b\b\b\b\b\b\b\b\b\b\b\b\b\b\b\b\b\b\b\b\b\b\b\b\b\b\b\b\b\r12/15 [=======================>......] - ETA: 0s - loss: 0.0437 - accuracy: 0.9946\b\b\b\b\b\b\b\b\b\b\b\b\b\b\b\b\b\b\b\b\b\b\b\b\b\b\b\b\b\b\b\b\b\b\b\b\b\b\b\b\b\b\b\b\b\b\b\b\b\b\b\b\b\b\b\b\b\b\b\b\b\b\b\b\b\b\b\b\b\b\b\b\b\b\b\b\b\b\b\b\b\b\r15/15 [==============================] - 0s 13ms/step - loss: 0.0463 - accuracy: 0.9942 - val_loss: 3.2114 - val_accuracy: 0.4200\n",
            "Epoch 68/100\n",
            "\r 1/15 [=>............................] - ETA: 0s - loss: 0.0287 - accuracy: 1.0000\b\b\b\b\b\b\b\b\b\b\b\b\b\b\b\b\b\b\b\b\b\b\b\b\b\b\b\b\b\b\b\b\b\b\b\b\b\b\b\b\b\b\b\b\b\b\b\b\b\b\b\b\b\b\b\b\b\b\b\b\b\b\b\b\b\b\b\b\b\b\b\b\b\b\b\b\b\b\b\b\b\b\r 7/15 [=============>................] - ETA: 0s - loss: 0.0344 - accuracy: 1.0000\b\b\b\b\b\b\b\b\b\b\b\b\b\b\b\b\b\b\b\b\b\b\b\b\b\b\b\b\b\b\b\b\b\b\b\b\b\b\b\b\b\b\b\b\b\b\b\b\b\b\b\b\b\b\b\b\b\b\b\b\b\b\b\b\b\b\b\b\b\b\b\b\b\b\b\b\b\b\b\b\b\b\r13/15 [=========================>....] - ETA: 0s - loss: 0.0458 - accuracy: 0.9964\b\b\b\b\b\b\b\b\b\b\b\b\b\b\b\b\b\b\b\b\b\b\b\b\b\b\b\b\b\b\b\b\b\b\b\b\b\b\b\b\b\b\b\b\b\b\b\b\b\b\b\b\b\b\b\b\b\b\b\b\b\b\b\b\b\b\b\b\b\b\b\b\b\b\b\b\b\b\b\b\b\b\r15/15 [==============================] - 0s 13ms/step - loss: 0.0489 - accuracy: 0.9958 - val_loss: 3.2779 - val_accuracy: 0.4000\n",
            "Epoch 69/100\n",
            "\r 1/15 [=>............................] - ETA: 0s - loss: 0.0324 - accuracy: 1.0000\b\b\b\b\b\b\b\b\b\b\b\b\b\b\b\b\b\b\b\b\b\b\b\b\b\b\b\b\b\b\b\b\b\b\b\b\b\b\b\b\b\b\b\b\b\b\b\b\b\b\b\b\b\b\b\b\b\b\b\b\b\b\b\b\b\b\b\b\b\b\b\b\b\b\b\b\b\b\b\b\b\b\r 7/15 [=============>................] - ETA: 0s - loss: 0.0411 - accuracy: 1.0000\b\b\b\b\b\b\b\b\b\b\b\b\b\b\b\b\b\b\b\b\b\b\b\b\b\b\b\b\b\b\b\b\b\b\b\b\b\b\b\b\b\b\b\b\b\b\b\b\b\b\b\b\b\b\b\b\b\b\b\b\b\b\b\b\b\b\b\b\b\b\b\b\b\b\b\b\b\b\b\b\b\b\r12/15 [=======================>......] - ETA: 0s - loss: 0.0471 - accuracy: 0.9953\b\b\b\b\b\b\b\b\b\b\b\b\b\b\b\b\b\b\b\b\b\b\b\b\b\b\b\b\b\b\b\b\b\b\b\b\b\b\b\b\b\b\b\b\b\b\b\b\b\b\b\b\b\b\b\b\b\b\b\b\b\b\b\b\b\b\b\b\b\b\b\b\b\b\b\b\b\b\b\b\b\b\r15/15 [==============================] - 0s 13ms/step - loss: 0.0495 - accuracy: 0.9930 - val_loss: 3.4374 - val_accuracy: 0.4000\n",
            "Epoch 70/100\n",
            "\r 1/15 [=>............................] - ETA: 0s - loss: 0.1419 - accuracy: 0.9000\b\b\b\b\b\b\b\b\b\b\b\b\b\b\b\b\b\b\b\b\b\b\b\b\b\b\b\b\b\b\b\b\b\b\b\b\b\b\b\b\b\b\b\b\b\b\b\b\b\b\b\b\b\b\b\b\b\b\b\b\b\b\b\b\b\b\b\b\b\b\b\b\b\b\b\b\b\b\b\b\b\b\r 7/15 [=============>................] - ETA: 0s - loss: 0.0870 - accuracy: 0.9630\b\b\b\b\b\b\b\b\b\b\b\b\b\b\b\b\b\b\b\b\b\b\b\b\b\b\b\b\b\b\b\b\b\b\b\b\b\b\b\b\b\b\b\b\b\b\b\b\b\b\b\b\b\b\b\b\b\b\b\b\b\b\b\b\b\b\b\b\b\b\b\b\b\b\b\b\b\b\b\b\b\b\r13/15 [=========================>....] - ETA: 0s - loss: 0.0759 - accuracy: 0.9755\b\b\b\b\b\b\b\b\b\b\b\b\b\b\b\b\b\b\b\b\b\b\b\b\b\b\b\b\b\b\b\b\b\b\b\b\b\b\b\b\b\b\b\b\b\b\b\b\b\b\b\b\b\b\b\b\b\b\b\b\b\b\b\b\b\b\b\b\b\b\b\b\b\b\b\b\b\b\b\b\b\b\r15/15 [==============================] - 0s 13ms/step - loss: 0.0723 - accuracy: 0.9788 - val_loss: 3.4435 - val_accuracy: 0.4000\n",
            "Epoch 71/100\n",
            "\r 1/15 [=>............................] - ETA: 0s - loss: 0.0519 - accuracy: 1.0000\b\b\b\b\b\b\b\b\b\b\b\b\b\b\b\b\b\b\b\b\b\b\b\b\b\b\b\b\b\b\b\b\b\b\b\b\b\b\b\b\b\b\b\b\b\b\b\b\b\b\b\b\b\b\b\b\b\b\b\b\b\b\b\b\b\b\b\b\b\b\b\b\b\b\b\b\b\b\b\b\b\b\r 7/15 [=============>................] - ETA: 0s - loss: 0.0469 - accuracy: 1.0000\b\b\b\b\b\b\b\b\b\b\b\b\b\b\b\b\b\b\b\b\b\b\b\b\b\b\b\b\b\b\b\b\b\b\b\b\b\b\b\b\b\b\b\b\b\b\b\b\b\b\b\b\b\b\b\b\b\b\b\b\b\b\b\b\b\b\b\b\b\b\b\b\b\b\b\b\b\b\b\b\b\b\r13/15 [=========================>....] - ETA: 0s - loss: 0.0474 - accuracy: 1.0000\b\b\b\b\b\b\b\b\b\b\b\b\b\b\b\b\b\b\b\b\b\b\b\b\b\b\b\b\b\b\b\b\b\b\b\b\b\b\b\b\b\b\b\b\b\b\b\b\b\b\b\b\b\b\b\b\b\b\b\b\b\b\b\b\b\b\b\b\b\b\b\b\b\b\b\b\b\b\b\b\b\b\r15/15 [==============================] - 0s 13ms/step - loss: 0.0466 - accuracy: 1.0000 - val_loss: 3.4547 - val_accuracy: 0.3800\n",
            "Epoch 72/100\n",
            "\r 1/15 [=>............................] - ETA: 0s - loss: 0.0221 - accuracy: 1.0000\b\b\b\b\b\b\b\b\b\b\b\b\b\b\b\b\b\b\b\b\b\b\b\b\b\b\b\b\b\b\b\b\b\b\b\b\b\b\b\b\b\b\b\b\b\b\b\b\b\b\b\b\b\b\b\b\b\b\b\b\b\b\b\b\b\b\b\b\b\b\b\b\b\b\b\b\b\b\b\b\b\b\r 6/15 [===========>..................] - ETA: 0s - loss: 0.0279 - accuracy: 1.0000\b\b\b\b\b\b\b\b\b\b\b\b\b\b\b\b\b\b\b\b\b\b\b\b\b\b\b\b\b\b\b\b\b\b\b\b\b\b\b\b\b\b\b\b\b\b\b\b\b\b\b\b\b\b\b\b\b\b\b\b\b\b\b\b\b\b\b\b\b\b\b\b\b\b\b\b\b\b\b\b\b\b\r11/15 [=====================>........] - ETA: 0s - loss: 0.0273 - accuracy: 1.0000\b\b\b\b\b\b\b\b\b\b\b\b\b\b\b\b\b\b\b\b\b\b\b\b\b\b\b\b\b\b\b\b\b\b\b\b\b\b\b\b\b\b\b\b\b\b\b\b\b\b\b\b\b\b\b\b\b\b\b\b\b\b\b\b\b\b\b\b\b\b\b\b\b\b\b\b\b\b\b\b\b\b\r15/15 [==============================] - 0s 13ms/step - loss: 0.0313 - accuracy: 1.0000 - val_loss: 3.4366 - val_accuracy: 0.4000\n",
            "Epoch 73/100\n",
            "\r 1/15 [=>............................] - ETA: 0s - loss: 0.0546 - accuracy: 1.0000\b\b\b\b\b\b\b\b\b\b\b\b\b\b\b\b\b\b\b\b\b\b\b\b\b\b\b\b\b\b\b\b\b\b\b\b\b\b\b\b\b\b\b\b\b\b\b\b\b\b\b\b\b\b\b\b\b\b\b\b\b\b\b\b\b\b\b\b\b\b\b\b\b\b\b\b\b\b\b\b\b\b\r 7/15 [=============>................] - ETA: 0s - loss: 0.0423 - accuracy: 1.0000\b\b\b\b\b\b\b\b\b\b\b\b\b\b\b\b\b\b\b\b\b\b\b\b\b\b\b\b\b\b\b\b\b\b\b\b\b\b\b\b\b\b\b\b\b\b\b\b\b\b\b\b\b\b\b\b\b\b\b\b\b\b\b\b\b\b\b\b\b\b\b\b\b\b\b\b\b\b\b\b\b\b\r13/15 [=========================>....] - ETA: 0s - loss: 0.0445 - accuracy: 0.9981\b\b\b\b\b\b\b\b\b\b\b\b\b\b\b\b\b\b\b\b\b\b\b\b\b\b\b\b\b\b\b\b\b\b\b\b\b\b\b\b\b\b\b\b\b\b\b\b\b\b\b\b\b\b\b\b\b\b\b\b\b\b\b\b\b\b\b\b\b\b\b\b\b\b\b\b\b\b\b\b\b\b\r15/15 [==============================] - 0s 13ms/step - loss: 0.0456 - accuracy: 0.9972 - val_loss: 3.4463 - val_accuracy: 0.4200\n",
            "Epoch 74/100\n",
            "\r 1/15 [=>............................] - ETA: 0s - loss: 0.0160 - accuracy: 1.0000\b\b\b\b\b\b\b\b\b\b\b\b\b\b\b\b\b\b\b\b\b\b\b\b\b\b\b\b\b\b\b\b\b\b\b\b\b\b\b\b\b\b\b\b\b\b\b\b\b\b\b\b\b\b\b\b\b\b\b\b\b\b\b\b\b\b\b\b\b\b\b\b\b\b\b\b\b\b\b\b\b\b\r 6/15 [===========>..................] - ETA: 0s - loss: 0.0313 - accuracy: 1.0000\b\b\b\b\b\b\b\b\b\b\b\b\b\b\b\b\b\b\b\b\b\b\b\b\b\b\b\b\b\b\b\b\b\b\b\b\b\b\b\b\b\b\b\b\b\b\b\b\b\b\b\b\b\b\b\b\b\b\b\b\b\b\b\b\b\b\b\b\b\b\b\b\b\b\b\b\b\b\b\b\b\b\r12/15 [=======================>......] - ETA: 0s - loss: 0.0350 - accuracy: 1.0000\b\b\b\b\b\b\b\b\b\b\b\b\b\b\b\b\b\b\b\b\b\b\b\b\b\b\b\b\b\b\b\b\b\b\b\b\b\b\b\b\b\b\b\b\b\b\b\b\b\b\b\b\b\b\b\b\b\b\b\b\b\b\b\b\b\b\b\b\b\b\b\b\b\b\b\b\b\b\b\b\b\b\r15/15 [==============================] - 0s 13ms/step - loss: 0.0348 - accuracy: 1.0000 - val_loss: 3.4744 - val_accuracy: 0.4000\n",
            "Epoch 75/100\n",
            "\r 1/15 [=>............................] - ETA: 0s - loss: 0.0035 - accuracy: 1.0000\b\b\b\b\b\b\b\b\b\b\b\b\b\b\b\b\b\b\b\b\b\b\b\b\b\b\b\b\b\b\b\b\b\b\b\b\b\b\b\b\b\b\b\b\b\b\b\b\b\b\b\b\b\b\b\b\b\b\b\b\b\b\b\b\b\b\b\b\b\b\b\b\b\b\b\b\b\b\b\b\b\b\r 6/15 [===========>..................] - ETA: 0s - loss: 0.0386 - accuracy: 0.9758\b\b\b\b\b\b\b\b\b\b\b\b\b\b\b\b\b\b\b\b\b\b\b\b\b\b\b\b\b\b\b\b\b\b\b\b\b\b\b\b\b\b\b\b\b\b\b\b\b\b\b\b\b\b\b\b\b\b\b\b\b\b\b\b\b\b\b\b\b\b\b\b\b\b\b\b\b\b\b\b\b\b\r11/15 [=====================>........] - ETA: 0s - loss: 0.0438 - accuracy: 0.9765\b\b\b\b\b\b\b\b\b\b\b\b\b\b\b\b\b\b\b\b\b\b\b\b\b\b\b\b\b\b\b\b\b\b\b\b\b\b\b\b\b\b\b\b\b\b\b\b\b\b\b\b\b\b\b\b\b\b\b\b\b\b\b\b\b\b\b\b\b\b\b\b\b\b\b\b\b\b\b\b\b\b\r15/15 [==============================] - 0s 14ms/step - loss: 0.0439 - accuracy: 0.9793 - val_loss: 3.4101 - val_accuracy: 0.4200\n",
            "Epoch 76/100\n",
            "\r 1/15 [=>............................] - ETA: 0s - loss: 0.0031 - accuracy: 1.0000\b\b\b\b\b\b\b\b\b\b\b\b\b\b\b\b\b\b\b\b\b\b\b\b\b\b\b\b\b\b\b\b\b\b\b\b\b\b\b\b\b\b\b\b\b\b\b\b\b\b\b\b\b\b\b\b\b\b\b\b\b\b\b\b\b\b\b\b\b\b\b\b\b\b\b\b\b\b\b\b\b\b\r 7/15 [=============>................] - ETA: 0s - loss: 0.0339 - accuracy: 0.9927\b\b\b\b\b\b\b\b\b\b\b\b\b\b\b\b\b\b\b\b\b\b\b\b\b\b\b\b\b\b\b\b\b\b\b\b\b\b\b\b\b\b\b\b\b\b\b\b\b\b\b\b\b\b\b\b\b\b\b\b\b\b\b\b\b\b\b\b\b\b\b\b\b\b\b\b\b\b\b\b\b\b\r14/15 [===========================>..] - ETA: 0s - loss: 0.0432 - accuracy: 0.9900\b\b\b\b\b\b\b\b\b\b\b\b\b\b\b\b\b\b\b\b\b\b\b\b\b\b\b\b\b\b\b\b\b\b\b\b\b\b\b\b\b\b\b\b\b\b\b\b\b\b\b\b\b\b\b\b\b\b\b\b\b\b\b\b\b\b\b\b\b\b\b\b\b\b\b\b\b\b\b\b\b\b\r15/15 [==============================] - 0s 10ms/step - loss: 0.0450 - accuracy: 0.9896 - val_loss: 3.4860 - val_accuracy: 0.4000\n",
            "Epoch 77/100\n",
            "\r 1/15 [=>............................] - ETA: 0s - loss: 0.0632 - accuracy: 1.0000\b\b\b\b\b\b\b\b\b\b\b\b\b\b\b\b\b\b\b\b\b\b\b\b\b\b\b\b\b\b\b\b\b\b\b\b\b\b\b\b\b\b\b\b\b\b\b\b\b\b\b\b\b\b\b\b\b\b\b\b\b\b\b\b\b\b\b\b\b\b\b\b\b\b\b\b\b\b\b\b\b\b\r13/15 [=========================>....] - ETA: 0s - loss: 0.0454 - accuracy: 1.0000\b\b\b\b\b\b\b\b\b\b\b\b\b\b\b\b\b\b\b\b\b\b\b\b\b\b\b\b\b\b\b\b\b\b\b\b\b\b\b\b\b\b\b\b\b\b\b\b\b\b\b\b\b\b\b\b\b\b\b\b\b\b\b\b\b\b\b\b\b\b\b\b\b\b\b\b\b\b\b\b\b\b\r15/15 [==============================] - 0s 10ms/step - loss: 0.0436 - accuracy: 1.0000 - val_loss: 3.4842 - val_accuracy: 0.4000\n",
            "Epoch 78/100\n",
            "\r 1/15 [=>............................] - ETA: 0s - loss: 0.0320 - accuracy: 1.0000\b\b\b\b\b\b\b\b\b\b\b\b\b\b\b\b\b\b\b\b\b\b\b\b\b\b\b\b\b\b\b\b\b\b\b\b\b\b\b\b\b\b\b\b\b\b\b\b\b\b\b\b\b\b\b\b\b\b\b\b\b\b\b\b\b\b\b\b\b\b\b\b\b\b\b\b\b\b\b\b\b\b\r 7/15 [=============>................] - ETA: 0s - loss: 0.0256 - accuracy: 1.0000\b\b\b\b\b\b\b\b\b\b\b\b\b\b\b\b\b\b\b\b\b\b\b\b\b\b\b\b\b\b\b\b\b\b\b\b\b\b\b\b\b\b\b\b\b\b\b\b\b\b\b\b\b\b\b\b\b\b\b\b\b\b\b\b\b\b\b\b\b\b\b\b\b\b\b\b\b\b\b\b\b\b\r13/15 [=========================>....] - ETA: 0s - loss: 0.0362 - accuracy: 0.9954\b\b\b\b\b\b\b\b\b\b\b\b\b\b\b\b\b\b\b\b\b\b\b\b\b\b\b\b\b\b\b\b\b\b\b\b\b\b\b\b\b\b\b\b\b\b\b\b\b\b\b\b\b\b\b\b\b\b\b\b\b\b\b\b\b\b\b\b\b\b\b\b\b\b\b\b\b\b\b\b\b\b\r15/15 [==============================] - 0s 13ms/step - loss: 0.0392 - accuracy: 0.9937 - val_loss: 3.5777 - val_accuracy: 0.4000\n",
            "Epoch 79/100\n",
            "\r 1/15 [=>............................] - ETA: 0s - loss: 0.0339 - accuracy: 1.0000\b\b\b\b\b\b\b\b\b\b\b\b\b\b\b\b\b\b\b\b\b\b\b\b\b\b\b\b\b\b\b\b\b\b\b\b\b\b\b\b\b\b\b\b\b\b\b\b\b\b\b\b\b\b\b\b\b\b\b\b\b\b\b\b\b\b\b\b\b\b\b\b\b\b\b\b\b\b\b\b\b\b\r 7/15 [=============>................] - ETA: 0s - loss: 0.0265 - accuracy: 1.0000\b\b\b\b\b\b\b\b\b\b\b\b\b\b\b\b\b\b\b\b\b\b\b\b\b\b\b\b\b\b\b\b\b\b\b\b\b\b\b\b\b\b\b\b\b\b\b\b\b\b\b\b\b\b\b\b\b\b\b\b\b\b\b\b\b\b\b\b\b\b\b\b\b\b\b\b\b\b\b\b\b\b\r15/15 [==============================] - ETA: 0s - loss: 0.0303 - accuracy: 0.9986\b\b\b\b\b\b\b\b\b\b\b\b\b\b\b\b\b\b\b\b\b\b\b\b\b\b\b\b\b\b\b\b\b\b\b\b\b\b\b\b\b\b\b\b\b\b\b\b\b\b\b\b\b\b\b\b\b\b\b\b\b\b\b\b\b\b\b\b\b\b\b\b\b\b\b\b\b\b\b\b\b\b\r15/15 [==============================] - 0s 11ms/step - loss: 0.0306 - accuracy: 0.9982 - val_loss: 3.6830 - val_accuracy: 0.4000\n",
            "Epoch 80/100\n",
            "\r 1/15 [=>............................] - ETA: 0s - loss: 0.0123 - accuracy: 1.0000\b\b\b\b\b\b\b\b\b\b\b\b\b\b\b\b\b\b\b\b\b\b\b\b\b\b\b\b\b\b\b\b\b\b\b\b\b\b\b\b\b\b\b\b\b\b\b\b\b\b\b\b\b\b\b\b\b\b\b\b\b\b\b\b\b\b\b\b\b\b\b\b\b\b\b\b\b\b\b\b\b\b\r 7/15 [=============>................] - ETA: 0s - loss: 0.0189 - accuracy: 1.0000\b\b\b\b\b\b\b\b\b\b\b\b\b\b\b\b\b\b\b\b\b\b\b\b\b\b\b\b\b\b\b\b\b\b\b\b\b\b\b\b\b\b\b\b\b\b\b\b\b\b\b\b\b\b\b\b\b\b\b\b\b\b\b\b\b\b\b\b\b\b\b\b\b\b\b\b\b\b\b\b\b\b\r13/15 [=========================>....] - ETA: 0s - loss: 0.0281 - accuracy: 0.9955\b\b\b\b\b\b\b\b\b\b\b\b\b\b\b\b\b\b\b\b\b\b\b\b\b\b\b\b\b\b\b\b\b\b\b\b\b\b\b\b\b\b\b\b\b\b\b\b\b\b\b\b\b\b\b\b\b\b\b\b\b\b\b\b\b\b\b\b\b\b\b\b\b\b\b\b\b\b\b\b\b\b\r15/15 [==============================] - 0s 12ms/step - loss: 0.0301 - accuracy: 0.9950 - val_loss: 3.6366 - val_accuracy: 0.4200\n",
            "Epoch 81/100\n",
            "\r 1/15 [=>............................] - ETA: 0s - loss: 0.0340 - accuracy: 1.0000\b\b\b\b\b\b\b\b\b\b\b\b\b\b\b\b\b\b\b\b\b\b\b\b\b\b\b\b\b\b\b\b\b\b\b\b\b\b\b\b\b\b\b\b\b\b\b\b\b\b\b\b\b\b\b\b\b\b\b\b\b\b\b\b\b\b\b\b\b\b\b\b\b\b\b\b\b\b\b\b\b\b\r 7/15 [=============>................] - ETA: 0s - loss: 0.0273 - accuracy: 1.0000\b\b\b\b\b\b\b\b\b\b\b\b\b\b\b\b\b\b\b\b\b\b\b\b\b\b\b\b\b\b\b\b\b\b\b\b\b\b\b\b\b\b\b\b\b\b\b\b\b\b\b\b\b\b\b\b\b\b\b\b\b\b\b\b\b\b\b\b\b\b\b\b\b\b\b\b\b\b\b\b\b\b\r13/15 [=========================>....] - ETA: 0s - loss: 0.0260 - accuracy: 1.0000\b\b\b\b\b\b\b\b\b\b\b\b\b\b\b\b\b\b\b\b\b\b\b\b\b\b\b\b\b\b\b\b\b\b\b\b\b\b\b\b\b\b\b\b\b\b\b\b\b\b\b\b\b\b\b\b\b\b\b\b\b\b\b\b\b\b\b\b\b\b\b\b\b\b\b\b\b\b\b\b\b\b\r15/15 [==============================] - 0s 12ms/step - loss: 0.0258 - accuracy: 1.0000 - val_loss: 3.6863 - val_accuracy: 0.4200\n",
            "Epoch 82/100\n",
            "\r 1/15 [=>............................] - ETA: 0s - loss: 0.0212 - accuracy: 1.0000\b\b\b\b\b\b\b\b\b\b\b\b\b\b\b\b\b\b\b\b\b\b\b\b\b\b\b\b\b\b\b\b\b\b\b\b\b\b\b\b\b\b\b\b\b\b\b\b\b\b\b\b\b\b\b\b\b\b\b\b\b\b\b\b\b\b\b\b\b\b\b\b\b\b\b\b\b\b\b\b\b\b\r 6/15 [===========>..................] - ETA: 0s - loss: 0.0242 - accuracy: 1.0000\b\b\b\b\b\b\b\b\b\b\b\b\b\b\b\b\b\b\b\b\b\b\b\b\b\b\b\b\b\b\b\b\b\b\b\b\b\b\b\b\b\b\b\b\b\b\b\b\b\b\b\b\b\b\b\b\b\b\b\b\b\b\b\b\b\b\b\b\b\b\b\b\b\b\b\b\b\b\b\b\b\b\r12/15 [=======================>......] - ETA: 0s - loss: 0.0251 - accuracy: 1.0000\b\b\b\b\b\b\b\b\b\b\b\b\b\b\b\b\b\b\b\b\b\b\b\b\b\b\b\b\b\b\b\b\b\b\b\b\b\b\b\b\b\b\b\b\b\b\b\b\b\b\b\b\b\b\b\b\b\b\b\b\b\b\b\b\b\b\b\b\b\b\b\b\b\b\b\b\b\b\b\b\b\b\r15/15 [==============================] - 0s 13ms/step - loss: 0.0257 - accuracy: 1.0000 - val_loss: 3.6536 - val_accuracy: 0.4200\n",
            "Epoch 83/100\n",
            "\r 1/15 [=>............................] - ETA: 0s - loss: 0.1146 - accuracy: 0.9000\b\b\b\b\b\b\b\b\b\b\b\b\b\b\b\b\b\b\b\b\b\b\b\b\b\b\b\b\b\b\b\b\b\b\b\b\b\b\b\b\b\b\b\b\b\b\b\b\b\b\b\b\b\b\b\b\b\b\b\b\b\b\b\b\b\b\b\b\b\b\b\b\b\b\b\b\b\b\b\b\b\b\r 7/15 [=============>................] - ETA: 0s - loss: 0.0739 - accuracy: 0.9473\b\b\b\b\b\b\b\b\b\b\b\b\b\b\b\b\b\b\b\b\b\b\b\b\b\b\b\b\b\b\b\b\b\b\b\b\b\b\b\b\b\b\b\b\b\b\b\b\b\b\b\b\b\b\b\b\b\b\b\b\b\b\b\b\b\b\b\b\b\b\b\b\b\b\b\b\b\b\b\b\b\b\r12/15 [=======================>......] - ETA: 0s - loss: 0.0623 - accuracy: 0.9608\b\b\b\b\b\b\b\b\b\b\b\b\b\b\b\b\b\b\b\b\b\b\b\b\b\b\b\b\b\b\b\b\b\b\b\b\b\b\b\b\b\b\b\b\b\b\b\b\b\b\b\b\b\b\b\b\b\b\b\b\b\b\b\b\b\b\b\b\b\b\b\b\b\b\b\b\b\b\b\b\b\b\r15/15 [==============================] - 0s 13ms/step - loss: 0.0579 - accuracy: 0.9658 - val_loss: 3.6557 - val_accuracy: 0.4200\n",
            "Epoch 84/100\n",
            "\r 1/15 [=>............................] - ETA: 0s - loss: 0.0044 - accuracy: 1.0000\b\b\b\b\b\b\b\b\b\b\b\b\b\b\b\b\b\b\b\b\b\b\b\b\b\b\b\b\b\b\b\b\b\b\b\b\b\b\b\b\b\b\b\b\b\b\b\b\b\b\b\b\b\b\b\b\b\b\b\b\b\b\b\b\b\b\b\b\b\b\b\b\b\b\b\b\b\b\b\b\b\b\r 7/15 [=============>................] - ETA: 0s - loss: 0.0103 - accuracy: 1.0000\b\b\b\b\b\b\b\b\b\b\b\b\b\b\b\b\b\b\b\b\b\b\b\b\b\b\b\b\b\b\b\b\b\b\b\b\b\b\b\b\b\b\b\b\b\b\b\b\b\b\b\b\b\b\b\b\b\b\b\b\b\b\b\b\b\b\b\b\b\b\b\b\b\b\b\b\b\b\b\b\b\b\r13/15 [=========================>....] - ETA: 0s - loss: 0.0152 - accuracy: 1.0000\b\b\b\b\b\b\b\b\b\b\b\b\b\b\b\b\b\b\b\b\b\b\b\b\b\b\b\b\b\b\b\b\b\b\b\b\b\b\b\b\b\b\b\b\b\b\b\b\b\b\b\b\b\b\b\b\b\b\b\b\b\b\b\b\b\b\b\b\b\b\b\b\b\b\b\b\b\b\b\b\b\b\r15/15 [==============================] - 0s 13ms/step - loss: 0.0166 - accuracy: 1.0000 - val_loss: 3.7787 - val_accuracy: 0.4200\n",
            "Epoch 85/100\n",
            "\r 1/15 [=>............................] - ETA: 0s - loss: 0.0136 - accuracy: 1.0000\b\b\b\b\b\b\b\b\b\b\b\b\b\b\b\b\b\b\b\b\b\b\b\b\b\b\b\b\b\b\b\b\b\b\b\b\b\b\b\b\b\b\b\b\b\b\b\b\b\b\b\b\b\b\b\b\b\b\b\b\b\b\b\b\b\b\b\b\b\b\b\b\b\b\b\b\b\b\b\b\b\b\r 7/15 [=============>................] - ETA: 0s - loss: 0.0284 - accuracy: 1.0000\b\b\b\b\b\b\b\b\b\b\b\b\b\b\b\b\b\b\b\b\b\b\b\b\b\b\b\b\b\b\b\b\b\b\b\b\b\b\b\b\b\b\b\b\b\b\b\b\b\b\b\b\b\b\b\b\b\b\b\b\b\b\b\b\b\b\b\b\b\b\b\b\b\b\b\b\b\b\b\b\b\b\r13/15 [=========================>....] - ETA: 0s - loss: 0.0305 - accuracy: 1.0000\b\b\b\b\b\b\b\b\b\b\b\b\b\b\b\b\b\b\b\b\b\b\b\b\b\b\b\b\b\b\b\b\b\b\b\b\b\b\b\b\b\b\b\b\b\b\b\b\b\b\b\b\b\b\b\b\b\b\b\b\b\b\b\b\b\b\b\b\b\b\b\b\b\b\b\b\b\b\b\b\b\b\r15/15 [==============================] - 0s 13ms/step - loss: 0.0333 - accuracy: 0.9992 - val_loss: 3.7682 - val_accuracy: 0.4000\n",
            "Epoch 86/100\n",
            "\r 1/15 [=>............................] - ETA: 0s - loss: 0.0452 - accuracy: 1.0000\b\b\b\b\b\b\b\b\b\b\b\b\b\b\b\b\b\b\b\b\b\b\b\b\b\b\b\b\b\b\b\b\b\b\b\b\b\b\b\b\b\b\b\b\b\b\b\b\b\b\b\b\b\b\b\b\b\b\b\b\b\b\b\b\b\b\b\b\b\b\b\b\b\b\b\b\b\b\b\b\b\b\r 7/15 [=============>................] - ETA: 0s - loss: 0.0340 - accuracy: 1.0000\b\b\b\b\b\b\b\b\b\b\b\b\b\b\b\b\b\b\b\b\b\b\b\b\b\b\b\b\b\b\b\b\b\b\b\b\b\b\b\b\b\b\b\b\b\b\b\b\b\b\b\b\b\b\b\b\b\b\b\b\b\b\b\b\b\b\b\b\b\b\b\b\b\b\b\b\b\b\b\b\b\b\r13/15 [=========================>....] - ETA: 0s - loss: 0.0314 - accuracy: 1.0000\b\b\b\b\b\b\b\b\b\b\b\b\b\b\b\b\b\b\b\b\b\b\b\b\b\b\b\b\b\b\b\b\b\b\b\b\b\b\b\b\b\b\b\b\b\b\b\b\b\b\b\b\b\b\b\b\b\b\b\b\b\b\b\b\b\b\b\b\b\b\b\b\b\b\b\b\b\b\b\b\b\b\r15/15 [==============================] - 0s 12ms/step - loss: 0.0307 - accuracy: 1.0000 - val_loss: 3.7191 - val_accuracy: 0.4200\n",
            "Epoch 87/100\n",
            "\r 1/15 [=>............................] - ETA: 0s - loss: 0.0068 - accuracy: 1.0000\b\b\b\b\b\b\b\b\b\b\b\b\b\b\b\b\b\b\b\b\b\b\b\b\b\b\b\b\b\b\b\b\b\b\b\b\b\b\b\b\b\b\b\b\b\b\b\b\b\b\b\b\b\b\b\b\b\b\b\b\b\b\b\b\b\b\b\b\b\b\b\b\b\b\b\b\b\b\b\b\b\b\r 7/15 [=============>................] - ETA: 0s - loss: 0.0123 - accuracy: 1.0000\b\b\b\b\b\b\b\b\b\b\b\b\b\b\b\b\b\b\b\b\b\b\b\b\b\b\b\b\b\b\b\b\b\b\b\b\b\b\b\b\b\b\b\b\b\b\b\b\b\b\b\b\b\b\b\b\b\b\b\b\b\b\b\b\b\b\b\b\b\b\b\b\b\b\b\b\b\b\b\b\b\b\r13/15 [=========================>....] - ETA: 0s - loss: 0.0140 - accuracy: 1.0000\b\b\b\b\b\b\b\b\b\b\b\b\b\b\b\b\b\b\b\b\b\b\b\b\b\b\b\b\b\b\b\b\b\b\b\b\b\b\b\b\b\b\b\b\b\b\b\b\b\b\b\b\b\b\b\b\b\b\b\b\b\b\b\b\b\b\b\b\b\b\b\b\b\b\b\b\b\b\b\b\b\b\r15/15 [==============================] - 0s 13ms/step - loss: 0.0156 - accuracy: 1.0000 - val_loss: 3.7425 - val_accuracy: 0.4200\n",
            "Epoch 88/100\n",
            "\r 1/15 [=>............................] - ETA: 0s - loss: 0.0293 - accuracy: 1.0000\b\b\b\b\b\b\b\b\b\b\b\b\b\b\b\b\b\b\b\b\b\b\b\b\b\b\b\b\b\b\b\b\b\b\b\b\b\b\b\b\b\b\b\b\b\b\b\b\b\b\b\b\b\b\b\b\b\b\b\b\b\b\b\b\b\b\b\b\b\b\b\b\b\b\b\b\b\b\b\b\b\b\r 7/15 [=============>................] - ETA: 0s - loss: 0.0348 - accuracy: 1.0000\b\b\b\b\b\b\b\b\b\b\b\b\b\b\b\b\b\b\b\b\b\b\b\b\b\b\b\b\b\b\b\b\b\b\b\b\b\b\b\b\b\b\b\b\b\b\b\b\b\b\b\b\b\b\b\b\b\b\b\b\b\b\b\b\b\b\b\b\b\b\b\b\b\b\b\b\b\b\b\b\b\b\r12/15 [=======================>......] - ETA: 0s - loss: 0.0348 - accuracy: 1.0000\b\b\b\b\b\b\b\b\b\b\b\b\b\b\b\b\b\b\b\b\b\b\b\b\b\b\b\b\b\b\b\b\b\b\b\b\b\b\b\b\b\b\b\b\b\b\b\b\b\b\b\b\b\b\b\b\b\b\b\b\b\b\b\b\b\b\b\b\b\b\b\b\b\b\b\b\b\b\b\b\b\b\r15/15 [==============================] - 0s 13ms/step - loss: 0.0333 - accuracy: 1.0000 - val_loss: 3.8162 - val_accuracy: 0.4000\n",
            "Epoch 89/100\n",
            "\r 1/15 [=>............................] - ETA: 0s - loss: 0.0308 - accuracy: 1.0000\b\b\b\b\b\b\b\b\b\b\b\b\b\b\b\b\b\b\b\b\b\b\b\b\b\b\b\b\b\b\b\b\b\b\b\b\b\b\b\b\b\b\b\b\b\b\b\b\b\b\b\b\b\b\b\b\b\b\b\b\b\b\b\b\b\b\b\b\b\b\b\b\b\b\b\b\b\b\b\b\b\b\r 6/15 [===========>..................] - ETA: 0s - loss: 0.0342 - accuracy: 1.0000\b\b\b\b\b\b\b\b\b\b\b\b\b\b\b\b\b\b\b\b\b\b\b\b\b\b\b\b\b\b\b\b\b\b\b\b\b\b\b\b\b\b\b\b\b\b\b\b\b\b\b\b\b\b\b\b\b\b\b\b\b\b\b\b\b\b\b\b\b\b\b\b\b\b\b\b\b\b\b\b\b\b\r11/15 [=====================>........] - ETA: 0s - loss: 0.0374 - accuracy: 0.9948\b\b\b\b\b\b\b\b\b\b\b\b\b\b\b\b\b\b\b\b\b\b\b\b\b\b\b\b\b\b\b\b\b\b\b\b\b\b\b\b\b\b\b\b\b\b\b\b\b\b\b\b\b\b\b\b\b\b\b\b\b\b\b\b\b\b\b\b\b\b\b\b\b\b\b\b\b\b\b\b\b\b\r15/15 [==============================] - 0s 14ms/step - loss: 0.0359 - accuracy: 0.9942 - val_loss: 3.8973 - val_accuracy: 0.4000\n",
            "Epoch 90/100\n",
            "\r 1/15 [=>............................] - ETA: 0s - loss: 0.0020 - accuracy: 1.0000\b\b\b\b\b\b\b\b\b\b\b\b\b\b\b\b\b\b\b\b\b\b\b\b\b\b\b\b\b\b\b\b\b\b\b\b\b\b\b\b\b\b\b\b\b\b\b\b\b\b\b\b\b\b\b\b\b\b\b\b\b\b\b\b\b\b\b\b\b\b\b\b\b\b\b\b\b\b\b\b\b\b\r 6/15 [===========>..................] - ETA: 0s - loss: 0.0114 - accuracy: 1.0000\b\b\b\b\b\b\b\b\b\b\b\b\b\b\b\b\b\b\b\b\b\b\b\b\b\b\b\b\b\b\b\b\b\b\b\b\b\b\b\b\b\b\b\b\b\b\b\b\b\b\b\b\b\b\b\b\b\b\b\b\b\b\b\b\b\b\b\b\b\b\b\b\b\b\b\b\b\b\b\b\b\b\r11/15 [=====================>........] - ETA: 0s - loss: 0.0147 - accuracy: 1.0000\b\b\b\b\b\b\b\b\b\b\b\b\b\b\b\b\b\b\b\b\b\b\b\b\b\b\b\b\b\b\b\b\b\b\b\b\b\b\b\b\b\b\b\b\b\b\b\b\b\b\b\b\b\b\b\b\b\b\b\b\b\b\b\b\b\b\b\b\b\b\b\b\b\b\b\b\b\b\b\b\b\b\r15/15 [==============================] - 0s 14ms/step - loss: 0.0163 - accuracy: 1.0000 - val_loss: 3.9610 - val_accuracy: 0.4200\n",
            "Epoch 91/100\n",
            "\r 1/15 [=>............................] - ETA: 0s - loss: 0.0023 - accuracy: 1.0000\b\b\b\b\b\b\b\b\b\b\b\b\b\b\b\b\b\b\b\b\b\b\b\b\b\b\b\b\b\b\b\b\b\b\b\b\b\b\b\b\b\b\b\b\b\b\b\b\b\b\b\b\b\b\b\b\b\b\b\b\b\b\b\b\b\b\b\b\b\b\b\b\b\b\b\b\b\b\b\b\b\b\r 6/15 [===========>..................] - ETA: 0s - loss: 0.0074 - accuracy: 1.0000\b\b\b\b\b\b\b\b\b\b\b\b\b\b\b\b\b\b\b\b\b\b\b\b\b\b\b\b\b\b\b\b\b\b\b\b\b\b\b\b\b\b\b\b\b\b\b\b\b\b\b\b\b\b\b\b\b\b\b\b\b\b\b\b\b\b\b\b\b\b\b\b\b\b\b\b\b\b\b\b\b\b\r12/15 [=======================>......] - ETA: 0s - loss: 0.0109 - accuracy: 1.0000\b\b\b\b\b\b\b\b\b\b\b\b\b\b\b\b\b\b\b\b\b\b\b\b\b\b\b\b\b\b\b\b\b\b\b\b\b\b\b\b\b\b\b\b\b\b\b\b\b\b\b\b\b\b\b\b\b\b\b\b\b\b\b\b\b\b\b\b\b\b\b\b\b\b\b\b\b\b\b\b\b\b\r15/15 [==============================] - 0s 13ms/step - loss: 0.0137 - accuracy: 1.0000 - val_loss: 3.9832 - val_accuracy: 0.4200\n",
            "Epoch 92/100\n",
            "\r 1/15 [=>............................] - ETA: 0s - loss: 0.0094 - accuracy: 1.0000\b\b\b\b\b\b\b\b\b\b\b\b\b\b\b\b\b\b\b\b\b\b\b\b\b\b\b\b\b\b\b\b\b\b\b\b\b\b\b\b\b\b\b\b\b\b\b\b\b\b\b\b\b\b\b\b\b\b\b\b\b\b\b\b\b\b\b\b\b\b\b\b\b\b\b\b\b\b\b\b\b\b\r 7/15 [=============>................] - ETA: 0s - loss: 0.0346 - accuracy: 0.9891\b\b\b\b\b\b\b\b\b\b\b\b\b\b\b\b\b\b\b\b\b\b\b\b\b\b\b\b\b\b\b\b\b\b\b\b\b\b\b\b\b\b\b\b\b\b\b\b\b\b\b\b\b\b\b\b\b\b\b\b\b\b\b\b\b\b\b\b\b\b\b\b\b\b\b\b\b\b\b\b\b\b\r13/15 [=========================>....] - ETA: 0s - loss: 0.0329 - accuracy: 0.9896\b\b\b\b\b\b\b\b\b\b\b\b\b\b\b\b\b\b\b\b\b\b\b\b\b\b\b\b\b\b\b\b\b\b\b\b\b\b\b\b\b\b\b\b\b\b\b\b\b\b\b\b\b\b\b\b\b\b\b\b\b\b\b\b\b\b\b\b\b\b\b\b\b\b\b\b\b\b\b\b\b\b\r15/15 [==============================] - 0s 12ms/step - loss: 0.0317 - accuracy: 0.9903 - val_loss: 3.9683 - val_accuracy: 0.4200\n",
            "Epoch 93/100\n",
            "\r 1/15 [=>............................] - ETA: 0s - loss: 0.0065 - accuracy: 1.0000\b\b\b\b\b\b\b\b\b\b\b\b\b\b\b\b\b\b\b\b\b\b\b\b\b\b\b\b\b\b\b\b\b\b\b\b\b\b\b\b\b\b\b\b\b\b\b\b\b\b\b\b\b\b\b\b\b\b\b\b\b\b\b\b\b\b\b\b\b\b\b\b\b\b\b\b\b\b\b\b\b\b\r 9/15 [=================>............] - ETA: 0s - loss: 0.0400 - accuracy: 0.9852\b\b\b\b\b\b\b\b\b\b\b\b\b\b\b\b\b\b\b\b\b\b\b\b\b\b\b\b\b\b\b\b\b\b\b\b\b\b\b\b\b\b\b\b\b\b\b\b\b\b\b\b\b\b\b\b\b\b\b\b\b\b\b\b\b\b\b\b\b\b\b\b\b\b\b\b\b\b\b\b\b\b\r15/15 [==============================] - 0s 9ms/step - loss: 0.0348 - accuracy: 0.9882 - val_loss: 3.8686 - val_accuracy: 0.4000\n",
            "Epoch 94/100\n",
            "\r 1/15 [=>............................] - ETA: 0s - loss: 0.0095 - accuracy: 1.0000\b\b\b\b\b\b\b\b\b\b\b\b\b\b\b\b\b\b\b\b\b\b\b\b\b\b\b\b\b\b\b\b\b\b\b\b\b\b\b\b\b\b\b\b\b\b\b\b\b\b\b\b\b\b\b\b\b\b\b\b\b\b\b\b\b\b\b\b\b\b\b\b\b\b\b\b\b\b\b\b\b\b\r 9/15 [=================>............] - ETA: 0s - loss: 0.0262 - accuracy: 0.9852\b\b\b\b\b\b\b\b\b\b\b\b\b\b\b\b\b\b\b\b\b\b\b\b\b\b\b\b\b\b\b\b\b\b\b\b\b\b\b\b\b\b\b\b\b\b\b\b\b\b\b\b\b\b\b\b\b\b\b\b\b\b\b\b\b\b\b\b\b\b\b\b\b\b\b\b\b\b\b\b\b\b\r15/15 [==============================] - 0s 10ms/step - loss: 0.0308 - accuracy: 0.9836 - val_loss: 3.9023 - val_accuracy: 0.4000\n",
            "Epoch 95/100\n",
            "\r 1/15 [=>............................] - ETA: 0s - loss: 0.0035 - accuracy: 1.0000\b\b\b\b\b\b\b\b\b\b\b\b\b\b\b\b\b\b\b\b\b\b\b\b\b\b\b\b\b\b\b\b\b\b\b\b\b\b\b\b\b\b\b\b\b\b\b\b\b\b\b\b\b\b\b\b\b\b\b\b\b\b\b\b\b\b\b\b\b\b\b\b\b\b\b\b\b\b\b\b\b\b\r 7/15 [=============>................] - ETA: 0s - loss: 0.0351 - accuracy: 0.9772\b\b\b\b\b\b\b\b\b\b\b\b\b\b\b\b\b\b\b\b\b\b\b\b\b\b\b\b\b\b\b\b\b\b\b\b\b\b\b\b\b\b\b\b\b\b\b\b\b\b\b\b\b\b\b\b\b\b\b\b\b\b\b\b\b\b\b\b\b\b\b\b\b\b\b\b\b\b\b\b\b\b\r12/15 [=======================>......] - ETA: 0s - loss: 0.0322 - accuracy: 0.9825\b\b\b\b\b\b\b\b\b\b\b\b\b\b\b\b\b\b\b\b\b\b\b\b\b\b\b\b\b\b\b\b\b\b\b\b\b\b\b\b\b\b\b\b\b\b\b\b\b\b\b\b\b\b\b\b\b\b\b\b\b\b\b\b\b\b\b\b\b\b\b\b\b\b\b\b\b\b\b\b\b\b\r15/15 [==============================] - 0s 13ms/step - loss: 0.0307 - accuracy: 0.9851 - val_loss: 3.9530 - val_accuracy: 0.4000\n",
            "Epoch 96/100\n",
            "\r 1/15 [=>............................] - ETA: 0s - loss: 0.0421 - accuracy: 1.0000\b\b\b\b\b\b\b\b\b\b\b\b\b\b\b\b\b\b\b\b\b\b\b\b\b\b\b\b\b\b\b\b\b\b\b\b\b\b\b\b\b\b\b\b\b\b\b\b\b\b\b\b\b\b\b\b\b\b\b\b\b\b\b\b\b\b\b\b\b\b\b\b\b\b\b\b\b\b\b\b\b\b\r 7/15 [=============>................] - ETA: 0s - loss: 0.0247 - accuracy: 1.0000\b\b\b\b\b\b\b\b\b\b\b\b\b\b\b\b\b\b\b\b\b\b\b\b\b\b\b\b\b\b\b\b\b\b\b\b\b\b\b\b\b\b\b\b\b\b\b\b\b\b\b\b\b\b\b\b\b\b\b\b\b\b\b\b\b\b\b\b\b\b\b\b\b\b\b\b\b\b\b\b\b\b\r13/15 [=========================>....] - ETA: 0s - loss: 0.0242 - accuracy: 1.0000\b\b\b\b\b\b\b\b\b\b\b\b\b\b\b\b\b\b\b\b\b\b\b\b\b\b\b\b\b\b\b\b\b\b\b\b\b\b\b\b\b\b\b\b\b\b\b\b\b\b\b\b\b\b\b\b\b\b\b\b\b\b\b\b\b\b\b\b\b\b\b\b\b\b\b\b\b\b\b\b\b\b\r15/15 [==============================] - 0s 13ms/step - loss: 0.0234 - accuracy: 1.0000 - val_loss: 4.0344 - val_accuracy: 0.4000\n",
            "Epoch 97/100\n",
            "\r 1/15 [=>............................] - ETA: 0s - loss: 0.0131 - accuracy: 1.0000\b\b\b\b\b\b\b\b\b\b\b\b\b\b\b\b\b\b\b\b\b\b\b\b\b\b\b\b\b\b\b\b\b\b\b\b\b\b\b\b\b\b\b\b\b\b\b\b\b\b\b\b\b\b\b\b\b\b\b\b\b\b\b\b\b\b\b\b\b\b\b\b\b\b\b\b\b\b\b\b\b\b\r 6/15 [===========>..................] - ETA: 0s - loss: 0.0206 - accuracy: 1.0000\b\b\b\b\b\b\b\b\b\b\b\b\b\b\b\b\b\b\b\b\b\b\b\b\b\b\b\b\b\b\b\b\b\b\b\b\b\b\b\b\b\b\b\b\b\b\b\b\b\b\b\b\b\b\b\b\b\b\b\b\b\b\b\b\b\b\b\b\b\b\b\b\b\b\b\b\b\b\b\b\b\b\r11/15 [=====================>........] - ETA: 0s - loss: 0.0219 - accuracy: 1.0000\b\b\b\b\b\b\b\b\b\b\b\b\b\b\b\b\b\b\b\b\b\b\b\b\b\b\b\b\b\b\b\b\b\b\b\b\b\b\b\b\b\b\b\b\b\b\b\b\b\b\b\b\b\b\b\b\b\b\b\b\b\b\b\b\b\b\b\b\b\b\b\b\b\b\b\b\b\b\b\b\b\b\r15/15 [==============================] - 0s 12ms/step - loss: 0.0211 - accuracy: 1.0000 - val_loss: 4.0721 - val_accuracy: 0.4200\n",
            "Epoch 98/100\n",
            "\r 1/15 [=>............................] - ETA: 0s - loss: 0.0429 - accuracy: 1.0000\b\b\b\b\b\b\b\b\b\b\b\b\b\b\b\b\b\b\b\b\b\b\b\b\b\b\b\b\b\b\b\b\b\b\b\b\b\b\b\b\b\b\b\b\b\b\b\b\b\b\b\b\b\b\b\b\b\b\b\b\b\b\b\b\b\b\b\b\b\b\b\b\b\b\b\b\b\b\b\b\b\b\r 8/15 [===============>..............] - ETA: 0s - loss: 0.0397 - accuracy: 0.9921\b\b\b\b\b\b\b\b\b\b\b\b\b\b\b\b\b\b\b\b\b\b\b\b\b\b\b\b\b\b\b\b\b\b\b\b\b\b\b\b\b\b\b\b\b\b\b\b\b\b\b\b\b\b\b\b\b\b\b\b\b\b\b\b\b\b\b\b\b\b\b\b\b\b\b\b\b\b\b\b\b\b\r14/15 [===========================>..] - ETA: 0s - loss: 0.0389 - accuracy: 0.9917\b\b\b\b\b\b\b\b\b\b\b\b\b\b\b\b\b\b\b\b\b\b\b\b\b\b\b\b\b\b\b\b\b\b\b\b\b\b\b\b\b\b\b\b\b\b\b\b\b\b\b\b\b\b\b\b\b\b\b\b\b\b\b\b\b\b\b\b\b\b\b\b\b\b\b\b\b\b\b\b\b\b\r15/15 [==============================] - 0s 12ms/step - loss: 0.0391 - accuracy: 0.9910 - val_loss: 3.9818 - val_accuracy: 0.3800\n",
            "Epoch 99/100\n",
            "\r 1/15 [=>............................] - ETA: 0s - loss: 0.0031 - accuracy: 1.0000\b\b\b\b\b\b\b\b\b\b\b\b\b\b\b\b\b\b\b\b\b\b\b\b\b\b\b\b\b\b\b\b\b\b\b\b\b\b\b\b\b\b\b\b\b\b\b\b\b\b\b\b\b\b\b\b\b\b\b\b\b\b\b\b\b\b\b\b\b\b\b\b\b\b\b\b\b\b\b\b\b\b\r 7/15 [=============>................] - ETA: 0s - loss: 0.0203 - accuracy: 0.9956\b\b\b\b\b\b\b\b\b\b\b\b\b\b\b\b\b\b\b\b\b\b\b\b\b\b\b\b\b\b\b\b\b\b\b\b\b\b\b\b\b\b\b\b\b\b\b\b\b\b\b\b\b\b\b\b\b\b\b\b\b\b\b\b\b\b\b\b\b\b\b\b\b\b\b\b\b\b\b\b\b\b\r12/15 [=======================>......] - ETA: 0s - loss: 0.0250 - accuracy: 0.9932\b\b\b\b\b\b\b\b\b\b\b\b\b\b\b\b\b\b\b\b\b\b\b\b\b\b\b\b\b\b\b\b\b\b\b\b\b\b\b\b\b\b\b\b\b\b\b\b\b\b\b\b\b\b\b\b\b\b\b\b\b\b\b\b\b\b\b\b\b\b\b\b\b\b\b\b\b\b\b\b\b\b\r15/15 [==============================] - 0s 13ms/step - loss: 0.0254 - accuracy: 0.9931 - val_loss: 3.9149 - val_accuracy: 0.4000\n",
            "Epoch 100/100\n",
            "\r 1/15 [=>............................] - ETA: 0s - loss: 0.0096 - accuracy: 1.0000\b\b\b\b\b\b\b\b\b\b\b\b\b\b\b\b\b\b\b\b\b\b\b\b\b\b\b\b\b\b\b\b\b\b\b\b\b\b\b\b\b\b\b\b\b\b\b\b\b\b\b\b\b\b\b\b\b\b\b\b\b\b\b\b\b\b\b\b\b\b\b\b\b\b\b\b\b\b\b\b\b\b\r 7/15 [=============>................] - ETA: 0s - loss: 0.0347 - accuracy: 0.9772\b\b\b\b\b\b\b\b\b\b\b\b\b\b\b\b\b\b\b\b\b\b\b\b\b\b\b\b\b\b\b\b\b\b\b\b\b\b\b\b\b\b\b\b\b\b\b\b\b\b\b\b\b\b\b\b\b\b\b\b\b\b\b\b\b\b\b\b\b\b\b\b\b\b\b\b\b\b\b\b\b\b\r13/15 [=========================>....] - ETA: 0s - loss: 0.0355 - accuracy: 0.9832\b\b\b\b\b\b\b\b\b\b\b\b\b\b\b\b\b\b\b\b\b\b\b\b\b\b\b\b\b\b\b\b\b\b\b\b\b\b\b\b\b\b\b\b\b\b\b\b\b\b\b\b\b\b\b\b\b\b\b\b\b\b\b\b\b\b\b\b\b\b\b\b\b\b\b\b\b\b\b\b\b\b\r15/15 [==============================] - 0s 12ms/step - loss: 0.0347 - accuracy: 0.9851 - val_loss: 4.0901 - val_accuracy: 0.4200\n",
            "\n",
            "Model training completed.\n",
            "\n",
            "\n",
            "Model saving completed.\n",
            "\n"
          ],
          "name": "stdout"
        },
        {
          "output_type": "stream",
          "text": [
            "2021-01-06 20:40:25.597757: I tensorflow/stream_executor/platform/default/dso_loader.cc:49] Successfully opened dynamic library libcudart.so.10.1\n",
            "2021-01-06 20:40:28.448471: I tensorflow/compiler/jit/xla_cpu_device.cc:41] Not creating XLA devices, tf_xla_enable_xla_devices not set\n",
            "2021-01-06 20:40:28.449962: I tensorflow/stream_executor/platform/default/dso_loader.cc:49] Successfully opened dynamic library libcuda.so.1\n",
            "2021-01-06 20:40:28.459804: E tensorflow/stream_executor/cuda/cuda_driver.cc:328] failed call to cuInit: CUDA_ERROR_NO_DEVICE: no CUDA-capable device is detected\n",
            "2021-01-06 20:40:28.459935: I tensorflow/stream_executor/cuda/cuda_diagnostics.cc:156] kernel driver does not appear to be running on this host (8bc9d2d1aae6): /proc/driver/nvidia/version does not exist\n",
            "2021-01-06 20:40:28.460496: I tensorflow/compiler/jit/xla_gpu_device.cc:99] Not creating XLA devices, tf_xla_enable_xla_devices not set\n",
            "2021-01-06 20:40:39.888627: I tensorflow/compiler/mlir/mlir_graph_optimization_pass.cc:116] None of the MLIR optimization passes are enabled (registered 2)\n",
            "2021-01-06 20:40:39.889323: I tensorflow/core/platform/profile_utils/cpu_utils.cc:112] CPU Frequency: 2199995000 Hz\n",
            "2021-01-06 20:41:07.467618: W tensorflow/python/util/util.cc:348] Sets are not currently considered sequences, but this may change in the future, so consider avoiding using them.\n",
            "WARNING:absl:Found untraced functions such as lstm_cell_layer_call_and_return_conditional_losses, lstm_cell_layer_call_fn, lstm_cell_1_layer_call_and_return_conditional_losses, lstm_cell_1_layer_call_fn, lstm_cell_layer_call_fn while saving (showing 5 of 10). These functions will not be directly callable after loading.\n",
            "WARNING:absl:Found untraced functions such as lstm_cell_layer_call_and_return_conditional_losses, lstm_cell_layer_call_fn, lstm_cell_1_layer_call_and_return_conditional_losses, lstm_cell_1_layer_call_fn, lstm_cell_layer_call_fn while saving (showing 5 of 10). These functions will not be directly callable after loading.\n"
          ],
          "name": "stderr"
        }
      ]
    },
    {
      "cell_type": "markdown",
      "metadata": {
        "id": "sR7aDJnOzJ_2"
      },
      "source": [
        "Now that we're sure it works, we can use AI Platform Jobs to perform the training."
      ]
    },
    {
      "cell_type": "code",
      "metadata": {
        "id": "9SyeMUUXEbfx"
      },
      "source": [
        "# The next cell is only for use on GCP\r\n",
        "# Increment the job number every time you run to avoid conflicts"
      ],
      "execution_count": null,
      "outputs": []
    },
    {
      "cell_type": "code",
      "metadata": {
        "id": "XK0FBWKXEaCp"
      },
      "source": [
        "# %%bash\r\n",
        "\r\n",
        "# JOB_NAME=heartfelt_training_job_07\r\n",
        "\r\n",
        "# gcloud ai-platform jobs submit training $JOB_NAME \\\r\n",
        "#     --job-dir gs://gccd_heartfelt/$JOB_NAME \\\r\n",
        "#     --runtime-version 2.3 \\\r\n",
        "#     --python-version 3.7 \\\r\n",
        "#     --module-name trainer.task \\\r\n",
        "#     --package-path train/trainer \\\r\n",
        "#     --region us-central1 \\\r\n",
        "#     -- \\\r\n",
        "#     --data-file='gs://gccd_heartfelt/heartfelt_dataset.csv' \\"
      ],
      "execution_count": null,
      "outputs": []
    },
    {
      "cell_type": "markdown",
      "metadata": {
        "id": "r7QXQzzdCz67"
      },
      "source": [
        "## Predicting With AI Platform"
      ]
    },
    {
      "cell_type": "markdown",
      "metadata": {
        "id": "sGDzLSKSz4Av"
      },
      "source": [
        "Now that our model has been trained and saved in a GCS bucket, we can make it accessible to the public (here, our company's website comment system). We will deploy the model to the AI Platform Prediction service."
      ]
    },
    {
      "cell_type": "code",
      "metadata": {
        "id": "2Rc5ijRKSKrb"
      },
      "source": [
        "# The next cell is only for use on GCP"
      ],
      "execution_count": null,
      "outputs": []
    },
    {
      "cell_type": "code",
      "metadata": {
        "id": "ds1ikKmkUkCk"
      },
      "source": [
        "# %%bash\r\n",
        "\r\n",
        "# MODEL_NAME=heartfelt_comment_system\r\n",
        "# REGION=us-central1\r\n",
        "\r\n",
        "# gcloud ai-platform models create $MODEL_NAME --regions=$REGION\r\n",
        "    \r\n",
        "# MODEL_PATH=gs://gccd_heartfelt/heartfelt_training_job_06/savedmodel/\r\n",
        "    \r\n",
        "# gcloud ai-platform versions create v1 \\\r\n",
        "#     --model $MODEL_NAME \\\r\n",
        "#     --origin $MODEL_PATH \\\r\n",
        "#     --runtime-version 2.3 \\\r\n",
        "#     --python-version 3.7"
      ],
      "execution_count": null,
      "outputs": []
    },
    {
      "cell_type": "code",
      "metadata": {
        "id": "Nu45DN5iUkgt"
      },
      "source": [
        "# The next cell is only for use on GCP"
      ],
      "execution_count": null,
      "outputs": []
    },
    {
      "cell_type": "code",
      "metadata": {
        "id": "-mFh7zfDVAYZ"
      },
      "source": [
        "# import googleapiclient.discovery\r\n",
        "\r\n",
        "# PROJECT='durable-will-291417'\r\n",
        "# MODEL_NAME='heartfelt_comment_system'\r\n",
        "# VERSION_NAME='v1'\r\n",
        "# service = googleapiclient.discovery.build('ml', 'v1', cache_discovery=False)\r\n",
        "\r\n",
        "# name = 'projects/{}/models/{}/versions/{}'.format(PROJECT, MODEL_NAME, VERSION_NAME)\r\n",
        "\r\n",
        "# list_of_inputs = [\"What a beautiful day!\", \"Disgusting!\", \"Mommy, I'm scared.\"]\r\n",
        "\r\n",
        "# response = service.projects().predict(name=name,body={'instances': embed(list_of_inputs).numpy().tolist()}).execute()\r\n",
        "\r\n",
        "# if 'error' in response:\r\n",
        "#     raise RuntimeError(response['error'])\r\n",
        "# else:\r\n",
        "#     results = response['predictions']\r\n",
        "#     for i, result in enumerate(results):\r\n",
        "#         prediction = tf.argmax(result['activation'])\r\n",
        "#         print (\"{} : {}\".format(list_of_inputs[i], label_to_emoji(prediction.numpy())))"
      ],
      "execution_count": null,
      "outputs": []
    },
    {
      "cell_type": "markdown",
      "metadata": {
        "id": "koHgDzKW4rBi"
      },
      "source": [
        "*For brownie points, modify the Comments class above to use the AI Platform model to predict instead of the locally trained model.*"
      ]
    },
    {
      "cell_type": "markdown",
      "metadata": {
        "id": "tJPDdAHSIxub"
      },
      "source": [
        "# Conclusion"
      ]
    },
    {
      "cell_type": "markdown",
      "metadata": {
        "id": "qg140FtKI2kW"
      },
      "source": [
        "I hope you found this session useful. As homework, here are some things you can do:\r\n",
        "\r\n",
        "1. Download this notebook and play around with the model. When does the model work well? When does it start failing? How does it handle ambiguous sentences?\r\n",
        "\r\n",
        "2. Create your own dataset (200-300 sentence-label pairs in total) and train the model on that. What kind of performance are you getting? Does using a more diverse range of words in your dataset help? Is the model able to accurately predict even when presented with a word outside your dataset? How long can the sentences be before things stop working? Alternatively, you can use someone else's dataset (check Kaggle).\r\n",
        "\r\n",
        "3. If you're familiar with these concepts, try improving the model's architecture. Check how adding/removing layers makes an impact on accuracy."
      ]
    },
    {
      "cell_type": "markdown",
      "metadata": {
        "id": "YU9S-3dn-STh"
      },
      "source": [
        "# Further Reading and Useful Links\r\n",
        "\r\n",
        "1. https://cloud.google.com/certification/machine-learning-engineer\r\n",
        "\r\n",
        "2. https://www.coursera.org/specializations/deep-learning\r\n",
        "\r\n",
        "3. https://www.coursera.org/professional-certificates/tensorflow-in-practice\r\n",
        "\r\n",
        "4. https://www.coursera.org/specializations/machine-learning-tensorflow-gcp\r\n",
        "\r\n",
        "5. https://www.coursera.org/specializations/advanced-machine-learning-tensorflow-gcp"
      ]
    },
    {
      "cell_type": "markdown",
      "metadata": {
        "id": "WMbDD3_xEi-L"
      },
      "source": [
        "# References\r\n",
        "\r\n",
        "1. This project was inspired by Coursera and DeepLearning.AI's [Deep Learning Specialization](https://www.coursera.org/specializations/deep-learning), where the project Emojify was done as a part of [Course 5 - Sequence Models](https://www.coursera.org/learn/nlp-sequence-models). While the idea is nearly identical, the implementation is notably different.\r\n",
        "\r\n",
        "2. I referred to *Getting started: Training and Prediction with TensorFlow Estimator* while building the GCP portions of this notebook. You can click [here](https://cloud.google.com/ai-platform/docs/getting-started-tensorflow-estimator?_ga=2.221022616.-1282698704.1600625468) to learn more.\r\n",
        "\r\n",
        "3. The trained word-embedding layer was pulled from TensorFlow Hub: *nnlm-en-dim128-with-normalization*. You can click [here](https://tfhub.dev/google/nnlm-en-dim128-with-normalization/2) to see more."
      ]
    },
    {
      "cell_type": "markdown",
      "metadata": {
        "id": "WxUyGxx4xNZT"
      },
      "source": [
        "# License\r\n",
        "\r\n",
        "\r\n",
        "Copyright 2021, Viren Luke Radhakrishnan.\r\n",
        "\r\n",
        "Licensed under the Apache License, Version 2.0 (the \"License\"); you may not use this file except in compliance with the License. You may obtain a copy of the License at http://www.apache.org/licenses/LICENSE-2.0 Unless required by applicable law or agreed to in writing, software distributed under the License is distributed on an \"AS IS\" BASIS, WITHOUT WARRANTIES OR CONDITIONS OF ANY KIND, either express or implied. See the License for the specific language governing permissions and limitations under the License."
      ]
    }
  ]
}