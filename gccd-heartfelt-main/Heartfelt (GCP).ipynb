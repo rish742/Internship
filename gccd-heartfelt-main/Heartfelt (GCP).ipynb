{
 "cells": [
  {
   "cell_type": "markdown",
   "metadata": {
    "id": "XZ_-Ham-5AHV"
   },
   "source": [
    "# Introduction\n",
    "\n",
    "### **Professional Machine Learning Engineer Certification**\n",
    "\n",
    "The Professional Machine Learning Engineer Certification by Google Cloud was released to the public on October 15th, 2020. According to the official [examination page](https://cloud.google.com/certification/machine-learning-engineer):\n",
    "\n",
    "> A Professional Machine Learning Engineer designs, builds, and productionizes ML models to solve business challenges using Google Cloud technologies and knowledge of proven ML models and techniques. The ML Engineer is proficient in all aspects of model architecture, data pipeline interaction, and metrics interpretation and needs familiarity with application development, infrastructure management, data engineering, and security.\n",
    "\n",
    "\n",
    "\n"
   ]
  },
  {
   "cell_type": "markdown",
   "metadata": {
    "id": "3gW4kTeWGYgc"
   },
   "source": [
    "In this session, we'll be looking at the following:\n",
    "\n",
    "1. The nature of an exam question and how it can be tackled.\n",
    "2. Building an appropriate solution with the identified tools.\n",
    "3. Deploying the produced solution on Google Cloud."
   ]
  },
  {
   "cell_type": "markdown",
   "metadata": {
    "id": "B82L4YGz9mjG"
   },
   "source": [
    "# The Problem\n",
    "\n",
    "Today, we'll be building an AI-powered model capable of assigning one of five emojis to a given comment."
   ]
  },
  {
   "cell_type": "markdown",
   "metadata": {
    "id": "o4MQzFiS6IPn"
   },
   "source": [
    "## The Problem Statement\n",
    "\n",
    "Let's set the stage with an exam-level question:\n",
    "\n",
    "*Heartfelt is a modern startup working on a new website comment system. It uses AI to generate one of five emotions from each comment (Happy, Funny, Scared, Angry, Sad). It then shows the number of each of the five reactions above the comment section.*\n",
    "\n",
    "```\n",
    "  21341 😃     21 😂     0 😨     2 😠     5 😭\n",
    "_____________________________________________________\n",
    "\n",
    "Sathish\n",
    "  This honestly made my day!                                      😃\n",
    "\n",
    "Pranay\n",
    "  We really need more good news in the world, like this...        😃\n",
    "\n",
    "Maitreyi\n",
    "  Awesome!                                                        😃\n",
    "```\n",
    "\n",
    "*They have obtained and labeled a large number of comments from their existing non-AI based system and are looking to upgrade to the new solution within a year. Their in-house ML engineers have designed a proprietary model, and apart from using the cloud for training and deploying, they also want to be able to fine-tune it for accuracy.*\n",
    "\n",
    "*What is the best way to build, tune, and deploy the model?*\n"
   ]
  },
  {
   "cell_type": "markdown",
   "metadata": {
    "id": "lrjQ3OC6Bycg"
   },
   "source": [
    "## The Proposed Solution\n",
    "\n",
    "1. Files containing the labelled (Comment, Category) pairs are stored in a **Google Cloud Storage** bucket.\n",
    "2. **AI Platform Notebooks** will be used to access and process the data stored in the GCS bucket, rapidly prototype to find the best architecture, and train the model on a small portion of the dataset.\n",
    "3. **AI Platform Jobs** will be used to train the identified model architecture on the entirety of the dataset, performing hyperparameter tuning along the way. The trained model will be versioned and stored in a GCS bucket.\n",
    "4. **AI Platform Prediction** will be used to deploy the stored model. It allows for versioning, phased rollouts, and easy access to the model with REST API calls.\n",
    "5. **Google Cloud Storage** hosts the trained model, which is accessed by AI Platform Prediction.\n",
    "\n",
    "\n",
    "\n"
   ]
  },
  {
   "cell_type": "markdown",
   "metadata": {
    "id": "8Kq4pW5EC4vj"
   },
   "source": [
    "# The Solution"
   ]
  },
  {
   "cell_type": "markdown",
   "metadata": {
    "id": "7jSXUGF2IM2z"
   },
   "source": [
    "## Imports"
   ]
  },
  {
   "cell_type": "code",
   "execution_count": 1,
   "metadata": {
    "id": "2IAgkM0RIRgb"
   },
   "outputs": [],
   "source": [
    "import tensorflow as tf\n",
    "import tensorflow.keras as keras\n",
    "import tensorflow_hub as hub\n",
    "\n",
    "import matplotlib.pyplot as plt\n",
    "\n",
    "import csv\n",
    "import random"
   ]
  },
  {
   "cell_type": "markdown",
   "metadata": {
    "id": "1oM76hDsDXiH"
   },
   "source": [
    "## Obtaining and Processing the Data"
   ]
  },
  {
   "cell_type": "markdown",
   "metadata": {
    "id": "11ROuofz_NmN"
   },
   "source": [
    "The dataset used here was entirely created by me. Let us take a moment to understand it.\n",
    "\n",
    "There are 200 sentence-label pairs, 40 in each of 5 categories- Happy (0), Funny (1), Scared (2), Angry (3), and Sad (4). The first thing we need to do is define a method that converts between these numbers and the emojis."
   ]
  },
  {
   "cell_type": "code",
   "execution_count": 2,
   "metadata": {
    "id": "4b5rUYGhNltn"
   },
   "outputs": [],
   "source": [
    "list_of_emojis = ['😃','😂','😨','😠','😭']\n",
    "\n",
    "def label_to_emoji(label):\n",
    "  return list_of_emojis[label]"
   ]
  },
  {
   "cell_type": "markdown",
   "metadata": {
    "id": "Z0aMTZ-S__gy"
   },
   "source": [
    "Now, we open the dataset and create two lists- one to store the strings (data) and the other to store the labels (labels).\n"
   ]
  },
  {
   "cell_type": "code",
   "execution_count": 3,
   "metadata": {
    "id": "QXwuZvm8_eQF"
   },
   "outputs": [],
   "source": [
    "# The next cell is only for use on GCP"
   ]
  },
  {
   "cell_type": "code",
   "execution_count": 4,
   "metadata": {
    "id": "Efij8yH6_d3E"
   },
   "outputs": [],
   "source": [
    "import gcsfs\n",
    "\n",
    "def prepare_data(filename):\n",
    "\n",
    "  data = []\n",
    "  labels = []\n",
    "    \n",
    "  if filename.startswith('gs://'):\n",
    "    fs = gcsfs.GCSFileSystem(project='durable-will-291417')\n",
    "    with fs.open(filename, \"rt\", encoding=\"ascii\") as my_dataset:\n",
    "        \n",
    "      reader = csv.reader(my_dataset, delimiter=',')\n",
    "      for row in reader:\n",
    "        data.append(row[0])\n",
    "        labels.append(int(row[1]))\n",
    "        \n",
    "  else:\n",
    "    with open(filename) as my_dataset:\n",
    "\n",
    "      reader = csv.reader(my_dataset, delimiter=',')\n",
    "      for row in reader:\n",
    "        data.append(row[0])\n",
    "        labels.append(int(row[1]))\n",
    "\n",
    "  return (data, labels)"
   ]
  },
  {
   "cell_type": "code",
   "execution_count": 5,
   "metadata": {
    "id": "YarUFFTo_fGX"
   },
   "outputs": [],
   "source": [
    "# The next cell is only for use on Colab"
   ]
  },
  {
   "cell_type": "code",
   "execution_count": 6,
   "metadata": {
    "id": "fk5jK6C5JCBc"
   },
   "outputs": [],
   "source": [
    "# def prepare_data(filename):\n",
    "#   data = []\n",
    "#   labels = []\n",
    "\n",
    "#   with open(filename) as my_dataset:\n",
    "\n",
    "#     reader = csv.reader(my_dataset, delimiter=',')\n",
    "\n",
    "#     for row in reader:\n",
    "\n",
    "#       data.append(row[0])\n",
    "#       labels.append(int(row[1]))\n",
    "\n",
    "#   return (data, labels)"
   ]
  },
  {
   "cell_type": "code",
   "execution_count": 7,
   "metadata": {
    "id": "ov51s80Sh6Df"
   },
   "outputs": [],
   "source": [
    "data, labels = prepare_data('heartfelt_dataset.csv')"
   ]
  },
  {
   "cell_type": "markdown",
   "metadata": {
    "id": "1Kr-pQ3aAPxZ"
   },
   "source": [
    "The next block of code is used to shuffle these pairs while maintaining the order between them. We first split the data into 2 buckets - 150 in Train and 50 in Test. We then print 10 examples of both train and test data, along with the emojified values of the labels that represent them."
   ]
  },
  {
   "cell_type": "code",
   "execution_count": 8,
   "metadata": {
    "id": "zL7c1tA7KpbJ"
   },
   "outputs": [],
   "source": [
    "def shuffle_data(data, labels):\n",
    "\n",
    "  X_train = []\n",
    "  Y_train = []\n",
    "  X_test = []\n",
    "  Y_test = []\n",
    "\n",
    "  list_to_shuffle = list(zip(data, labels))\n",
    "  random.shuffle(list_to_shuffle)\n",
    "\n",
    "  shuffled_data, shuffled_labels = zip(*list_to_shuffle)\n",
    "\n",
    "  X_train = shuffled_data[0:150]\n",
    "  Y_train = shuffled_labels[0:150]\n",
    "\n",
    "  X_test = shuffled_data[150:200]\n",
    "  Y_test = shuffled_labels[150:200]\n",
    "\n",
    "  return (X_train, Y_train, X_test, Y_test)"
   ]
  },
  {
   "cell_type": "code",
   "execution_count": 9,
   "metadata": {
    "colab": {
     "base_uri": "https://localhost:8080/"
    },
    "id": "H8Hv8pk9hF7d",
    "outputId": "b2affbdf-04a1-417f-a9c4-832580eeb333"
   },
   "outputs": [
    {
     "name": "stdout",
     "output_type": "stream",
     "text": [
      "Examples of training data:\n",
      "\n",
      "  Get the hell out of here! : 😠\n",
      "  Disgusting. : 😠\n",
      "  Yuck, he ate his own poop? : 😂\n",
      "  Hope this ends soon. : 😭\n",
      "  Is no one going to talk about how funny this was? : 😂\n",
      "  My blood is boiling right now. : 😠\n",
      "  Are you insane? : 😠\n",
      "  Comedians need to be paid more! : 😂\n",
      "  Must watch! : 😃\n",
      "  That's right, always treat others with respect. : 😃\n",
      "\n",
      "Examples of testing data:\n",
      "\n",
      "  How pathetic. : 😨\n",
      "  Can we throw these people in prison? : 😠\n",
      "  It's like you were born for comedy. : 😂\n",
      "  Is there a reason you're still here? : 😠\n",
      "  She did not just say that! : 😠\n",
      "  My team lost today. : 😭\n",
      "  You need to be more careful! : 😭\n",
      "  Rolling on the floor here. : 😂\n",
      "  Those laughs are infectious! : 😂\n",
      "  Yes! : 😃\n"
     ]
    }
   ],
   "source": [
    "X_train, Y_train, X_test, Y_test = shuffle_data(data, labels)\n",
    "\n",
    "print (\"Examples of training data:\\n\")\n",
    "\n",
    "for i in range(10):\n",
    "  print (\"  {} : {}\".format(X_train[i], label_to_emoji(Y_train[i])))\n",
    "\n",
    "print ('')\n",
    "\n",
    "print (\"Examples of testing data:\\n\")\n",
    "\n",
    "for i in range(10):\n",
    "  print (\"  {} : {}\".format(X_test[i], label_to_emoji(Y_test[i])))"
   ]
  },
  {
   "cell_type": "markdown",
   "metadata": {
    "id": "sZ1Nr4GRAzy_"
   },
   "source": [
    "Sanity checks are essential. They help us ensure that the data was not corrupted during the ingestion and provide some insight into the data's nature. Let us look at how many samples we have in Train and Test, along with the lengths of the longest and shortest strings in the dataset."
   ]
  },
  {
   "cell_type": "code",
   "execution_count": 10,
   "metadata": {
    "colab": {
     "base_uri": "https://localhost:8080/"
    },
    "id": "sPuXqdVKNLuh",
    "outputId": "7a0edf8b-e5e9-41f2-d64e-c30a70c8be53"
   },
   "outputs": [
    {
     "name": "stdout",
     "output_type": "stream",
     "text": [
      "The training set contains 150 examples with 150 labels\n",
      "\n",
      "The testing set contains 50 examples with 50 labels\n",
      "\n",
      "The length of the shortest sentence is 1\n",
      "\n",
      "The length of the longest sentence is 12\n",
      "\n"
     ]
    }
   ],
   "source": [
    "print (\"The training set contains {} examples with {} labels\\n\".format(len(X_train), len(Y_train)))\n",
    "print (\"The testing set contains {} examples with {} labels\\n\".format(len(X_test), len(Y_test)))\n",
    "\n",
    "min_len = len(min(X_train, key=len).split())\n",
    "print (\"The length of the shortest sentence is {}\\n\".format(min_len))\n",
    "\n",
    "max_len = len(max(X_train, key=len).split())\n",
    "print (\"The length of the longest sentence is {}\\n\".format(max_len))"
   ]
  },
  {
   "cell_type": "markdown",
   "metadata": {
    "id": "89fs-5dGBsOz"
   },
   "source": [
    "Okay, perfect."
   ]
  },
  {
   "cell_type": "markdown",
   "metadata": {
    "id": "Wap1-mBS-KuM"
   },
   "source": [
    "## Constructing the Model"
   ]
  },
  {
   "cell_type": "markdown",
   "metadata": {
    "id": "F1bgM1yzCTBg"
   },
   "source": [
    "\n",
    "The *model* is the algorithm we develop to be able to solve an AI problem. Without getting too deep into the architecture here, the basic idea is that we're building a model capable of learning the relationship between *embedded* forms of the sentences and their corresponding emojis."
   ]
  },
  {
   "cell_type": "code",
   "execution_count": 11,
   "metadata": {
    "id": "Hg7lue9QPxIH"
   },
   "outputs": [],
   "source": [
    "def Model():\n",
    "\n",
    "  model = keras.Sequential([keras.layers.Lambda(lambda x: tf.expand_dims(x, axis=1)),\n",
    "                            keras.layers.LSTM(units=128, return_sequences=True),\n",
    "                            keras.layers.Dropout(rate=0.5),\n",
    "                            keras.layers.LSTM(units=128, return_sequences=False),\n",
    "                            keras.layers.Dropout(rate=0.5),\n",
    "                            keras.layers.Dense(units=5),\n",
    "                            keras.layers.Activation(\"softmax\")])\n",
    "  \n",
    "  model.compile(loss='categorical_crossentropy', optimizer=tf.keras.optimizers.Adam(learning_rate=0.001), metrics=['accuracy'])\n",
    "  \n",
    "  return model"
   ]
  },
  {
   "cell_type": "code",
   "execution_count": 12,
   "metadata": {
    "id": "VC3pkrcTXBRc"
   },
   "outputs": [],
   "source": [
    "model = Model()"
   ]
  },
  {
   "cell_type": "markdown",
   "metadata": {
    "id": "FP5NZP40-0-t"
   },
   "source": [
    "## Training Locally"
   ]
  },
  {
   "cell_type": "markdown",
   "metadata": {
    "id": "TEbCBqmPCjYZ"
   },
   "source": [
    "Before we can think about training this model on our data, there are some things we need to take care of."
   ]
  },
  {
   "cell_type": "markdown",
   "metadata": {
    "id": "D2bh29J1DfeU"
   },
   "source": [
    "One-hot encoding involves modifying the labels, such that each label is a vector containing precisely one 1 and all other 0s, uniquely corresponding to the emoji it represents. The one-hot encoded forms are as follows:\n",
    "\n",
    "0 becomes [1, 0, 0, 0, 0] (Happy)\n",
    "\n",
    "1 becomes [0, 1, 0, 0, 0] (Funny)\n",
    "\n",
    "2 becomes [0, 0, 1, 0, 0] (Scared)\n",
    "\n",
    "3 becomes [0, 0, 0, 1, 0] (Angry)\n",
    "\n",
    "4 becomes [0, 0, 0, 0, 1] (Sad)"
   ]
  },
  {
   "cell_type": "markdown",
   "metadata": {
    "id": "ueMn3D6gDhs5"
   },
   "source": [
    "The method below one-hot encodes the training and test labels and shows you a sample."
   ]
  },
  {
   "cell_type": "code",
   "execution_count": 13,
   "metadata": {
    "id": "024yTqowaAWD"
   },
   "outputs": [],
   "source": [
    "def convert_to_one_hot(labels):\n",
    "  return tf.one_hot(labels, 5)"
   ]
  },
  {
   "cell_type": "code",
   "execution_count": 14,
   "metadata": {
    "colab": {
     "base_uri": "https://localhost:8080/"
    },
    "id": "zu5Q6XuInupz",
    "outputId": "ea228288-3ee8-4c27-d6a4-f4db3760cad8"
   },
   "outputs": [
    {
     "name": "stdout",
     "output_type": "stream",
     "text": [
      "I am genuinely terrified now. : 😨 (The numeric value of this is 2)\n",
      "tf.Tensor([0. 0. 1. 0. 0.], shape=(5,), dtype=float32)\n"
     ]
    }
   ],
   "source": [
    "Y_train_oh = convert_to_one_hot(labels=Y_train)\n",
    "Y_test_oh = convert_to_one_hot(labels=Y_test)\n",
    "\n",
    "pos_to_test = 75\n",
    "print (\"{} : {} (The numeric value of this is {})\".format(X_train[pos_to_test], label_to_emoji(Y_train[pos_to_test]), Y_train[pos_to_test]))\n",
    "print (Y_train_oh[pos_to_test])"
   ]
  },
  {
   "cell_type": "markdown",
   "metadata": {
    "id": "Ez5bvOFQDrxR"
   },
   "source": [
    "A sentence embedding is a vector representation of the sentence, where it's translated into a unique combination of N numbers (dimensions). Here, we are using N=128 dimensions. Apart from uniquely identifying a sentence, these numbers also carry relative semantic meaning, which allows the model to learn relationships between similar sentences."
   ]
  },
  {
   "cell_type": "markdown",
   "metadata": {
    "id": "x8NqS2qHFF-V"
   },
   "source": [
    "For example, if the model was trained on the sentence \"I like puppies\" and the word \"adore\" never appeared anywhere in the training set, it can still learn to infer that \"I adore puppies\" should produce the same emoji. As for these embeddings themselves, you can create your own from massively large datasets or use one that someone else created. Here, we're going with the latter. The embeddings used here come from TensorFlow Hub (more in the references section below)."
   ]
  },
  {
   "cell_type": "markdown",
   "metadata": {
    "id": "YvmwBRlpFVpx"
   },
   "source": [
    "Look at how the sentence \"I love you.\" becomes a vector of 128 numbers.\n"
   ]
  },
  {
   "cell_type": "code",
   "execution_count": 15,
   "metadata": {
    "id": "HqLbOpvadnvH"
   },
   "outputs": [],
   "source": [
    "def load_hub_module():\n",
    "  embed = hub.load(\"https://tfhub.dev/google/nnlm-en-dim128-with-normalization/2\")\n",
    "  return embed"
   ]
  },
  {
   "cell_type": "code",
   "execution_count": 16,
   "metadata": {
    "colab": {
     "base_uri": "https://localhost:8080/"
    },
    "id": "2g5IpX9_mYrl",
    "outputId": "adbc8c4f-33f1-4356-c850-aaf2e98f722b"
   },
   "outputs": [
    {
     "name": "stdout",
     "output_type": "stream",
     "text": [
      "I love you.\n",
      "\n",
      "[[ 0.06720316 -0.05019467  0.19946459  0.12020276  0.14881054 -0.00456426\n",
      "  -0.05057551 -0.04841431 -0.19195782 -0.02451784 -0.12093704 -0.2852198\n",
      "  -0.00294066 -0.05971586  0.14719391  0.07701718  0.02095461 -0.06760143\n",
      "   0.15468313  0.01675761 -0.03760123 -0.05660797 -0.00736546  0.08649251\n",
      "  -0.08041847 -0.1563163   0.03294101  0.07168686 -0.11695939 -0.1823932\n",
      "  -0.08472857 -0.0987467  -0.03675023 -0.01732922  0.22283307 -0.05921975\n",
      "  -0.01329962 -0.05822768  0.06824754  0.17341426 -0.07891089 -0.23081318\n",
      "  -0.10878634 -0.30201977  0.0608683   0.08700971 -0.05933066 -0.13618678\n",
      "  -0.02547742  0.18084317  0.07031292 -0.11094392  0.04854394  0.15780668\n",
      "  -0.06359842 -0.09194843  0.02376433 -0.14330299  0.03715428 -0.06878028\n",
      "  -0.14734161  0.19417918  0.0823964   0.05661403 -0.05078657 -0.06345925\n",
      "   0.10933136  0.04545296  0.14868559 -0.03175765 -0.39383692  0.14416008\n",
      "   0.07267258 -0.11527298  0.09845851  0.01740749  0.08343427 -0.14131157\n",
      "   0.03251657  0.23407583  0.16797747  0.03399577 -0.057875   -0.10542976\n",
      "  -0.01186056 -0.05624991  0.01801045 -0.02148287  0.1361867   0.02048323\n",
      "  -0.10837713  0.00970503  0.06507829 -0.0664895   0.16917071 -0.03851476\n",
      "   0.13855007  0.06109535 -0.00296407 -0.01300511  0.09075141 -0.03050167\n",
      "   0.16900752 -0.12665273  0.08207355 -0.02063324 -0.16423716  0.12405533\n",
      "  -0.14883116  0.02858107 -0.11822073 -0.11193876 -0.02074423  0.03844061\n",
      "  -0.1346886  -0.05284637 -0.0035206  -0.14857209 -0.21723205  0.11980139\n",
      "   0.09087516  0.10499977 -0.0890507   0.29368913  0.17826816 -0.03604833\n",
      "  -0.05201548  0.09901257]]\n"
     ]
    }
   ],
   "source": [
    "embed = load_hub_module()\n",
    "print (\"I love you.\\n\\n{}\".format(embed([\"I love you.\"])))"
   ]
  },
  {
   "cell_type": "markdown",
   "metadata": {
    "id": "_fG879H-FjH3"
   },
   "source": [
    "Now for the fun part! We pass the embedded training (and testing) data, the one-hot encoded training (and testing) labels, and specify a few other things- like how long we want the training to take place and the number of examples to train with each time."
   ]
  },
  {
   "cell_type": "code",
   "execution_count": 17,
   "metadata": {
    "id": "radmLsneY-g8"
   },
   "outputs": [],
   "source": [
    "def train_model(model, embed, X_train, Y_train_oh, X_test, Y_test_oh, num_epochs=100, batch_size=10, shuffle=True):\n",
    "  return model.fit(embed(X_train),\n",
    "                      Y_train_oh,\n",
    "                      epochs = num_epochs,\n",
    "                      batch_size = batch_size,\n",
    "                      shuffle=shuffle,\n",
    "                      validation_data=(embed(X_test), Y_test_oh))"
   ]
  },
  {
   "cell_type": "code",
   "execution_count": 18,
   "metadata": {
    "colab": {
     "base_uri": "https://localhost:8080/"
    },
    "id": "7Bnooi-wmrwl",
    "outputId": "8711498b-8ff2-4f66-e440-119bd7051628"
   },
   "outputs": [
    {
     "name": "stdout",
     "output_type": "stream",
     "text": [
      "Epoch 1/100\n",
      "15/15 [==============================] - 1s 84ms/step - loss: 1.6105 - accuracy: 0.1800 - val_loss: 1.6114 - val_accuracy: 0.1400\n",
      "Epoch 2/100\n",
      "15/15 [==============================] - 0s 9ms/step - loss: 1.6049 - accuracy: 0.2933 - val_loss: 1.6124 - val_accuracy: 0.1800\n",
      "Epoch 3/100\n",
      "15/15 [==============================] - 0s 7ms/step - loss: 1.6000 - accuracy: 0.3067 - val_loss: 1.6134 - val_accuracy: 0.1800\n",
      "Epoch 4/100\n",
      "15/15 [==============================] - 0s 8ms/step - loss: 1.5969 - accuracy: 0.3200 - val_loss: 1.6149 - val_accuracy: 0.2600\n",
      "Epoch 5/100\n",
      "15/15 [==============================] - 0s 8ms/step - loss: 1.5884 - accuracy: 0.4733 - val_loss: 1.6140 - val_accuracy: 0.3200\n",
      "Epoch 6/100\n",
      "15/15 [==============================] - 0s 8ms/step - loss: 1.5757 - accuracy: 0.4267 - val_loss: 1.6117 - val_accuracy: 0.2800\n",
      "Epoch 7/100\n",
      "15/15 [==============================] - 0s 8ms/step - loss: 1.5535 - accuracy: 0.4333 - val_loss: 1.6043 - val_accuracy: 0.2800\n",
      "Epoch 8/100\n",
      "15/15 [==============================] - 0s 7ms/step - loss: 1.5228 - accuracy: 0.4667 - val_loss: 1.5946 - val_accuracy: 0.3000\n",
      "Epoch 9/100\n",
      "15/15 [==============================] - 0s 9ms/step - loss: 1.4723 - accuracy: 0.4867 - val_loss: 1.5762 - val_accuracy: 0.3200\n",
      "Epoch 10/100\n",
      "15/15 [==============================] - 0s 8ms/step - loss: 1.3920 - accuracy: 0.4667 - val_loss: 1.5541 - val_accuracy: 0.3200\n",
      "Epoch 11/100\n",
      "15/15 [==============================] - 0s 7ms/step - loss: 1.2867 - accuracy: 0.4667 - val_loss: 1.5368 - val_accuracy: 0.3400\n",
      "Epoch 12/100\n",
      "15/15 [==============================] - 0s 8ms/step - loss: 1.1834 - accuracy: 0.5467 - val_loss: 1.5361 - val_accuracy: 0.3800\n",
      "Epoch 13/100\n",
      "15/15 [==============================] - 0s 7ms/step - loss: 1.0884 - accuracy: 0.5933 - val_loss: 1.5053 - val_accuracy: 0.3400\n",
      "Epoch 14/100\n",
      "15/15 [==============================] - 0s 8ms/step - loss: 0.9699 - accuracy: 0.6600 - val_loss: 1.5256 - val_accuracy: 0.4200\n",
      "Epoch 15/100\n",
      "15/15 [==============================] - 0s 8ms/step - loss: 0.9099 - accuracy: 0.7133 - val_loss: 1.5484 - val_accuracy: 0.4200\n",
      "Epoch 16/100\n",
      "15/15 [==============================] - 0s 8ms/step - loss: 0.8214 - accuracy: 0.7200 - val_loss: 1.5328 - val_accuracy: 0.4200\n",
      "Epoch 17/100\n",
      "15/15 [==============================] - 0s 8ms/step - loss: 0.7049 - accuracy: 0.7867 - val_loss: 1.5873 - val_accuracy: 0.4000\n",
      "Epoch 18/100\n",
      "15/15 [==============================] - 0s 8ms/step - loss: 0.6944 - accuracy: 0.7867 - val_loss: 1.6383 - val_accuracy: 0.3800\n",
      "Epoch 19/100\n",
      "15/15 [==============================] - 0s 8ms/step - loss: 0.6500 - accuracy: 0.7667 - val_loss: 1.6919 - val_accuracy: 0.4000\n",
      "Epoch 20/100\n",
      "15/15 [==============================] - 0s 8ms/step - loss: 0.6262 - accuracy: 0.7867 - val_loss: 1.6960 - val_accuracy: 0.4400\n",
      "Epoch 21/100\n",
      "15/15 [==============================] - 0s 7ms/step - loss: 0.5873 - accuracy: 0.8000 - val_loss: 1.7493 - val_accuracy: 0.4000\n",
      "Epoch 22/100\n",
      "15/15 [==============================] - 0s 8ms/step - loss: 0.4598 - accuracy: 0.8667 - val_loss: 1.7248 - val_accuracy: 0.4600\n",
      "Epoch 23/100\n",
      "15/15 [==============================] - 0s 7ms/step - loss: 0.4636 - accuracy: 0.8533 - val_loss: 1.7595 - val_accuracy: 0.4800\n",
      "Epoch 24/100\n",
      "15/15 [==============================] - 0s 8ms/step - loss: 0.4201 - accuracy: 0.8667 - val_loss: 1.8540 - val_accuracy: 0.4400\n",
      "Epoch 25/100\n",
      "15/15 [==============================] - 0s 8ms/step - loss: 0.4369 - accuracy: 0.8667 - val_loss: 1.8754 - val_accuracy: 0.5000\n",
      "Epoch 26/100\n",
      "15/15 [==============================] - 0s 8ms/step - loss: 0.4108 - accuracy: 0.8667 - val_loss: 1.9044 - val_accuracy: 0.5000\n",
      "Epoch 27/100\n",
      "15/15 [==============================] - 0s 8ms/step - loss: 0.3492 - accuracy: 0.8800 - val_loss: 1.9960 - val_accuracy: 0.4600\n",
      "Epoch 28/100\n",
      "15/15 [==============================] - 0s 9ms/step - loss: 0.3303 - accuracy: 0.9067 - val_loss: 2.0492 - val_accuracy: 0.5000\n",
      "Epoch 29/100\n",
      "15/15 [==============================] - 0s 10ms/step - loss: 0.3039 - accuracy: 0.9133 - val_loss: 2.0592 - val_accuracy: 0.4600\n",
      "Epoch 30/100\n",
      "15/15 [==============================] - 0s 10ms/step - loss: 0.2769 - accuracy: 0.9000 - val_loss: 2.0965 - val_accuracy: 0.4800\n",
      "Epoch 31/100\n",
      "15/15 [==============================] - 0s 11ms/step - loss: 0.2566 - accuracy: 0.9333 - val_loss: 2.1565 - val_accuracy: 0.4800\n",
      "Epoch 32/100\n",
      "15/15 [==============================] - 0s 9ms/step - loss: 0.2995 - accuracy: 0.9200 - val_loss: 2.1998 - val_accuracy: 0.4800\n",
      "Epoch 33/100\n",
      "15/15 [==============================] - 0s 10ms/step - loss: 0.2518 - accuracy: 0.9467 - val_loss: 2.2709 - val_accuracy: 0.4600\n",
      "Epoch 34/100\n",
      "15/15 [==============================] - 0s 10ms/step - loss: 0.2127 - accuracy: 0.9733 - val_loss: 2.2817 - val_accuracy: 0.4600\n",
      "Epoch 35/100\n",
      "15/15 [==============================] - 0s 10ms/step - loss: 0.1763 - accuracy: 0.9667 - val_loss: 2.3662 - val_accuracy: 0.5000\n",
      "Epoch 36/100\n",
      "15/15 [==============================] - 0s 11ms/step - loss: 0.2508 - accuracy: 0.9333 - val_loss: 2.3590 - val_accuracy: 0.4600\n",
      "Epoch 37/100\n",
      "15/15 [==============================] - 0s 9ms/step - loss: 0.2153 - accuracy: 0.9400 - val_loss: 2.4232 - val_accuracy: 0.4600\n",
      "Epoch 38/100\n",
      "15/15 [==============================] - 0s 12ms/step - loss: 0.1465 - accuracy: 0.9733 - val_loss: 2.5625 - val_accuracy: 0.4600\n",
      "Epoch 39/100\n",
      "15/15 [==============================] - 0s 10ms/step - loss: 0.1848 - accuracy: 0.9467 - val_loss: 2.5554 - val_accuracy: 0.4600\n",
      "Epoch 40/100\n",
      "15/15 [==============================] - 0s 11ms/step - loss: 0.1970 - accuracy: 0.9133 - val_loss: 2.6434 - val_accuracy: 0.5000\n",
      "Epoch 41/100\n",
      "15/15 [==============================] - 0s 11ms/step - loss: 0.1632 - accuracy: 0.9667 - val_loss: 2.5945 - val_accuracy: 0.4600\n",
      "Epoch 42/100\n",
      "15/15 [==============================] - 0s 10ms/step - loss: 0.1006 - accuracy: 0.9933 - val_loss: 2.6683 - val_accuracy: 0.4600\n",
      "Epoch 43/100\n",
      "15/15 [==============================] - 0s 11ms/step - loss: 0.1491 - accuracy: 0.9667 - val_loss: 2.6889 - val_accuracy: 0.4600\n",
      "Epoch 44/100\n",
      "15/15 [==============================] - 0s 12ms/step - loss: 0.1141 - accuracy: 0.9867 - val_loss: 2.7530 - val_accuracy: 0.4600\n",
      "Epoch 45/100\n",
      "15/15 [==============================] - 0s 10ms/step - loss: 0.1244 - accuracy: 0.9600 - val_loss: 2.7795 - val_accuracy: 0.4600\n",
      "Epoch 46/100\n",
      "15/15 [==============================] - 0s 10ms/step - loss: 0.1418 - accuracy: 0.9600 - val_loss: 2.7948 - val_accuracy: 0.4600\n",
      "Epoch 47/100\n",
      "15/15 [==============================] - 0s 10ms/step - loss: 0.0888 - accuracy: 0.9800 - val_loss: 2.8432 - val_accuracy: 0.4600\n",
      "Epoch 48/100\n",
      "15/15 [==============================] - 0s 9ms/step - loss: 0.1148 - accuracy: 0.9667 - val_loss: 2.8415 - val_accuracy: 0.4600\n",
      "Epoch 49/100\n",
      "15/15 [==============================] - 0s 10ms/step - loss: 0.1005 - accuracy: 0.9733 - val_loss: 2.9067 - val_accuracy: 0.4600\n",
      "Epoch 50/100\n",
      "15/15 [==============================] - 0s 12ms/step - loss: 0.1298 - accuracy: 0.9600 - val_loss: 2.9379 - val_accuracy: 0.4600\n",
      "Epoch 51/100\n",
      "15/15 [==============================] - 0s 11ms/step - loss: 0.0890 - accuracy: 0.9733 - val_loss: 2.9504 - val_accuracy: 0.4600\n",
      "Epoch 52/100\n",
      "15/15 [==============================] - 0s 11ms/step - loss: 0.1166 - accuracy: 0.9733 - val_loss: 3.0125 - val_accuracy: 0.4800\n",
      "Epoch 53/100\n",
      "15/15 [==============================] - 0s 12ms/step - loss: 0.0704 - accuracy: 0.9867 - val_loss: 3.0926 - val_accuracy: 0.4800\n",
      "Epoch 54/100\n",
      "15/15 [==============================] - 0s 10ms/step - loss: 0.0707 - accuracy: 0.9867 - val_loss: 3.1087 - val_accuracy: 0.4800\n",
      "Epoch 55/100\n",
      "15/15 [==============================] - 0s 11ms/step - loss: 0.0593 - accuracy: 1.0000 - val_loss: 3.1966 - val_accuracy: 0.4600\n",
      "Epoch 56/100\n",
      "15/15 [==============================] - 0s 12ms/step - loss: 0.0747 - accuracy: 0.9800 - val_loss: 3.1760 - val_accuracy: 0.4800\n",
      "Epoch 57/100\n",
      "15/15 [==============================] - 0s 11ms/step - loss: 0.0502 - accuracy: 1.0000 - val_loss: 3.2182 - val_accuracy: 0.4800\n",
      "Epoch 58/100\n",
      "15/15 [==============================] - 0s 11ms/step - loss: 0.0695 - accuracy: 0.9867 - val_loss: 3.2735 - val_accuracy: 0.4600\n",
      "Epoch 59/100\n",
      "15/15 [==============================] - 0s 13ms/step - loss: 0.0337 - accuracy: 1.0000 - val_loss: 3.2925 - val_accuracy: 0.4600\n",
      "Epoch 60/100\n",
      "15/15 [==============================] - 0s 11ms/step - loss: 0.0534 - accuracy: 1.0000 - val_loss: 3.3463 - val_accuracy: 0.4600\n",
      "Epoch 61/100\n",
      "15/15 [==============================] - 0s 10ms/step - loss: 0.0453 - accuracy: 1.0000 - val_loss: 3.3970 - val_accuracy: 0.4600\n",
      "Epoch 62/100\n",
      "15/15 [==============================] - 0s 10ms/step - loss: 0.0492 - accuracy: 0.9867 - val_loss: 3.4143 - val_accuracy: 0.4800\n",
      "Epoch 63/100\n",
      "15/15 [==============================] - 0s 11ms/step - loss: 0.0477 - accuracy: 0.9867 - val_loss: 3.4328 - val_accuracy: 0.4800\n",
      "Epoch 64/100\n",
      "15/15 [==============================] - 0s 9ms/step - loss: 0.0381 - accuracy: 0.9933 - val_loss: 3.4760 - val_accuracy: 0.5000\n",
      "Epoch 65/100\n",
      "15/15 [==============================] - 0s 10ms/step - loss: 0.0387 - accuracy: 1.0000 - val_loss: 3.4956 - val_accuracy: 0.4800\n",
      "Epoch 66/100\n",
      "15/15 [==============================] - 0s 11ms/step - loss: 0.0489 - accuracy: 0.9933 - val_loss: 3.4930 - val_accuracy: 0.5000\n",
      "Epoch 67/100\n",
      "15/15 [==============================] - 0s 10ms/step - loss: 0.0262 - accuracy: 1.0000 - val_loss: 3.5097 - val_accuracy: 0.5000\n",
      "Epoch 68/100\n",
      "15/15 [==============================] - 0s 9ms/step - loss: 0.0240 - accuracy: 1.0000 - val_loss: 3.5555 - val_accuracy: 0.5000\n",
      "Epoch 69/100\n",
      "15/15 [==============================] - 0s 10ms/step - loss: 0.0403 - accuracy: 1.0000 - val_loss: 3.6135 - val_accuracy: 0.4600\n",
      "Epoch 70/100\n",
      "15/15 [==============================] - 0s 10ms/step - loss: 0.0441 - accuracy: 0.9933 - val_loss: 3.7086 - val_accuracy: 0.4800\n",
      "Epoch 71/100\n",
      "15/15 [==============================] - 0s 10ms/step - loss: 0.0408 - accuracy: 0.9933 - val_loss: 3.6738 - val_accuracy: 0.4800\n",
      "Epoch 72/100\n",
      "15/15 [==============================] - 0s 10ms/step - loss: 0.0443 - accuracy: 0.9933 - val_loss: 3.7009 - val_accuracy: 0.4800\n",
      "Epoch 73/100\n",
      "15/15 [==============================] - 0s 10ms/step - loss: 0.0409 - accuracy: 1.0000 - val_loss: 3.7593 - val_accuracy: 0.4800\n",
      "Epoch 74/100\n",
      "15/15 [==============================] - 0s 11ms/step - loss: 0.0362 - accuracy: 0.9933 - val_loss: 3.7390 - val_accuracy: 0.4800\n",
      "Epoch 75/100\n",
      "15/15 [==============================] - 0s 10ms/step - loss: 0.0421 - accuracy: 0.9933 - val_loss: 3.7122 - val_accuracy: 0.4800\n",
      "Epoch 76/100\n",
      "15/15 [==============================] - 0s 10ms/step - loss: 0.0421 - accuracy: 0.9867 - val_loss: 3.7604 - val_accuracy: 0.4800\n",
      "Epoch 77/100\n",
      "15/15 [==============================] - 0s 10ms/step - loss: 0.0265 - accuracy: 1.0000 - val_loss: 3.8484 - val_accuracy: 0.4800\n",
      "Epoch 78/100\n",
      "15/15 [==============================] - 0s 13ms/step - loss: 0.0322 - accuracy: 0.9933 - val_loss: 3.9391 - val_accuracy: 0.4800\n",
      "Epoch 79/100\n",
      "15/15 [==============================] - 0s 10ms/step - loss: 0.0356 - accuracy: 0.9933 - val_loss: 3.9315 - val_accuracy: 0.4400\n",
      "Epoch 80/100\n",
      "15/15 [==============================] - 0s 10ms/step - loss: 0.0244 - accuracy: 1.0000 - val_loss: 3.9255 - val_accuracy: 0.5000\n",
      "Epoch 81/100\n",
      "15/15 [==============================] - 0s 10ms/step - loss: 0.0210 - accuracy: 0.9933 - val_loss: 3.9484 - val_accuracy: 0.5000\n",
      "Epoch 82/100\n",
      "15/15 [==============================] - 0s 9ms/step - loss: 0.0346 - accuracy: 0.9933 - val_loss: 3.9873 - val_accuracy: 0.5000\n",
      "Epoch 83/100\n",
      "15/15 [==============================] - 0s 9ms/step - loss: 0.0332 - accuracy: 1.0000 - val_loss: 4.0705 - val_accuracy: 0.4400\n",
      "Epoch 84/100\n",
      "15/15 [==============================] - 0s 10ms/step - loss: 0.0359 - accuracy: 0.9867 - val_loss: 4.0176 - val_accuracy: 0.4800\n",
      "Epoch 85/100\n",
      "15/15 [==============================] - 0s 10ms/step - loss: 0.0245 - accuracy: 1.0000 - val_loss: 4.0475 - val_accuracy: 0.5000\n",
      "Epoch 86/100\n",
      "15/15 [==============================] - 0s 9ms/step - loss: 0.0273 - accuracy: 0.9933 - val_loss: 4.1013 - val_accuracy: 0.4800\n",
      "Epoch 87/100\n",
      "15/15 [==============================] - 0s 8ms/step - loss: 0.0180 - accuracy: 1.0000 - val_loss: 4.1562 - val_accuracy: 0.4800\n",
      "Epoch 88/100\n",
      "15/15 [==============================] - 0s 7ms/step - loss: 0.0280 - accuracy: 1.0000 - val_loss: 4.1338 - val_accuracy: 0.5000\n",
      "Epoch 89/100\n",
      "15/15 [==============================] - 0s 7ms/step - loss: 0.0318 - accuracy: 0.9933 - val_loss: 4.1288 - val_accuracy: 0.4800\n",
      "Epoch 90/100\n",
      "15/15 [==============================] - 0s 8ms/step - loss: 0.0137 - accuracy: 1.0000 - val_loss: 4.1548 - val_accuracy: 0.4800\n",
      "Epoch 91/100\n",
      "15/15 [==============================] - 0s 8ms/step - loss: 0.0146 - accuracy: 1.0000 - val_loss: 4.1824 - val_accuracy: 0.4800\n",
      "Epoch 92/100\n",
      "15/15 [==============================] - 0s 8ms/step - loss: 0.0259 - accuracy: 0.9933 - val_loss: 4.1917 - val_accuracy: 0.4800\n",
      "Epoch 93/100\n",
      "15/15 [==============================] - 0s 8ms/step - loss: 0.0237 - accuracy: 0.9933 - val_loss: 4.1992 - val_accuracy: 0.4800\n",
      "Epoch 94/100\n",
      "15/15 [==============================] - 0s 8ms/step - loss: 0.0787 - accuracy: 0.9867 - val_loss: 4.1721 - val_accuracy: 0.4800\n",
      "Epoch 95/100\n",
      "15/15 [==============================] - 0s 8ms/step - loss: 0.0355 - accuracy: 0.9933 - val_loss: 4.2055 - val_accuracy: 0.4800\n",
      "Epoch 96/100\n",
      "15/15 [==============================] - 0s 7ms/step - loss: 0.0153 - accuracy: 1.0000 - val_loss: 4.1983 - val_accuracy: 0.5000\n",
      "Epoch 97/100\n",
      "15/15 [==============================] - 0s 9ms/step - loss: 0.0179 - accuracy: 1.0000 - val_loss: 4.2252 - val_accuracy: 0.4800\n",
      "Epoch 98/100\n",
      "15/15 [==============================] - 0s 7ms/step - loss: 0.0188 - accuracy: 1.0000 - val_loss: 4.2519 - val_accuracy: 0.4800\n",
      "Epoch 99/100\n",
      "15/15 [==============================] - 0s 9ms/step - loss: 0.0152 - accuracy: 1.0000 - val_loss: 4.2572 - val_accuracy: 0.4800\n",
      "Epoch 100/100\n",
      "15/15 [==============================] - 0s 8ms/step - loss: 0.0153 - accuracy: 1.0000 - val_loss: 4.2599 - val_accuracy: 0.4800\n"
     ]
    }
   ],
   "source": [
    "history = train_model(model, embed, X_train, Y_train_oh, X_test, Y_test_oh)"
   ]
  },
  {
   "cell_type": "markdown",
   "metadata": {
    "id": "KRzVRmnqGDoU"
   },
   "source": [
    "If you don't understand this, don't worry. We're just having a look at how our model has been composed."
   ]
  },
  {
   "cell_type": "code",
   "execution_count": 19,
   "metadata": {
    "colab": {
     "base_uri": "https://localhost:8080/"
    },
    "id": "ODReUjmik-rA",
    "outputId": "58bba0c5-f1af-454a-8ff3-214a479c909d"
   },
   "outputs": [
    {
     "name": "stdout",
     "output_type": "stream",
     "text": [
      "Model: \"sequential\"\n",
      "_________________________________________________________________\n",
      "Layer (type)                 Output Shape              Param #   \n",
      "=================================================================\n",
      "lambda (Lambda)              (10, 1, 128)              0         \n",
      "_________________________________________________________________\n",
      "lstm (LSTM)                  (10, 1, 128)              131584    \n",
      "_________________________________________________________________\n",
      "dropout (Dropout)            (10, 1, 128)              0         \n",
      "_________________________________________________________________\n",
      "lstm_1 (LSTM)                (10, 128)                 131584    \n",
      "_________________________________________________________________\n",
      "dropout_1 (Dropout)          (10, 128)                 0         \n",
      "_________________________________________________________________\n",
      "dense (Dense)                (10, 5)                   645       \n",
      "_________________________________________________________________\n",
      "activation (Activation)      (10, 5)                   0         \n",
      "=================================================================\n",
      "Total params: 263,813\n",
      "Trainable params: 263,813\n",
      "Non-trainable params: 0\n",
      "_________________________________________________________________\n"
     ]
    }
   ],
   "source": [
    "model.summary()"
   ]
  },
  {
   "cell_type": "markdown",
   "metadata": {
    "id": "BYZtCGEUGYRP"
   },
   "source": [
    "The plot shown here indicates how the model did in both Training, as well as in Validation. As you can see, the Validation Accuracy stopped growing after about 40-50% (though the Train Accuracy went up to 100%). Can you think of why? Hint: Lack of data on our end."
   ]
  },
  {
   "cell_type": "code",
   "execution_count": 20,
   "metadata": {
    "colab": {
     "base_uri": "https://localhost:8080/",
     "height": 295
    },
    "id": "1dVWJb_S2mLr",
    "outputId": "d974d944-9bf3-4c57-df00-9b0ffea9414c"
   },
   "outputs": [
    {
     "data": {
      "image/png": "[encoded data removed]",
      "text/plain": [
       "<Figure size 432x288 with 1 Axes>"
      ]
     },
     "metadata": {
      "needs_background": "light"
     },
     "output_type": "display_data"
    }
   ],
   "source": [
    "accuracy_train = history.history['accuracy']\n",
    "accuracy_val = history.history['val_accuracy']\n",
    "loss_train = history.history['loss']\n",
    "loss_val = history.history['val_loss']\n",
    "\n",
    "epochs = range(1,101)\n",
    "\n",
    "plt.plot(epochs, accuracy_train, 'g', label='Training Accuracy')\n",
    "plt.plot(epochs, accuracy_val, 'b', label='Validation Accuracy')\n",
    "\n",
    "plt.title('Training and Validation Accuracy')\n",
    "plt.xlabel('Epochs')\n",
    "\n",
    "plt.legend()\n",
    "plt.show()"
   ]
  },
  {
   "cell_type": "markdown",
   "metadata": {
    "id": "-m9b733F7GBn"
   },
   "source": [
    "## Predicting Locally"
   ]
  },
  {
   "cell_type": "markdown",
   "metadata": {
    "id": "UzVdIcNNGzvP"
   },
   "source": [
    "And we're done! Time to see if our model works.\n"
   ]
  },
  {
   "cell_type": "code",
   "execution_count": 21,
   "metadata": {
    "id": "97JQKpktgbPX"
   },
   "outputs": [],
   "source": [
    "def predict(list_of_input_sentences, mode='deploy'):\n",
    "\n",
    "  '''\n",
    "  Input: A list of sentences and a mode. 'Test' mode is used to simply generate \n",
    "         and print the string-emoji pairs to make sure everything works properly.\n",
    "         'Deploy' mode is used when we want to return a prediction for one\n",
    "         sentence at a time.\n",
    "\n",
    "  Task: Use the model built to make emoji predictions with the given sentences.\n",
    "  \n",
    "  '''\n",
    "\n",
    "  number_of_input_sentences = len(list_of_input_sentences)\n",
    "  embedded_list = embed(list_of_input_sentences)\n",
    "  prediction = model.predict(embedded_list)\n",
    "\n",
    "  if mode == 'test':\n",
    "    for i in range(number_of_input_sentences):\n",
    "      print (\"{} : {}\".format(list_of_input_sentences[i], label_to_emoji(tf.argmax(prediction[i]))))\n",
    "\n",
    "  elif mode == 'deploy':\n",
    "    return tf.argmax(prediction[0])"
   ]
  },
  {
   "cell_type": "markdown",
   "metadata": {
    "id": "JgKwxo_gG-qP"
   },
   "source": [
    "Here are some relatively straightforward sentences. If our model gets these too badly wrong, there might be a problem."
   ]
  },
  {
   "cell_type": "code",
   "execution_count": 22,
   "metadata": {
    "colab": {
     "base_uri": "https://localhost:8080/"
    },
    "id": "rOYfhFXeqbig",
    "outputId": "0240f3f6-0aa6-4680-ad21-a1d7cdf4b49f"
   },
   "outputs": [
    {
     "name": "stdout",
     "output_type": "stream",
     "text": [
      "I feel like dancing today! : 😃\n",
      "Now THAT was funny! : 😂\n",
      "I am terrified. : 😨\n",
      "This isn't fair! : 😠\n",
      "That hurts! : 😭\n"
     ]
    }
   ],
   "source": [
    "predict([\"I feel like dancing today!\",\n",
    "         \"Now THAT was funny!\",\n",
    "         \"I am terrified.\",\n",
    "         \"This isn't fair!\",\n",
    "         \"That hurts!\"], mode='test')"
   ]
  },
  {
   "cell_type": "markdown",
   "metadata": {
    "id": "coXpD3nNHOcY"
   },
   "source": [
    "Everything works fine. Now let's try to build out a mini-version of the comment system."
   ]
  },
  {
   "cell_type": "code",
   "execution_count": 23,
   "metadata": {
    "id": "vNhkuFVBnkoD"
   },
   "outputs": [],
   "source": [
    "class Comments:\n",
    "\n",
    "  def __init__(self):\n",
    "\n",
    "    self.comments = []\n",
    "    self.generated_emojis = []\n",
    "\n",
    "    self.num_happy = 0\n",
    "    self.num_laugh = 0\n",
    "    self.num_scared=0\n",
    "    self.num_angry=0\n",
    "    self.num_sad = 0\n",
    "\n",
    "  def input_sentences(self, list_of_input_sentences):\n",
    "\n",
    "    '''\n",
    "    Input: A list of comments.\n",
    "\n",
    "    Task: Generates emojis from the comments and saves the comment-emoji pairs.\n",
    "\n",
    "    '''\n",
    "\n",
    "    for sentence in list_of_input_sentences:\n",
    "\n",
    "      self.comments.append(sentence)\n",
    "\n",
    "      result = predict([sentence])\n",
    "\n",
    "      self.generated_emojis.append(label_to_emoji(result))\n",
    "\n",
    "      if result == 0:\n",
    "        self.num_happy = self.num_happy + 1\n",
    "      elif result == 1:\n",
    "        self.num_laugh = self.num_laugh + 1\n",
    "      elif result == 2:\n",
    "        self.num_scared = self.num_scared + 1\n",
    "      elif result == 3:\n",
    "        self.num_angry = self.num_angry + 1\n",
    "      elif result == 4:\n",
    "        self.num_sad = self.num_sad + 1\n",
    "\n",
    "  def display_comments(self):\n",
    "\n",
    "    '''\n",
    "    Task: Displays the entire comment system.\n",
    "    \n",
    "    '''\n",
    "      \n",
    "    print(\"{} 😃   {} 😂   {} 😨   {} 😠   {} 😭\".format(self.num_happy, self.num_laugh, self.num_scared, self.num_angry, self.num_sad))\n",
    "    print (\"___________________________________\\n\\n\")\n",
    "\n",
    "    comment_emoji_pairs = zip(self.comments, self.generated_emojis)\n",
    "\n",
    "    for comment, emoji in comment_emoji_pairs:\n",
    "      print (\"{:<75}{:>1}\\n\".format(comment, emoji))"
   ]
  },
  {
   "cell_type": "code",
   "execution_count": 24,
   "metadata": {
    "id": "DjJDQLfwV1Fc"
   },
   "outputs": [],
   "source": [
    "comment_system = Comments()"
   ]
  },
  {
   "cell_type": "code",
   "execution_count": 25,
   "metadata": {
    "colab": {
     "base_uri": "https://localhost:8080/"
    },
    "id": "51cNxKwyRg27",
    "outputId": "61236753-1326-41df-b83c-c294d064e38a"
   },
   "outputs": [
    {
     "name": "stdout",
     "output_type": "stream",
     "text": [
      "1 😃   0 😂   2 😨   0 😠   0 😭\n",
      "___________________________________\n",
      "\n",
      "\n",
      "The darkness is closing all around us.                                     😨\n",
      "\n",
      "This is upsetting.                                                         😨\n",
      "\n",
      "Your smile is beautiful!                                                   😃\n",
      "\n"
     ]
    }
   ],
   "source": [
    "comment_system.input_sentences([\"The darkness is closing all around us.\",\n",
    "                                \"This is upsetting.\",\n",
    "                                \"Your smile is beautiful!\"])\n",
    "\n",
    "comment_system.display_comments()"
   ]
  },
  {
   "cell_type": "code",
   "execution_count": 26,
   "metadata": {
    "colab": {
     "base_uri": "https://localhost:8080/"
    },
    "id": "uZ_j18kWVzmW",
    "outputId": "cd0613de-b948-4411-851f-b3a5d048b2b7"
   },
   "outputs": [
    {
     "name": "stdout",
     "output_type": "stream",
     "text": [
      "2 😃   0 😂   2 😨   1 😠   0 😭\n",
      "___________________________________\n",
      "\n",
      "\n",
      "The darkness is closing all around us.                                     😨\n",
      "\n",
      "This is upsetting.                                                         😨\n",
      "\n",
      "Your smile is beautiful!                                                   😃\n",
      "\n",
      "Are you mad?                                                               😠\n",
      "\n",
      "Hilarious!                                                                 😃\n",
      "\n"
     ]
    }
   ],
   "source": [
    "comment_system.input_sentences([\"Are you mad?\",\n",
    "                                \"Hilarious!\"])\n",
    "\n",
    "comment_system.display_comments()"
   ]
  },
  {
   "cell_type": "markdown",
   "metadata": {
    "id": "TMq88Q31CUg3"
   },
   "source": [
    "## Training With AI Platform Jobs"
   ]
  },
  {
   "cell_type": "markdown",
   "metadata": {
    "id": "pOShqVp_Zz94"
   },
   "source": [
    "Now that we've built our model, and are happy with the performance, let's talk about training on AI Platform Jobs. Our notebook was used for rapid prototyping, and while we can (and have) produced a working model here, it may be better to train on Jobs.\n",
    "\n",
    "1. Jobs can be orchestrated within an AI pipeline.\n",
    "\n",
    "2. They run on temporarily allotted hardware, and unlike notebooks that are expensive to keep running, you're only charged for a job while it is running.\n",
    "\n",
    "3. You can use AI Platform's hyperparameter tuning service to find the best set of hyperparameters to use with your model."
   ]
  },
  {
   "cell_type": "markdown",
   "metadata": {
    "id": "XcSDooiWdn6R"
   },
   "source": [
    "The approach is as follows:\n",
    "\n",
    "1. Train on a small dataset within your notebook (prototyping), and then with the entire dataset within Jobs. In this case, our dataset was anyway small, so this doesn't make a difference to us.\n",
    "\n",
    "2. When satisfied with the model code, build a Python package containing a task.py file (will be used only to read the hyperparameters passed as command-line arguments) and a model.py file (includes all the model code and program logic).\n",
    "\n",
    "3. Train the model with Jobs and save the model in Google Cloud Storage."
   ]
  },
  {
   "cell_type": "markdown",
   "metadata": {
    "id": "WEdeRS5J0k7C"
   },
   "source": [
    "First, we make a folder called *trainer*."
   ]
  },
  {
   "cell_type": "code",
   "execution_count": 27,
   "metadata": {
    "id": "aceecdXyj8by"
   },
   "outputs": [],
   "source": [
    "%mkdir train\n",
    "%mkdir train/trainer"
   ]
  },
  {
   "cell_type": "markdown",
   "metadata": {
    "id": "S-AF7pZOkFCg"
   },
   "source": [
    "Let's start by writing an \\__ init __.py file. This is required to make the folder be treated as a Python package."
   ]
  },
  {
   "cell_type": "code",
   "execution_count": 28,
   "metadata": {
    "colab": {
     "base_uri": "https://localhost:8080/"
    },
    "id": "gnDOWbkjkEO0",
    "outputId": "11b604fd-5574-4a47-9f06-102121e846bf"
   },
   "outputs": [
    {
     "name": "stdout",
     "output_type": "stream",
     "text": [
      "Writing train/trainer/__init__.py\n"
     ]
    }
   ],
   "source": [
    "%%writefile train/trainer/__init__.py\n",
    "# This exists only as a formality"
   ]
  },
  {
   "cell_type": "markdown",
   "metadata": {
    "id": "kJQgwS8Pk081"
   },
   "source": [
    "Next, let's write the model.py file."
   ]
  },
  {
   "cell_type": "code",
   "execution_count": 29,
   "metadata": {
    "colab": {
     "base_uri": "https://localhost:8080/"
    },
    "id": "WbGK7PXKk0Cz",
    "outputId": "b96f0da9-63f9-438c-8308-9f54e83d5a2a"
   },
   "outputs": [
    {
     "name": "stdout",
     "output_type": "stream",
     "text": [
      "Writing train/trainer/model.py\n"
     ]
    }
   ],
   "source": [
    "%%writefile train/trainer/model.py\n",
    "import tensorflow as tf\n",
    "import keras\n",
    "import tensorflow_hub as hub\n",
    "\n",
    "import matplotlib.pyplot as plt\n",
    "\n",
    "import csv\n",
    "import random\n",
    "\n",
    "import os\n",
    "\n",
    "list_of_emojis = ['😃','😂','😨','😠','😭']\n",
    "\n",
    "def label_to_emoji(label):\n",
    "  return list_of_emojis[label]\n",
    "\n",
    "#-------------------------------------------------------------------------------\n",
    "\n",
    "# This block is only for use on GCP\n",
    "\n",
    "import gcsfs\n",
    "\n",
    "def prepare_data(filename):\n",
    "\n",
    "  data = []\n",
    "  labels = []\n",
    "    \n",
    "  if filename.startswith('gs://'):\n",
    "    fs = gcsfs.GCSFileSystem(project='durable-will-291417')\n",
    "    with fs.open(filename, \"rt\", encoding=\"ascii\") as my_dataset:\n",
    "        \n",
    "      reader = csv.reader(my_dataset, delimiter=',')\n",
    "      for row in reader:\n",
    "        data.append(row[0])\n",
    "        labels.append(int(row[1]))\n",
    "        \n",
    "  else:\n",
    "    with open(filename) as my_dataset:\n",
    "\n",
    "      reader = csv.reader(my_dataset, delimiter=',')\n",
    "      for row in reader:\n",
    "        data.append(row[0])\n",
    "        labels.append(int(row[1]))\n",
    "\n",
    "  return (data, labels)\n",
    "\n",
    "#-------------------------------------------------------------------------------\n",
    "\n",
    "\n",
    "#-------------------------------------------------------------------------------\n",
    "\n",
    "# This block is only for use on Colab\n",
    "\n",
    "# def prepare_data(filename):\n",
    "#   data = []\n",
    "#   labels = []\n",
    "\n",
    "#   with open(filename) as my_dataset:\n",
    "\n",
    "#     reader = csv.reader(my_dataset, delimiter=',')\n",
    "\n",
    "#     for row in reader:\n",
    "\n",
    "#       data.append(row[0])\n",
    "#       labels.append(int(row[1]))\n",
    "\n",
    "#   return (data, labels)\n",
    "\n",
    "#-------------------------------------------------------------------------------\n",
    "\n",
    "def shuffle_data(data, labels):\n",
    "\n",
    "  X_train = []\n",
    "  Y_train = []\n",
    "  X_test = []\n",
    "  Y_test = []\n",
    "\n",
    "  list_to_shuffle = list(zip(data, labels))\n",
    "  random.shuffle(list_to_shuffle)\n",
    "\n",
    "  shuffled_data, shuffled_labels = zip(*list_to_shuffle)\n",
    "\n",
    "  X_train = shuffled_data[0:150]\n",
    "  Y_train = shuffled_labels[0:150]\n",
    "\n",
    "  X_test = shuffled_data[150:200]\n",
    "  Y_test = shuffled_labels[150:200]\n",
    "\n",
    "  return (X_train, Y_train, X_test, Y_test)\n",
    "\n",
    "def Model():\n",
    "\n",
    "  model = keras.Sequential([keras.layers.Lambda(lambda x: tf.expand_dims(x, axis=1)),\n",
    "                            keras.layers.LSTM(units=128, return_sequences=True),\n",
    "                            keras.layers.Dropout(rate=0.5),\n",
    "                            keras.layers.LSTM(units=128, return_sequences=False),\n",
    "                            keras.layers.Dropout(rate=0.5),\n",
    "                            keras.layers.Dense(units=5),\n",
    "                            keras.layers.Activation(\"softmax\")])\n",
    "  \n",
    "  model.compile(loss='categorical_crossentropy', optimizer=tf.keras.optimizers.Adam(learning_rate=0.001), metrics=['accuracy'])\n",
    "  \n",
    "  return model\n",
    "\n",
    "def convert_to_one_hot(labels):\n",
    "  return tf.one_hot(labels, 5)\n",
    "\n",
    "def load_hub_module():\n",
    "  embed = hub.load(\"https://tfhub.dev/google/nnlm-en-dim128-with-normalization/2\")\n",
    "  return embed\n",
    "\n",
    "def train_model(model,embed, X_train, Y_train_oh, X_test, Y_test_oh, num_epochs=100, batch_size=10, shuffle=True):\n",
    "  return model.fit(embed(X_train),\n",
    "                      Y_train_oh,\n",
    "                      epochs = num_epochs,\n",
    "                      batch_size = batch_size,\n",
    "                      shuffle=shuffle,\n",
    "                      validation_data=(embed(X_test), Y_test_oh))\n",
    "  \n",
    "# A helper method that uses all the above methods to create a model and save it\n",
    "# in a Cloud Bucket\n",
    "def train_and_save_model(dataset_location, output_dir):\n",
    "\n",
    "  data, labels = prepare_data(dataset_location)\n",
    "  print (\"Data loading successful.\\n\")\n",
    "\n",
    "  X_train, Y_train, X_test, Y_test = shuffle_data(data, labels)\n",
    "  print (\"Data shuffling and splitting successful.\\n\")\n",
    "\n",
    "  model = Model()\n",
    "  print (\"Model creation successful.\\n\")\n",
    "\n",
    "  embed = load_hub_module()\n",
    "  print (\"Hub module loading successful.\\n\")\n",
    "\n",
    "  Y_train_oh = convert_to_one_hot(labels=Y_train)\n",
    "  Y_test_oh = convert_to_one_hot(labels=Y_test)\n",
    "  print (\"One-hot encoding successful.\\n\")\n",
    "\n",
    "  print (\"Model training initiated.\\n\")\n",
    "  history = train_model(model, embed, X_train, Y_train_oh, X_test, Y_test_oh)\n",
    "  print (\"\\nModel training completed.\\n\")\n",
    "\n",
    "  savedmodel_dir = os.path.join(output_dir, 'savedmodel')\n",
    "  tf.saved_model.save(model, savedmodel_dir)\n",
    "  print (\"\\nModel saving completed.\\n\")"
   ]
  },
  {
   "cell_type": "markdown",
   "metadata": {
    "id": "TXeGOJJnd2MJ"
   },
   "source": [
    "Lastly, let's write a task.py file that reads in command line arguments, trains the model, and then saves it."
   ]
  },
  {
   "cell_type": "code",
   "execution_count": 30,
   "metadata": {
    "colab": {
     "base_uri": "https://localhost:8080/"
    },
    "id": "OCTIU_-SZzWb",
    "outputId": "0eaed95b-ce27-4bde-c037-f961063cfb6d"
   },
   "outputs": [
    {
     "name": "stdout",
     "output_type": "stream",
     "text": [
      "Writing train/trainer/task.py\n"
     ]
    }
   ],
   "source": [
    "%%writefile train/trainer/task.py\n",
    "import argparse\n",
    "\n",
    "from trainer import model\n",
    "\n",
    "if __name__ == '__main__':\n",
    "\n",
    "    parser = argparse.ArgumentParser()\n",
    "\n",
    "    parser.add_argument(\n",
    "        \"--data-file\",\n",
    "        help=\"Path to the dataset file.\"\n",
    "    )\n",
    "    \n",
    "    parser.add_argument(\n",
    "      '--job-dir',\n",
    "      help='Location where the model should be saved.',\n",
    "    )\n",
    "\n",
    "    args = parser.parse_args()\n",
    "    hparams = args.__dict__\n",
    "\n",
    "    model.train_and_save_model(hparams['data_file'], hparams['job_dir'])"
   ]
  },
  {
   "cell_type": "markdown",
   "metadata": {
    "id": "pyzgzsiNqWTY"
   },
   "source": [
    "With that done, let's move the dataset into a cloud bucket as Jobs cannot read from a locally stored file (make the file public as well). Then, let's make sure the above code works by running task.py with Jobs, locally."
   ]
  },
  {
   "cell_type": "code",
   "execution_count": 31,
   "metadata": {
    "id": "zHVvUmNIDDo2"
   },
   "outputs": [],
   "source": [
    "# The next cell is only for use on GCP"
   ]
  },
  {
   "cell_type": "code",
   "execution_count": 32,
   "metadata": {
    "id": "SKS0v6F_DDr9"
   },
   "outputs": [
    {
     "name": "stderr",
     "output_type": "stream",
     "text": [
      "Copying file://heartfelt_dataset.csv [Content-Type=text/csv]...\n",
      "/ [1 files][  6.2 KiB/  6.2 KiB]                                                \n",
      "Operation completed over 1 objects/6.2 KiB.                                      \n",
      "Updated ACL on gs://gccd_heartfelt/heartfelt_dataset.csv\n"
     ]
    }
   ],
   "source": [
    "%%bash\n",
    "\n",
    "gsutil cp -r heartfelt_dataset.csv gs://gccd_heartfelt\n",
    "gsutil acl ch -u AllUsers:R gs://gccd_heartfelt/heartfelt_dataset.csv"
   ]
  },
  {
   "cell_type": "code",
   "execution_count": 33,
   "metadata": {
    "id": "MUwlQzEqgDlZ"
   },
   "outputs": [],
   "source": [
    "# The next cell is only for use on GCP"
   ]
  },
  {
   "cell_type": "code",
   "execution_count": 34,
   "metadata": {
    "id": "AQt3HBKQVJP8"
   },
   "outputs": [
    {
     "name": "stdout",
     "output_type": "stream",
     "text": [
      "Data loading successful.\n",
      "\n",
      "Data shuffling and splitting successful.\n",
      "\n",
      "Model creation successful.\n",
      "\n",
      "Hub module loading successful.\n",
      "\n",
      "One-hot encoding successful.\n",
      "\n",
      "Model training initiated.\n",
      "\n",
      "Epoch 1/100\n",
      "15/15 [==============================] - 1s 82ms/step - loss: 1.6096 - accuracy: 0.2267 - val_loss: 1.6074 - val_accuracy: 0.2800\n",
      "Epoch 2/100\n",
      "15/15 [==============================] - 0s 8ms/step - loss: 1.6059 - accuracy: 0.3067 - val_loss: 1.6070 - val_accuracy: 0.3600\n",
      "Epoch 3/100\n",
      "15/15 [==============================] - 0s 8ms/step - loss: 1.6017 - accuracy: 0.3800 - val_loss: 1.6056 - val_accuracy: 0.2800\n",
      "Epoch 4/100\n",
      "15/15 [==============================] - 0s 8ms/step - loss: 1.5968 - accuracy: 0.4733 - val_loss: 1.6036 - val_accuracy: 0.2800\n",
      "Epoch 5/100\n",
      "15/15 [==============================] - 0s 8ms/step - loss: 1.5890 - accuracy: 0.4800 - val_loss: 1.6002 - val_accuracy: 0.3000\n",
      "Epoch 6/100\n",
      "15/15 [==============================] - 0s 8ms/step - loss: 1.5740 - accuracy: 0.5600 - val_loss: 1.5939 - val_accuracy: 0.3400\n",
      "Epoch 7/100\n",
      "15/15 [==============================] - 0s 8ms/step - loss: 1.5539 - accuracy: 0.5600 - val_loss: 1.5843 - val_accuracy: 0.2800\n",
      "Epoch 8/100\n",
      "15/15 [==============================] - 0s 8ms/step - loss: 1.5146 - accuracy: 0.6067 - val_loss: 1.5711 - val_accuracy: 0.3400\n",
      "Epoch 9/100\n",
      "15/15 [==============================] - 0s 9ms/step - loss: 1.4450 - accuracy: 0.6267 - val_loss: 1.5463 - val_accuracy: 0.2800\n",
      "Epoch 10/100\n",
      "15/15 [==============================] - 0s 9ms/step - loss: 1.3597 - accuracy: 0.6400 - val_loss: 1.5227 - val_accuracy: 0.3000\n",
      "Epoch 11/100\n",
      "15/15 [==============================] - 0s 9ms/step - loss: 1.2458 - accuracy: 0.6667 - val_loss: 1.4987 - val_accuracy: 0.3200\n",
      "Epoch 12/100\n",
      "15/15 [==============================] - 0s 9ms/step - loss: 1.1357 - accuracy: 0.6333 - val_loss: 1.4716 - val_accuracy: 0.3400\n",
      "Epoch 13/100\n",
      "15/15 [==============================] - 0s 9ms/step - loss: 1.0446 - accuracy: 0.6933 - val_loss: 1.4394 - val_accuracy: 0.3600\n",
      "Epoch 14/100\n",
      "15/15 [==============================] - 0s 9ms/step - loss: 0.9483 - accuracy: 0.6733 - val_loss: 1.4182 - val_accuracy: 0.3800\n",
      "Epoch 15/100\n",
      "15/15 [==============================] - 0s 8ms/step - loss: 0.8672 - accuracy: 0.7400 - val_loss: 1.4138 - val_accuracy: 0.3400\n",
      "Epoch 16/100\n",
      "15/15 [==============================] - 0s 7ms/step - loss: 0.7970 - accuracy: 0.7133 - val_loss: 1.4148 - val_accuracy: 0.3400\n",
      "Epoch 17/100\n",
      "15/15 [==============================] - 0s 8ms/step - loss: 0.7238 - accuracy: 0.7733 - val_loss: 1.4138 - val_accuracy: 0.4200\n",
      "Epoch 18/100\n",
      "15/15 [==============================] - 0s 8ms/step - loss: 0.6672 - accuracy: 0.8000 - val_loss: 1.4924 - val_accuracy: 0.4000\n",
      "Epoch 19/100\n",
      "15/15 [==============================] - 0s 8ms/step - loss: 0.6757 - accuracy: 0.8067 - val_loss: 1.4696 - val_accuracy: 0.4200\n",
      "Epoch 20/100\n",
      "15/15 [==============================] - 0s 8ms/step - loss: 0.5635 - accuracy: 0.8000 - val_loss: 1.5330 - val_accuracy: 0.4000\n",
      "Epoch 21/100\n",
      "15/15 [==============================] - 0s 8ms/step - loss: 0.5259 - accuracy: 0.8000 - val_loss: 1.5300 - val_accuracy: 0.3800\n",
      "Epoch 22/100\n",
      "15/15 [==============================] - 0s 8ms/step - loss: 0.5313 - accuracy: 0.8067 - val_loss: 1.6327 - val_accuracy: 0.3800\n",
      "Epoch 23/100\n",
      "15/15 [==============================] - 0s 8ms/step - loss: 0.5006 - accuracy: 0.8267 - val_loss: 1.6752 - val_accuracy: 0.3800\n",
      "Epoch 24/100\n",
      "15/15 [==============================] - 0s 8ms/step - loss: 0.5041 - accuracy: 0.8533 - val_loss: 1.5477 - val_accuracy: 0.4000\n",
      "Epoch 25/100\n",
      "15/15 [==============================] - 0s 8ms/step - loss: 0.4518 - accuracy: 0.8467 - val_loss: 1.6338 - val_accuracy: 0.3600\n",
      "Epoch 26/100\n",
      "15/15 [==============================] - 0s 8ms/step - loss: 0.4594 - accuracy: 0.8467 - val_loss: 1.7336 - val_accuracy: 0.3600\n",
      "Epoch 27/100\n",
      "15/15 [==============================] - 0s 8ms/step - loss: 0.3986 - accuracy: 0.8800 - val_loss: 1.7707 - val_accuracy: 0.4000\n",
      "Epoch 28/100\n",
      "15/15 [==============================] - 0s 9ms/step - loss: 0.3609 - accuracy: 0.9000 - val_loss: 1.6740 - val_accuracy: 0.3400\n",
      "Epoch 29/100\n",
      "15/15 [==============================] - 0s 8ms/step - loss: 0.3360 - accuracy: 0.9267 - val_loss: 1.8171 - val_accuracy: 0.3600\n",
      "Epoch 30/100\n",
      "15/15 [==============================] - 0s 8ms/step - loss: 0.3064 - accuracy: 0.9333 - val_loss: 1.9598 - val_accuracy: 0.4000\n",
      "Epoch 31/100\n",
      "15/15 [==============================] - 0s 8ms/step - loss: 0.3374 - accuracy: 0.8867 - val_loss: 1.8204 - val_accuracy: 0.3800\n",
      "Epoch 32/100\n",
      "15/15 [==============================] - 0s 8ms/step - loss: 0.2705 - accuracy: 0.9200 - val_loss: 1.9200 - val_accuracy: 0.3800\n",
      "Epoch 33/100\n",
      "15/15 [==============================] - 0s 8ms/step - loss: 0.2693 - accuracy: 0.9067 - val_loss: 1.8674 - val_accuracy: 0.3600\n",
      "Epoch 34/100\n",
      "15/15 [==============================] - 0s 8ms/step - loss: 0.2551 - accuracy: 0.9333 - val_loss: 1.9566 - val_accuracy: 0.3800\n",
      "Epoch 35/100\n",
      "15/15 [==============================] - 0s 8ms/step - loss: 0.2161 - accuracy: 0.9467 - val_loss: 2.0851 - val_accuracy: 0.4000\n",
      "Epoch 36/100\n",
      "15/15 [==============================] - 0s 8ms/step - loss: 0.2316 - accuracy: 0.9533 - val_loss: 1.9846 - val_accuracy: 0.3800\n",
      "Epoch 37/100\n",
      "15/15 [==============================] - 0s 8ms/step - loss: 0.2364 - accuracy: 0.9400 - val_loss: 2.1213 - val_accuracy: 0.3800\n",
      "Epoch 38/100\n",
      "15/15 [==============================] - 0s 8ms/step - loss: 0.2110 - accuracy: 0.9667 - val_loss: 2.1269 - val_accuracy: 0.3600\n",
      "Epoch 39/100\n",
      "15/15 [==============================] - 0s 8ms/step - loss: 0.2059 - accuracy: 0.9267 - val_loss: 2.1270 - val_accuracy: 0.3600\n",
      "Epoch 40/100\n",
      "15/15 [==============================] - 0s 8ms/step - loss: 0.1931 - accuracy: 0.9533 - val_loss: 2.1782 - val_accuracy: 0.3800\n",
      "Epoch 41/100\n",
      "15/15 [==============================] - 0s 8ms/step - loss: 0.1832 - accuracy: 0.9467 - val_loss: 2.2330 - val_accuracy: 0.3400\n",
      "Epoch 42/100\n",
      "15/15 [==============================] - 0s 8ms/step - loss: 0.1952 - accuracy: 0.9400 - val_loss: 2.1209 - val_accuracy: 0.4000\n",
      "Epoch 43/100\n",
      "15/15 [==============================] - 0s 8ms/step - loss: 0.1459 - accuracy: 0.9733 - val_loss: 2.2074 - val_accuracy: 0.3800\n",
      "Epoch 44/100\n",
      "15/15 [==============================] - 0s 9ms/step - loss: 0.1989 - accuracy: 0.9400 - val_loss: 2.2865 - val_accuracy: 0.3800\n",
      "Epoch 45/100\n",
      "15/15 [==============================] - 0s 9ms/step - loss: 0.1611 - accuracy: 0.9467 - val_loss: 2.3981 - val_accuracy: 0.3400\n",
      "Epoch 46/100\n",
      "15/15 [==============================] - 0s 8ms/step - loss: 0.1448 - accuracy: 0.9600 - val_loss: 2.2719 - val_accuracy: 0.3800\n",
      "Epoch 47/100\n",
      "15/15 [==============================] - 0s 10ms/step - loss: 0.1077 - accuracy: 0.9867 - val_loss: 2.3467 - val_accuracy: 0.3600\n",
      "Epoch 48/100\n",
      "15/15 [==============================] - 0s 9ms/step - loss: 0.1526 - accuracy: 0.9733 - val_loss: 2.4796 - val_accuracy: 0.3400\n",
      "Epoch 49/100\n",
      "15/15 [==============================] - 0s 9ms/step - loss: 0.1176 - accuracy: 0.9733 - val_loss: 2.4261 - val_accuracy: 0.4000\n",
      "Epoch 50/100\n",
      "15/15 [==============================] - 0s 9ms/step - loss: 0.1592 - accuracy: 0.9533 - val_loss: 2.5164 - val_accuracy: 0.3400\n",
      "Epoch 51/100\n",
      "15/15 [==============================] - 0s 9ms/step - loss: 0.1344 - accuracy: 0.9667 - val_loss: 2.5385 - val_accuracy: 0.3200\n",
      "Epoch 52/100\n",
      "15/15 [==============================] - 0s 9ms/step - loss: 0.1007 - accuracy: 0.9800 - val_loss: 2.5412 - val_accuracy: 0.3400\n",
      "Epoch 53/100\n",
      "15/15 [==============================] - 0s 9ms/step - loss: 0.1185 - accuracy: 0.9733 - val_loss: 2.5433 - val_accuracy: 0.3600\n",
      "Epoch 54/100\n",
      "15/15 [==============================] - 0s 8ms/step - loss: 0.1032 - accuracy: 0.9733 - val_loss: 2.7079 - val_accuracy: 0.3600\n",
      "Epoch 55/100\n",
      "15/15 [==============================] - 0s 9ms/step - loss: 0.0974 - accuracy: 0.9667 - val_loss: 2.7120 - val_accuracy: 0.3800\n",
      "Epoch 56/100\n",
      "15/15 [==============================] - 0s 8ms/step - loss: 0.0800 - accuracy: 0.9800 - val_loss: 2.6595 - val_accuracy: 0.3400\n",
      "Epoch 57/100\n",
      "15/15 [==============================] - 0s 8ms/step - loss: 0.1389 - accuracy: 0.9667 - val_loss: 2.7102 - val_accuracy: 0.3600\n",
      "Epoch 58/100\n",
      "15/15 [==============================] - 0s 8ms/step - loss: 0.1087 - accuracy: 0.9733 - val_loss: 2.9444 - val_accuracy: 0.3800\n",
      "Epoch 59/100\n",
      "15/15 [==============================] - 0s 8ms/step - loss: 0.1037 - accuracy: 0.9733 - val_loss: 2.9166 - val_accuracy: 0.3800\n",
      "Epoch 60/100\n",
      "15/15 [==============================] - 0s 8ms/step - loss: 0.0825 - accuracy: 0.9800 - val_loss: 2.9326 - val_accuracy: 0.3600\n",
      "Epoch 61/100\n",
      "15/15 [==============================] - 0s 8ms/step - loss: 0.0738 - accuracy: 0.9800 - val_loss: 2.8581 - val_accuracy: 0.3800\n",
      "Epoch 62/100\n",
      "15/15 [==============================] - 0s 7ms/step - loss: 0.0679 - accuracy: 0.9867 - val_loss: 2.9450 - val_accuracy: 0.3600\n",
      "Epoch 63/100\n",
      "15/15 [==============================] - 0s 7ms/step - loss: 0.0852 - accuracy: 0.9800 - val_loss: 2.9081 - val_accuracy: 0.3400\n",
      "Epoch 64/100\n",
      "15/15 [==============================] - 0s 7ms/step - loss: 0.0554 - accuracy: 0.9933 - val_loss: 2.8632 - val_accuracy: 0.3400\n",
      "Epoch 65/100\n",
      "15/15 [==============================] - 0s 8ms/step - loss: 0.0738 - accuracy: 0.9933 - val_loss: 2.9802 - val_accuracy: 0.3400\n",
      "Epoch 66/100\n",
      "15/15 [==============================] - 0s 8ms/step - loss: 0.0724 - accuracy: 0.9867 - val_loss: 3.0054 - val_accuracy: 0.3400\n",
      "Epoch 67/100\n",
      "15/15 [==============================] - 0s 8ms/step - loss: 0.0649 - accuracy: 0.9933 - val_loss: 3.1165 - val_accuracy: 0.3400\n",
      "Epoch 68/100\n",
      "15/15 [==============================] - 0s 8ms/step - loss: 0.0929 - accuracy: 0.9733 - val_loss: 2.9245 - val_accuracy: 0.3800\n",
      "Epoch 69/100\n",
      "15/15 [==============================] - 0s 8ms/step - loss: 0.0630 - accuracy: 0.9867 - val_loss: 2.9860 - val_accuracy: 0.3600\n",
      "Epoch 70/100\n",
      "15/15 [==============================] - 0s 8ms/step - loss: 0.0665 - accuracy: 0.9867 - val_loss: 2.9695 - val_accuracy: 0.3400\n",
      "Epoch 71/100\n",
      "15/15 [==============================] - 0s 8ms/step - loss: 0.0504 - accuracy: 0.9933 - val_loss: 3.0301 - val_accuracy: 0.3400\n",
      "Epoch 72/100\n",
      "15/15 [==============================] - 0s 8ms/step - loss: 0.0740 - accuracy: 0.9867 - val_loss: 3.0996 - val_accuracy: 0.3400\n",
      "Epoch 73/100\n",
      "15/15 [==============================] - 0s 7ms/step - loss: 0.0545 - accuracy: 0.9800 - val_loss: 3.1727 - val_accuracy: 0.3400\n",
      "Epoch 74/100\n",
      "15/15 [==============================] - 0s 8ms/step - loss: 0.0535 - accuracy: 0.9867 - val_loss: 3.2382 - val_accuracy: 0.3400\n",
      "Epoch 75/100\n",
      "15/15 [==============================] - 0s 8ms/step - loss: 0.0434 - accuracy: 0.9867 - val_loss: 3.2673 - val_accuracy: 0.3600\n",
      "Epoch 76/100\n",
      "15/15 [==============================] - 0s 8ms/step - loss: 0.0414 - accuracy: 0.9933 - val_loss: 3.3029 - val_accuracy: 0.3600\n",
      "Epoch 77/100\n",
      "15/15 [==============================] - 0s 8ms/step - loss: 0.0368 - accuracy: 1.0000 - val_loss: 3.2805 - val_accuracy: 0.3600\n",
      "Epoch 78/100\n",
      "15/15 [==============================] - 0s 8ms/step - loss: 0.0407 - accuracy: 1.0000 - val_loss: 3.3461 - val_accuracy: 0.3600\n",
      "Epoch 79/100\n",
      "15/15 [==============================] - 0s 9ms/step - loss: 0.0362 - accuracy: 0.9867 - val_loss: 3.3683 - val_accuracy: 0.3600\n",
      "Epoch 80/100\n",
      "15/15 [==============================] - 0s 9ms/step - loss: 0.0453 - accuracy: 0.9933 - val_loss: 3.3399 - val_accuracy: 0.3400\n",
      "Epoch 81/100\n",
      "15/15 [==============================] - 0s 8ms/step - loss: 0.0447 - accuracy: 0.9933 - val_loss: 3.3319 - val_accuracy: 0.3600\n",
      "Epoch 82/100\n",
      "15/15 [==============================] - 0s 9ms/step - loss: 0.0493 - accuracy: 0.9867 - val_loss: 3.3435 - val_accuracy: 0.3400\n",
      "Epoch 83/100\n",
      "15/15 [==============================] - 0s 9ms/step - loss: 0.0394 - accuracy: 0.9867 - val_loss: 3.3489 - val_accuracy: 0.3600\n",
      "Epoch 84/100\n",
      "15/15 [==============================] - 0s 9ms/step - loss: 0.0321 - accuracy: 1.0000 - val_loss: 3.3492 - val_accuracy: 0.3600\n",
      "Epoch 85/100\n",
      "15/15 [==============================] - 0s 8ms/step - loss: 0.0363 - accuracy: 1.0000 - val_loss: 3.4132 - val_accuracy: 0.3600\n",
      "Epoch 86/100\n",
      "15/15 [==============================] - 0s 9ms/step - loss: 0.0283 - accuracy: 1.0000 - val_loss: 3.5101 - val_accuracy: 0.3200\n",
      "Epoch 87/100\n",
      "15/15 [==============================] - 0s 8ms/step - loss: 0.0217 - accuracy: 1.0000 - val_loss: 3.6690 - val_accuracy: 0.3400\n",
      "Epoch 88/100\n",
      "15/15 [==============================] - 0s 8ms/step - loss: 0.0168 - accuracy: 1.0000 - val_loss: 3.6464 - val_accuracy: 0.3400\n",
      "Epoch 89/100\n",
      "15/15 [==============================] - 0s 8ms/step - loss: 0.0341 - accuracy: 0.9933 - val_loss: 3.5185 - val_accuracy: 0.3400\n",
      "Epoch 90/100\n",
      "15/15 [==============================] - 0s 8ms/step - loss: 0.0242 - accuracy: 1.0000 - val_loss: 3.5559 - val_accuracy: 0.3400\n",
      "Epoch 91/100\n",
      "15/15 [==============================] - 0s 8ms/step - loss: 0.0224 - accuracy: 0.9933 - val_loss: 3.5928 - val_accuracy: 0.3800\n",
      "Epoch 92/100\n",
      "15/15 [==============================] - 0s 7ms/step - loss: 0.0405 - accuracy: 0.9933 - val_loss: 3.5522 - val_accuracy: 0.3800\n",
      "Epoch 93/100\n",
      "15/15 [==============================] - 0s 8ms/step - loss: 0.0196 - accuracy: 1.0000 - val_loss: 3.5304 - val_accuracy: 0.3800\n",
      "Epoch 94/100\n",
      "15/15 [==============================] - 0s 9ms/step - loss: 0.0164 - accuracy: 1.0000 - val_loss: 3.6397 - val_accuracy: 0.3600\n",
      "Epoch 95/100\n",
      "15/15 [==============================] - 0s 8ms/step - loss: 0.0192 - accuracy: 1.0000 - val_loss: 3.6671 - val_accuracy: 0.3400\n",
      "Epoch 96/100\n",
      "15/15 [==============================] - 0s 8ms/step - loss: 0.0320 - accuracy: 0.9933 - val_loss: 3.5519 - val_accuracy: 0.3600\n",
      "Epoch 97/100\n",
      "15/15 [==============================] - 0s 8ms/step - loss: 0.0432 - accuracy: 0.9867 - val_loss: 3.4890 - val_accuracy: 0.3600\n",
      "Epoch 98/100\n",
      "15/15 [==============================] - 0s 8ms/step - loss: 0.0223 - accuracy: 1.0000 - val_loss: 3.6176 - val_accuracy: 0.3800\n",
      "Epoch 99/100\n",
      "15/15 [==============================] - 0s 9ms/step - loss: 0.0143 - accuracy: 1.0000 - val_loss: 3.7451 - val_accuracy: 0.3600\n",
      "Epoch 100/100\n",
      "15/15 [==============================] - 0s 9ms/step - loss: 0.0372 - accuracy: 0.9933 - val_loss: 3.7397 - val_accuracy: 0.3600\n",
      "\n",
      "Model training completed.\n",
      "\n",
      "\n",
      "Model saving completed.\n",
      "\n"
     ]
    },
    {
     "name": "stderr",
     "output_type": "stream",
     "text": [
      "2021-01-21 08:37:07.596165: I tensorflow/core/platform/profile_utils/cpu_utils.cc:104] CPU Frequency: 2199995000 Hz\n",
      "2021-01-21 08:37:07.596606: I tensorflow/compiler/xla/service/service.cc:168] XLA service 0x555a816520c0 initialized for platform Host (this does not guarantee that XLA will be used). Devices:\n",
      "2021-01-21 08:37:07.596647: I tensorflow/compiler/xla/service/service.cc:176]   StreamExecutor device (0): Host, Default Version\n",
      "2021-01-21 08:37:07.597427: I tensorflow/core/common_runtime/process_util.cc:146] Creating new thread pool with default inter op setting: 2. Tune using inter_op_parallelism_threads for best performance.\n",
      "Using TensorFlow backend.\n",
      "WARNING:tensorflow:From /opt/conda/lib/python3.7/site-packages/tensorflow/python/training/tracking/tracking.py:111: Model.state_updates (from tensorflow.python.keras.engine.training) is deprecated and will be removed in a future version.\n",
      "Instructions for updating:\n",
      "This property should not be used in TensorFlow 2.0, as updates are applied automatically.\n",
      "WARNING:tensorflow:From /opt/conda/lib/python3.7/site-packages/tensorflow/python/training/tracking/tracking.py:111: Model.state_updates (from tensorflow.python.keras.engine.training) is deprecated and will be removed in a future version.\n",
      "Instructions for updating:\n",
      "This property should not be used in TensorFlow 2.0, as updates are applied automatically.\n",
      "2021-01-21 08:37:30.143458: W tensorflow/python/util/util.cc:348] Sets are not currently considered sequences, but this may change in the future, so consider avoiding using them.\n",
      "WARNING:tensorflow:From /opt/conda/lib/python3.7/site-packages/tensorflow/python/training/tracking/tracking.py:111: Layer.updates (from tensorflow.python.keras.engine.base_layer) is deprecated and will be removed in a future version.\n",
      "Instructions for updating:\n",
      "This property should not be used in TensorFlow 2.0, as updates are applied automatically.\n",
      "WARNING:tensorflow:From /opt/conda/lib/python3.7/site-packages/tensorflow/python/training/tracking/tracking.py:111: Layer.updates (from tensorflow.python.keras.engine.base_layer) is deprecated and will be removed in a future version.\n",
      "Instructions for updating:\n",
      "This property should not be used in TensorFlow 2.0, as updates are applied automatically.\n"
     ]
    }
   ],
   "source": [
    "%%bash\n",
    "\n",
    "gcloud ai-platform local train \\\n",
    "    --job-dir '/home/jupyter/' \\\n",
    "    --module-name trainer.task \\\n",
    "    --package-path train/trainer/ \\\n",
    "    -- \\\n",
    "    --data-file='gs://gccd_heartfelt/heartfelt_dataset.csv' \\"
   ]
  },
  {
   "cell_type": "code",
   "execution_count": 35,
   "metadata": {
    "id": "I_4lzjGLgPEe"
   },
   "outputs": [],
   "source": [
    "# The next cell is only for use on Colab"
   ]
  },
  {
   "cell_type": "code",
   "execution_count": 36,
   "metadata": {
    "colab": {
     "base_uri": "https://localhost:8080/"
    },
    "id": "PqipHolPqVbK",
    "outputId": "4aba0de8-835e-43d8-fb8e-0055d3307036"
   },
   "outputs": [],
   "source": [
    "# %%bash\n",
    "\n",
    "# cd train\n",
    "\n",
    "# python -m trainer.task \\\n",
    "#  --data-file='/content/heartfelt_dataset.csv' \\\n",
    "#  --job-dir='/content'"
   ]
  },
  {
   "cell_type": "markdown",
   "metadata": {
    "id": "sR7aDJnOzJ_2"
   },
   "source": [
    "Now that we're sure it works, we can use AI Platform Jobs to perform the training."
   ]
  },
  {
   "cell_type": "code",
   "execution_count": 37,
   "metadata": {
    "id": "9SyeMUUXEbfx"
   },
   "outputs": [],
   "source": [
    "# The next cell is only for use on GCP\n",
    "# Increment the job number every time you run to avoid conflicts"
   ]
  },
  {
   "cell_type": "code",
   "execution_count": 38,
   "metadata": {
    "id": "XK0FBWKXEaCp"
   },
   "outputs": [
    {
     "name": "stdout",
     "output_type": "stream",
     "text": [
      "jobId: heartfelt_training_job_07\n",
      "state: QUEUED\n"
     ]
    },
    {
     "name": "stderr",
     "output_type": "stream",
     "text": [
      "Job [heartfelt_training_job_07] submitted successfully.\n",
      "Your job is still active. You may view the status of your job with the command\n",
      "\n",
      "  $ gcloud ai-platform jobs describe heartfelt_training_job_07\n",
      "\n",
      "or continue streaming the logs with the command\n",
      "\n",
      "  $ gcloud ai-platform jobs stream-logs heartfelt_training_job_07\n"
     ]
    }
   ],
   "source": [
    "%%bash\n",
    "\n",
    "JOB_NAME=heartfelt_training_job_07\n",
    "\n",
    "gcloud ai-platform jobs submit training $JOB_NAME \\\n",
    "    --job-dir gs://gccd_heartfelt/$JOB_NAME \\\n",
    "    --runtime-version 2.3 \\\n",
    "    --python-version 3.7 \\\n",
    "    --module-name trainer.task \\\n",
    "    --package-path train/trainer \\\n",
    "    --region us-central1 \\\n",
    "    -- \\\n",
    "    --data-file='gs://gccd_heartfelt/heartfelt_dataset.csv' \\"
   ]
  },
  {
   "cell_type": "markdown",
   "metadata": {
    "id": "r7QXQzzdCz67"
   },
   "source": [
    "## Predicting With AI Platform"
   ]
  },
  {
   "cell_type": "markdown",
   "metadata": {
    "id": "sGDzLSKSz4Av"
   },
   "source": [
    "Now that our model has been trained and saved in a GCS bucket, we can make it accessible to the public (here, our company's website comment system). We will deploy the model to the AI Platform Prediction service."
   ]
  },
  {
   "cell_type": "code",
   "execution_count": 39,
   "metadata": {
    "id": "2Rc5ijRKSKrb"
   },
   "outputs": [],
   "source": [
    "# The next cell is only for use on GCP"
   ]
  },
  {
   "cell_type": "code",
   "execution_count": 40,
   "metadata": {
    "id": "ds1ikKmkUkCk"
   },
   "outputs": [
    {
     "name": "stderr",
     "output_type": "stream",
     "text": [
      "Using endpoint [https://ml.googleapis.com/]\n",
      "Created ml engine model [projects/durable-will-291417/models/heartfelt_comment_system].\n",
      "Using endpoint [https://ml.googleapis.com/]\n",
      "Creating version (this might take a few minutes)......\n",
      "...............................................................................................................................................................................................................................................................................................................................done.\n"
     ]
    }
   ],
   "source": [
    "%%bash\n",
    "\n",
    "MODEL_NAME=heartfelt_comment_system\n",
    "REGION=us-central1\n",
    "\n",
    "gcloud ai-platform models create $MODEL_NAME --regions=$REGION\n",
    "    \n",
    "MODEL_PATH=gs://gccd_heartfelt/heartfelt_training_job_06/savedmodel/\n",
    "    \n",
    "gcloud ai-platform versions create v1 \\\n",
    "    --model $MODEL_NAME \\\n",
    "    --origin $MODEL_PATH \\\n",
    "    --runtime-version 2.3 \\\n",
    "    --python-version 3.7"
   ]
  },
  {
   "cell_type": "code",
   "execution_count": 41,
   "metadata": {
    "id": "Nu45DN5iUkgt"
   },
   "outputs": [],
   "source": [
    "# The next cell is only for use on GCP"
   ]
  },
  {
   "cell_type": "code",
   "execution_count": 42,
   "metadata": {
    "id": "-mFh7zfDVAYZ"
   },
   "outputs": [
    {
     "name": "stdout",
     "output_type": "stream",
     "text": [
      "What a beautiful day! : 😃\n",
      "Disgusting! : 😠\n",
      "Mommy, I'm scared. : 😨\n"
     ]
    }
   ],
   "source": [
    "import googleapiclient.discovery\n",
    "\n",
    "PROJECT='durable-will-291417'\n",
    "MODEL_NAME='heartfelt_comment_system'\n",
    "VERSION_NAME='v1'\n",
    "service = googleapiclient.discovery.build('ml', 'v1', cache_discovery=False)\n",
    "\n",
    "name = 'projects/{}/models/{}/versions/{}'.format(PROJECT, MODEL_NAME, VERSION_NAME)\n",
    "\n",
    "list_of_inputs = [\"What a beautiful day!\", \"Disgusting!\", \"Mommy, I'm scared.\"]\n",
    "\n",
    "response = service.projects().predict(name=name,body={'instances': embed(list_of_inputs).numpy().tolist()}).execute()\n",
    "\n",
    "if 'error' in response:\n",
    "    raise RuntimeError(response['error'])\n",
    "else:\n",
    "    results = response['predictions']\n",
    "    for i, result in enumerate(results):\n",
    "        prediction = tf.argmax(result['activation'])\n",
    "        print (\"{} : {}\".format(list_of_inputs[i], label_to_emoji(prediction.numpy())))"
   ]
  },
  {
   "cell_type": "markdown",
   "metadata": {
    "id": "koHgDzKW4rBi"
   },
   "source": [
    "*For brownie points, modify the Comments class above to use the AI Platform model to predict instead of the locally trained model.*"
   ]
  },
  {
   "cell_type": "markdown",
   "metadata": {
    "id": "tJPDdAHSIxub"
   },
   "source": [
    "# Conclusion"
   ]
  },
  {
   "cell_type": "markdown",
   "metadata": {
    "id": "qg140FtKI2kW"
   },
   "source": [
    "I hope you found this session useful. As homework, here are some things you can do:\n",
    "\n",
    "1. Download this notebook and play around with the model. When does the model work well? When does it start failing? How does it handle ambiguous sentences?\n",
    "\n",
    "2. Create your own dataset (200-300 sentence-label pairs in total) and train the model on that. What kind of performance are you getting? Does using a more diverse range of words in your dataset help? Is the model able to accurately predict even when presented with a word outside your dataset? How long can the sentences be before things stop working? Alternatively, you can use someone else's dataset (check Kaggle).\n",
    "\n",
    "3. If you're familiar with these concepts, try improving the model's architecture. Check how adding/removing layers makes an impact on accuracy."
   ]
  },
  {
   "cell_type": "markdown",
   "metadata": {
    "id": "YU9S-3dn-STh"
   },
   "source": [
    "# Further Reading and Useful Links\n",
    "\n",
    "1. https://cloud.google.com/certification/machine-learning-engineer\n",
    "\n",
    "2. https://www.coursera.org/specializations/deep-learning\n",
    "\n",
    "3. https://www.coursera.org/professional-certificates/tensorflow-in-practice\n",
    "\n",
    "4. https://www.coursera.org/specializations/machine-learning-tensorflow-gcp\n",
    "\n",
    "5. https://www.coursera.org/specializations/advanced-machine-learning-tensorflow-gcp"
   ]
  },
  {
   "cell_type": "markdown",
   "metadata": {
    "id": "WMbDD3_xEi-L"
   },
   "source": [
    "# References\n",
    "\n",
    "1. This project was inspired by Coursera and DeepLearning.AI's [Deep Learning Specialization](https://www.coursera.org/specializations/deep-learning), where the project Emojify was done as a part of [Course 5 - Sequence Models](https://www.coursera.org/learn/nlp-sequence-models). While the idea is nearly identical, the implementation is notably different.\n",
    "\n",
    "2. I referred to *Getting started: Training and Prediction with TensorFlow Estimator* while building the GCP portions of this notebook. You can click [here](https://cloud.google.com/ai-platform/docs/getting-started-tensorflow-estimator?_ga=2.221022616.-1282698704.1600625468) to learn more.\n",
    "\n",
    "3. The trained word-embedding layer was pulled from TensorFlow Hub: *nnlm-en-dim128-with-normalization*. You can click [here](https://tfhub.dev/google/nnlm-en-dim128-with-normalization/2) to see more."
   ]
  },
  {
   "cell_type": "markdown",
   "metadata": {
    "id": "WxUyGxx4xNZT"
   },
   "source": [
    "# License\n",
    "\n",
    "\n",
    "Copyright 2021, Viren Luke Radhakrishnan.\n",
    "\n",
    "Licensed under the Apache License, Version 2.0 (the \"License\"); you may not use this file except in compliance with the License. You may obtain a copy of the License at http://www.apache.org/licenses/LICENSE-2.0 Unless required by applicable law or agreed to in writing, software distributed under the License is distributed on an \"AS IS\" BASIS, WITHOUT WARRANTIES OR CONDITIONS OF ANY KIND, either express or implied. See the License for the specific language governing permissions and limitations under the License."
   ]
  }
 ],
 "metadata": {
  "colab": {
   "collapsed_sections": [
    "Wap1-mBS-KuM",
    "FP5NZP40-0-t",
    "-m9b733F7GBn",
    "TMq88Q31CUg3",
    "r7QXQzzdCz67"
   ],
   "name": "Heartfelt (Colab).ipynb",
   "provenance": [],
   "toc_visible": true
  },
  "environment": {
   "name": "tf2-2-3-gpu.2-3.m59",
   "type": "gcloud",
   "uri": "gcr.io/deeplearning-platform-release/tf2-2-3-gpu.2-3:m59"
  },
  "kernelspec": {
   "display_name": "Python 3",
   "language": "python",
   "name": "python3"
  },
  "language_info": {
   "codemirror_mode": {
    "name": "ipython",
    "version": 3
   },
   "file_extension": ".py",
   "mimetype": "text/x-python",
   "name": "python",
   "nbconvert_exporter": "python",
   "pygments_lexer": "ipython3",
   "version": "3.7.8"
  }
 },
 "nbformat": 4,
 "nbformat_minor": 4
}
