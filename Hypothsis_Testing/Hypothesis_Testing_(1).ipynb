{
  "nbformat": 4,
  "nbformat_minor": 0,
  "metadata": {
    "kernelspec": {
      "display_name": "Python 3",
      "language": "python",
      "name": "python3"
    },
    "language_info": {
      "codemirror_mode": {
        "name": "ipython",
        "version": 3
      },
      "file_extension": ".py",
      "mimetype": "text/x-python",
      "name": "python",
      "nbconvert_exporter": "python",
      "pygments_lexer": "ipython3",
      "version": "3.7.4"
    },
    "colab": {
      "name": "Hypothesis Testing (1).ipynb",
      "provenance": []
    }
  },
  "cells": [
    {
      "cell_type": "markdown",
      "metadata": {
        "id": "iPF7PBvhPYo6"
      },
      "source": [
        "- $H_0 - Null Hypothesis(CLAIM)$\n",
        "- $H_A - Alternate Hypothesis(Contradiction)$"
      ]
    },
    {
      "cell_type": "markdown",
      "metadata": {
        "id": "ge52Ql7BPYpA"
      },
      "source": [
        "Q. A school principal claims that the students from her school have an averagescore of 7/10 in a English Proficiency test.\n",
        "You doubt that claim and take a random sample of 40 students and you find a mean score of 5.5/10, with a sample standard deviation of 1.  ***Can you reject the principal’s claim?***\n"
      ]
    },
    {
      "cell_type": "markdown",
      "metadata": {
        "id": "Pxd0j4iwPYpB"
      },
      "source": [
        "- $H_0: \\mu = 0.7$\n",
        "- $H_A: \\mu < 0.7$"
      ]
    },
    {
      "cell_type": "code",
      "metadata": {
        "id": "-SCfDAbYPYpH"
      },
      "source": [
        "import numpy as np\n",
        "import pandas as pd"
      ],
      "execution_count": null,
      "outputs": []
    },
    {
      "cell_type": "code",
      "metadata": {
        "id": "dCS0JT42PYpI"
      },
      "source": [
        "std = 1"
      ],
      "execution_count": null,
      "outputs": []
    },
    {
      "cell_type": "code",
      "metadata": {
        "id": "iFLv4iquPYpI"
      },
      "source": [
        "mean_pop = 0.7\n",
        "mean_sample = 0.55\n",
        "n = 40"
      ],
      "execution_count": null,
      "outputs": []
    },
    {
      "cell_type": "markdown",
      "metadata": {
        "id": "WTfG2dIcPYpI"
      },
      "source": [
        "As the number of samples greater than 30, we are using Z test"
      ]
    },
    {
      "cell_type": "markdown",
      "metadata": {
        "id": "L18Zpy8tPYpJ"
      },
      "source": [
        "P(X @ 0.55)"
      ]
    },
    {
      "cell_type": "code",
      "metadata": {
        "id": "HE7qvtF6PYpJ",
        "outputId": "923e029f-e32e-495a-e5ac-1d0c2c8b706e"
      },
      "source": [
        "SE = std/np.sqrt(n)\n",
        "SE"
      ],
      "execution_count": null,
      "outputs": [
        {
          "output_type": "execute_result",
          "data": {
            "text/plain": [
              "0.15811388300841897"
            ]
          },
          "metadata": {
            "tags": []
          },
          "execution_count": 4
        }
      ]
    },
    {
      "cell_type": "code",
      "metadata": {
        "id": "RNLc2dOqPYpM",
        "outputId": "14bd5da8-873a-4a23-e157-493da35bb2b2"
      },
      "source": [
        "Z = (mean_sample-mean_pop)/SE\n",
        "Z"
      ],
      "execution_count": null,
      "outputs": [
        {
          "output_type": "execute_result",
          "data": {
            "text/plain": [
              "-0.9486832980505132"
            ]
          },
          "metadata": {
            "tags": []
          },
          "execution_count": 5
        }
      ]
    },
    {
      "cell_type": "code",
      "metadata": {
        "id": "1p0Zn-CrPYpM"
      },
      "source": [
        "from scipy.stats import norm"
      ],
      "execution_count": null,
      "outputs": []
    },
    {
      "cell_type": "code",
      "metadata": {
        "id": "io72u9V3PYpN",
        "outputId": "87626614-6fec-4cde-bae4-0c66b318457a"
      },
      "source": [
        "pvalue = norm.cdf(Z)\n",
        "pvalue"
      ],
      "execution_count": null,
      "outputs": [
        {
          "output_type": "execute_result",
          "data": {
            "text/plain": [
              "0.17139085557395584"
            ]
          },
          "metadata": {
            "tags": []
          },
          "execution_count": 8
        }
      ]
    },
    {
      "cell_type": "code",
      "metadata": {
        "id": "5KYIdLtYPYpN",
        "outputId": "584b2cd8-d7ba-4855-affa-8f0f284d7c19"
      },
      "source": [
        "pvalue*100"
      ],
      "execution_count": null,
      "outputs": [
        {
          "output_type": "execute_result",
          "data": {
            "text/plain": [
              "17.139085557395582"
            ]
          },
          "metadata": {
            "tags": []
          },
          "execution_count": 9
        }
      ]
    },
    {
      "cell_type": "markdown",
      "metadata": {
        "id": "_rVyhvrqPYpN"
      },
      "source": [
        "- Significance Region and Critical Region"
      ]
    },
    {
      "cell_type": "markdown",
      "metadata": {
        "id": "BzkqVpXkPYpO"
      },
      "source": [
        "- 95% Confidence Interval is the significance region\n",
        "- 5% Confidence Interval is the critical region\n",
        "\n",
        "- If the pvalue is falling in the critical region then reject the null hypothesis and accept the alternate hypothesis.\n",
        "- If the pvalue is falling in the significance region then accept the null hypothesis and reject the alternate hypothesis"
      ]
    },
    {
      "cell_type": "code",
      "metadata": {
        "id": "Qns4oGlUPYpO",
        "outputId": "9504781c-665e-4237-ede2-e0829ff715f2"
      },
      "source": [
        "n = 400\n",
        "SE1 = 1/np.sqrt(400)\n",
        "SE1"
      ],
      "execution_count": null,
      "outputs": [
        {
          "output_type": "execute_result",
          "data": {
            "text/plain": [
              "0.05"
            ]
          },
          "metadata": {
            "tags": []
          },
          "execution_count": 11
        }
      ]
    },
    {
      "cell_type": "code",
      "metadata": {
        "id": "UQFDIU8_PYpO",
        "outputId": "24e01a02-4135-4712-f93a-bfdd0e1b731c"
      },
      "source": [
        "Z1 = (0.55 - 0.7)/SE1\n",
        "Z1"
      ],
      "execution_count": null,
      "outputs": [
        {
          "output_type": "execute_result",
          "data": {
            "text/plain": [
              "-2.9999999999999982"
            ]
          },
          "metadata": {
            "tags": []
          },
          "execution_count": 12
        }
      ]
    },
    {
      "cell_type": "code",
      "metadata": {
        "id": "pShkYbdGPYpO"
      },
      "source": [
        "pvalue1 = norm.cdf(Z1)"
      ],
      "execution_count": null,
      "outputs": []
    },
    {
      "cell_type": "code",
      "metadata": {
        "id": "s3jaeTdSPYpP",
        "outputId": "68585199-8bb7-46a9-9c48-9476f47f8333"
      },
      "source": [
        "pvalue1*100"
      ],
      "execution_count": null,
      "outputs": [
        {
          "output_type": "execute_result",
          "data": {
            "text/plain": [
              "0.13498980316301012"
            ]
          },
          "metadata": {
            "tags": []
          },
          "execution_count": 15
        }
      ]
    },
    {
      "cell_type": "markdown",
      "metadata": {
        "id": "bmWgSB-wPYpP"
      },
      "source": [
        "The pvalue when taking 400 samples is less than 5% so, it is falling in the critical region\n",
        "- So we can reject the pricipals claim as the pvalue is falling in the critical region.\n",
        "- Reject the null hypothesis"
      ]
    },
    {
      "cell_type": "markdown",
      "metadata": {
        "id": "_AcEz79BPYpP"
      },
      "source": [
        "Q. A new miracle drug claims that it cures common cold and it has had a success rate of 90%. You conduct a random sample test with 100 patients and you find that 80 of them are cured. \n",
        "***At 5% significant level, do you reject or accept the claim by the drug company?***\n"
      ]
    },
    {
      "cell_type": "markdown",
      "metadata": {
        "id": "f2Zs8M1OPYpP"
      },
      "source": [
        "- $H_0:p = 0.9$\n",
        "- $H_A:p < 0.9$"
      ]
    },
    {
      "cell_type": "markdown",
      "metadata": {
        "id": "6K5IrPV3PYpQ"
      },
      "source": [
        "- As the values are in the format of success and failure we will use Binomial Distribution to approximate this to normal distribution"
      ]
    },
    {
      "cell_type": "code",
      "metadata": {
        "id": "46JxCUE5PYpQ"
      },
      "source": [
        "p = 0.9\n",
        "q = 0.1\n",
        "n = 100"
      ],
      "execution_count": null,
      "outputs": []
    },
    {
      "cell_type": "markdown",
      "metadata": {
        "id": "TNYTOO3vPYpQ"
      },
      "source": [
        "$N(\\mu,\\sigma^2)$ ~ $N(np,npq)$"
      ]
    },
    {
      "cell_type": "code",
      "metadata": {
        "id": "NB9uklxJPYpQ",
        "outputId": "1e979693-2c2e-42de-b1bd-fdfc2f42d52a"
      },
      "source": [
        "mean = n*p\n",
        "variance = n*p*q\n",
        "mean,variance"
      ],
      "execution_count": null,
      "outputs": [
        {
          "output_type": "execute_result",
          "data": {
            "text/plain": [
              "(90.0, 9.0)"
            ]
          },
          "metadata": {
            "tags": []
          },
          "execution_count": 18
        }
      ]
    },
    {
      "cell_type": "code",
      "metadata": {
        "id": "0HixCoZtPYpR",
        "outputId": "b93d729d-b690-4430-bace-f18325770847"
      },
      "source": [
        "stdev = np.sqrt(variance)\n",
        "stdev"
      ],
      "execution_count": null,
      "outputs": [
        {
          "output_type": "execute_result",
          "data": {
            "text/plain": [
              "3.0"
            ]
          },
          "metadata": {
            "tags": []
          },
          "execution_count": 19
        }
      ]
    },
    {
      "cell_type": "markdown",
      "metadata": {
        "id": "5X10x2ECPYpS"
      },
      "source": [
        "P(X <= 80) = ?\n",
        "\n",
        "Acc. to continuity correction\n",
        "\n",
        "P(X < 80.5) = ?"
      ]
    },
    {
      "cell_type": "code",
      "metadata": {
        "id": "zgrGEzs0PYpS"
      },
      "source": [
        "mean_smp = 80.5"
      ],
      "execution_count": null,
      "outputs": []
    },
    {
      "cell_type": "code",
      "metadata": {
        "id": "TPobMllOPYpS",
        "outputId": "9ce0fe75-a0e6-46a6-ed2e-c5745aca863e"
      },
      "source": [
        "Z2 = (mean_smp - mean)/stdev\n",
        "Z2"
      ],
      "execution_count": null,
      "outputs": [
        {
          "output_type": "execute_result",
          "data": {
            "text/plain": [
              "-3.1666666666666665"
            ]
          },
          "metadata": {
            "tags": []
          },
          "execution_count": 23
        }
      ]
    },
    {
      "cell_type": "code",
      "metadata": {
        "id": "9Qjpxr9yPYpT",
        "outputId": "79600db7-cfb8-406d-e276-57a7ceb01042"
      },
      "source": [
        "pvalue2 = norm.cdf(Z2)*100\n",
        "pvalue2"
      ],
      "execution_count": null,
      "outputs": [
        {
          "output_type": "execute_result",
          "data": {
            "text/plain": [
              "0.07709847844699758"
            ]
          },
          "metadata": {
            "tags": []
          },
          "execution_count": 26
        }
      ]
    },
    {
      "cell_type": "markdown",
      "metadata": {
        "id": "NuXvR05ZPYpT"
      },
      "source": [
        "The pvalue2 is falling in the critical region, so we are rejecting the null hypothesis.\n",
        "\n",
        "- $H_0$ is rejected"
      ]
    },
    {
      "cell_type": "code",
      "metadata": {
        "id": "3PihAw3TPYpT"
      },
      "source": [
        ""
      ],
      "execution_count": null,
      "outputs": []
    }
  ]
}