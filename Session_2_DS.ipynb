{
  "nbformat": 4,
  "nbformat_minor": 0,
  "metadata": {
    "kernelspec": {
      "display_name": "Python 3",
      "language": "python",
      "name": "python3"
    },
    "language_info": {
      "codemirror_mode": {
        "name": "ipython",
        "version": 3
      },
      "file_extension": ".py",
      "mimetype": "text/x-python",
      "name": "python",
      "nbconvert_exporter": "python",
      "pygments_lexer": "ipython3",
      "version": "3.7.1"
    },
    "colab": {
      "name": "Session_2 DS.ipynb",
      "provenance": []
    }
  },
  "cells": [
    {
      "cell_type": "markdown",
      "metadata": {
        "id": "7o80jx6-cOnz"
      },
      "source": [
        "#### Arrays in python"
      ]
    },
    {
      "cell_type": "markdown",
      "metadata": {
        "id": "kI9fdbVDcOnx"
      },
      "source": [
        "### Data Structures in python\n",
        "Data structures stores a set of values."
      ]
    },
    {
      "cell_type": "code",
      "metadata": {
        "id": "10J_HhY9PSsm"
      },
      "source": [
        ""
      ],
      "execution_count": null,
      "outputs": []
    },
    {
      "cell_type": "markdown",
      "metadata": {
        "id": "knXrFAWJcOn0"
      },
      "source": [
        "Array consists of set of elements of the same type. Array is mutable that means we can change the elements inside the array or add or remove elements. Each item stored in an array is called an element and each location of an element in an array has a numerical index, which is used to identify the element. Index in array start from 0. In order to create array we use python array module. Arrays are generally defined in []."
      ]
    },
    {
      "cell_type": "code",
      "metadata": {
        "id": "9nGBux4WcOn2",
        "colab": {
          "base_uri": "https://localhost:8080/"
        },
        "outputId": "58c614f4-abbd-4f92-96b8-8a34a270aca5"
      },
      "source": [
        "import array\n",
        "from array import *\n",
        "\n",
        "#to create an array we use :\n",
        "#array_name = array('typecode','initialisation') for eg:\n",
        "arr_ = array('b',[10,20,30,40,50,60])\n",
        "# the type code specifies the type of the array that we have created, 'b' represents integer type of the array.\n",
        "(arr_)"
      ],
      "execution_count": null,
      "outputs": [
        {
          "output_type": "execute_result",
          "data": {
            "text/plain": [
              "array('b', [10, 20, 30, 40, 50, 60])"
            ]
          },
          "metadata": {
            "tags": []
          },
          "execution_count": 1
        }
      ]
    },
    {
      "cell_type": "code",
      "metadata": {
        "id": "p7fMkE5wMHVa",
        "colab": {
          "base_uri": "https://localhost:8080/",
          "height": 164
        },
        "outputId": "2589d9ef-1366-45d2-d783-f53e0f8ce56e"
      },
      "source": [
        "array()"
      ],
      "execution_count": null,
      "outputs": [
        {
          "output_type": "error",
          "ename": "TypeError",
          "evalue": "ignored",
          "traceback": [
            "\u001b[0;31m---------------------------------------------------------------------------\u001b[0m",
            "\u001b[0;31mTypeError\u001b[0m                                 Traceback (most recent call last)",
            "\u001b[0;32m<ipython-input-2-cad72594f131>\u001b[0m in \u001b[0;36m<module>\u001b[0;34m()\u001b[0m\n\u001b[0;32m----> 1\u001b[0;31m \u001b[0marray\u001b[0m\u001b[0;34m(\u001b[0m\u001b[0;34m)\u001b[0m\u001b[0;34m\u001b[0m\u001b[0;34m\u001b[0m\u001b[0m\n\u001b[0m",
            "\u001b[0;31mTypeError\u001b[0m: array() takes at least 1 argument (0 given)"
          ]
        }
      ]
    },
    {
      "cell_type": "code",
      "metadata": {
        "id": "yH8sZq3ydVSK",
        "colab": {
          "base_uri": "https://localhost:8080/"
        },
        "outputId": "31bbab23-1225-4862-a1e6-f69ce1296035"
      },
      "source": [
        "type(arr_)"
      ],
      "execution_count": null,
      "outputs": [
        {
          "output_type": "execute_result",
          "data": {
            "text/plain": [
              "array.array"
            ]
          },
          "metadata": {
            "tags": []
          },
          "execution_count": 3
        }
      ]
    },
    {
      "cell_type": "markdown",
      "metadata": {
        "id": "n5HnncbQcOn9"
      },
      "source": [
        "#### Operations on Array"
      ]
    },
    {
      "cell_type": "code",
      "metadata": {
        "colab": {
          "base_uri": "https://localhost:8080/"
        },
        "id": "pCxNYfdXV8Cb",
        "outputId": "25446a40-7ca3-425d-d58d-8872c321145b"
      },
      "source": [
        "arr_"
      ],
      "execution_count": null,
      "outputs": [
        {
          "output_type": "execute_result",
          "data": {
            "text/plain": [
              "array('b', [10, 20, 30, 40, 50, 60])"
            ]
          },
          "metadata": {
            "tags": []
          },
          "execution_count": 4
        }
      ]
    },
    {
      "cell_type": "code",
      "metadata": {
        "id": "KDSxnKiHcOn_",
        "colab": {
          "base_uri": "https://localhost:8080/"
        },
        "outputId": "af0724f7-d485-4eec-a95d-62519547498d"
      },
      "source": [
        "arr_[3] #to access an element of the array we use array name and square brackets and pass the index number of the element\n"
      ],
      "execution_count": null,
      "outputs": [
        {
          "output_type": "execute_result",
          "data": {
            "text/plain": [
              "40"
            ]
          },
          "metadata": {
            "tags": []
          },
          "execution_count": 5
        }
      ]
    },
    {
      "cell_type": "code",
      "metadata": {
        "id": "pVhyNB_UcOoE",
        "colab": {
          "base_uri": "https://localhost:8080/",
          "height": 34
        },
        "outputId": "627e2ad4-df33-4375-c6aa-8af7686a4599"
      },
      "source": [
        "arr_.insert(2,100) #to insert an element in array we pass the index and the element that we have to insert.\n",
        "arr_"
      ],
      "execution_count": null,
      "outputs": [
        {
          "output_type": "execute_result",
          "data": {
            "text/plain": [
              "array('b', [10, 20, 100, 30, 40, 50, 60])"
            ]
          },
          "metadata": {
            "tags": []
          },
          "execution_count": 4
        }
      ]
    },
    {
      "cell_type": "code",
      "metadata": {
        "id": "kahdyYKVcOoJ",
        "colab": {
          "base_uri": "https://localhost:8080/",
          "height": 34
        },
        "outputId": "80af0e82-45cb-45ca-a290-d4ba7a06d3a2"
      },
      "source": [
        "arr_.index(50) #In order to search for an element inside an array we use index method and pass the element that you want to search"
      ],
      "execution_count": null,
      "outputs": [
        {
          "output_type": "execute_result",
          "data": {
            "text/plain": [
              "5"
            ]
          },
          "metadata": {
            "tags": []
          },
          "execution_count": 5
        }
      ]
    },
    {
      "cell_type": "code",
      "metadata": {
        "id": "3afTjcM8A251"
      },
      "source": [
        "arr_[5]=110"
      ],
      "execution_count": null,
      "outputs": []
    },
    {
      "cell_type": "code",
      "metadata": {
        "id": "p6QqdCAgjBp9",
        "colab": {
          "base_uri": "https://localhost:8080/",
          "height": 34
        },
        "outputId": "b965a4f7-0c05-46e4-da94-03fed7ffc9fa"
      },
      "source": [
        "arr_"
      ],
      "execution_count": null,
      "outputs": [
        {
          "output_type": "execute_result",
          "data": {
            "text/plain": [
              "array('b', [10, 20, 100, 30, 40, 110, 60])"
            ]
          },
          "metadata": {
            "tags": []
          },
          "execution_count": 7
        }
      ]
    },
    {
      "cell_type": "code",
      "metadata": {
        "id": "E_7RXHhFcOoP",
        "colab": {
          "base_uri": "https://localhost:8080/",
          "height": 35
        },
        "outputId": "5f01f717-4485-4766-97fa-d80a74d9de01"
      },
      "source": [
        "arr_[5]=120 #In order to update any existing element we pass the index the element that has to updated and the new value\n",
        "arr_"
      ],
      "execution_count": null,
      "outputs": [
        {
          "output_type": "execute_result",
          "data": {
            "text/plain": [
              "array('b', [10, 20, 100, 30, 40, 120, 60])"
            ]
          },
          "metadata": {
            "tags": []
          },
          "execution_count": 10
        }
      ]
    },
    {
      "cell_type": "code",
      "metadata": {
        "id": "3_-BC9LAcOoU",
        "colab": {
          "base_uri": "https://localhost:8080/",
          "height": 35
        },
        "outputId": "276045d9-b1b7-4ab1-b9f4-f907362eadb6"
      },
      "source": [
        "arr_.append(125) # append() inserts the element towards the last of the array\n",
        "arr_"
      ],
      "execution_count": null,
      "outputs": [
        {
          "output_type": "execute_result",
          "data": {
            "text/plain": [
              "array('b', [10, 20, 100, 30, 40, 110, 60, 125])"
            ]
          },
          "metadata": {
            "tags": []
          },
          "execution_count": 13
        }
      ]
    },
    {
      "cell_type": "code",
      "metadata": {
        "id": "HgXG89IDcOoZ",
        "colab": {
          "base_uri": "https://localhost:8080/",
          "height": 35
        },
        "outputId": "bc7568fc-76a4-43fe-f0a1-a019e143b859"
      },
      "source": [
        "arr_.count(40) #return the count i.e, number of times the element has appeared"
      ],
      "execution_count": null,
      "outputs": [
        {
          "output_type": "execute_result",
          "data": {
            "text/plain": [
              "1"
            ]
          },
          "metadata": {
            "tags": []
          },
          "execution_count": 15
        }
      ]
    },
    {
      "cell_type": "code",
      "metadata": {
        "id": "QquDS5CxcOod",
        "colab": {
          "base_uri": "https://localhost:8080/",
          "height": 68
        },
        "outputId": "8996a1e1-f9d1-4c3c-9e11-c625d9f1e8f5"
      },
      "source": [
        "#Concatenation and extending array\n",
        "#CONCATENATION\n",
        "#lets create one more array\n",
        "Arr_ = array('b',[70,80,90])\n",
        "concat_ = arr_ + Arr_\n",
        "print (arr_)\n",
        "print (Arr_)\n",
        "concat_ #it includes elements of both the arrays and stores it in concat_, but didnt changed the actual arrays arr_ and Arr_\n"
      ],
      "execution_count": null,
      "outputs": [
        {
          "output_type": "stream",
          "text": [
            "array('b', [10, 20, 100, 30, 40, 110, 60])\n",
            "array('b', [70, 80, 90])\n"
          ],
          "name": "stdout"
        },
        {
          "output_type": "execute_result",
          "data": {
            "text/plain": [
              "array('b', [10, 20, 100, 30, 40, 110, 60, 70, 80, 90])"
            ]
          },
          "metadata": {
            "tags": []
          },
          "execution_count": 8
        }
      ]
    },
    {
      "cell_type": "code",
      "metadata": {
        "id": "JN2xWl7rcOoj",
        "colab": {
          "base_uri": "https://localhost:8080/",
          "height": 54
        },
        "outputId": "0c275dda-2748-4447-a1c4-b0e35f732e2b"
      },
      "source": [
        "#EXTEND:\n",
        "#with extend command it changes one of the arrays as,\n",
        "Arr_.extend(arr_)\n",
        "print (arr_)\n",
        "print (Arr_)"
      ],
      "execution_count": null,
      "outputs": [
        {
          "output_type": "stream",
          "text": [
            "array('b', [10, 20, 30, 40, 50, 60])\n",
            "array('b', [70, 80, 90, 10, 20, 30, 40, 50, 60])\n"
          ],
          "name": "stdout"
        }
      ]
    },
    {
      "cell_type": "code",
      "metadata": {
        "id": "sI4y89bqOgpt",
        "colab": {
          "base_uri": "https://localhost:8080/",
          "height": 35
        },
        "outputId": "78b8e7e0-2707-4913-a931-b3d69256c3b8"
      },
      "source": [
        "arr_"
      ],
      "execution_count": null,
      "outputs": [
        {
          "output_type": "execute_result",
          "data": {
            "text/plain": [
              "array('b', [10, 20, 30, 40, 50, 60])"
            ]
          },
          "metadata": {
            "tags": []
          },
          "execution_count": 5
        }
      ]
    },
    {
      "cell_type": "code",
      "metadata": {
        "id": "MO_fddWccOop",
        "colab": {
          "base_uri": "https://localhost:8080/",
          "height": 34
        },
        "outputId": "2f251af0-b0aa-46e8-b82f-6cb79276a785"
      },
      "source": [
        "#pop: removes the element whose index is passed as a parameter, if no index is passed it removes the last element\n",
        "arr_.pop(4)"
      ],
      "execution_count": null,
      "outputs": [
        {
          "output_type": "execute_result",
          "data": {
            "text/plain": [
              "40"
            ]
          },
          "metadata": {
            "tags": []
          },
          "execution_count": 11
        }
      ]
    },
    {
      "cell_type": "code",
      "metadata": {
        "id": "gSHv0zAHgOos",
        "colab": {
          "base_uri": "https://localhost:8080/",
          "height": 34
        },
        "outputId": "6c7858fc-9cba-4ebf-bb29-65dd0425bb99"
      },
      "source": [
        "arr_"
      ],
      "execution_count": null,
      "outputs": [
        {
          "output_type": "execute_result",
          "data": {
            "text/plain": [
              "array('b', [10, 20, 100, 30, 110])"
            ]
          },
          "metadata": {
            "tags": []
          },
          "execution_count": 12
        }
      ]
    },
    {
      "cell_type": "code",
      "metadata": {
        "id": "4_BckM5tcOot",
        "colab": {
          "base_uri": "https://localhost:8080/",
          "height": 35
        },
        "outputId": "88662b4d-b27e-46a1-a2f7-f73094999553"
      },
      "source": [
        "arr_.remove(50)#removes the element whose value is passed as a parameter\n",
        "arr_"
      ],
      "execution_count": null,
      "outputs": [
        {
          "output_type": "execute_result",
          "data": {
            "text/plain": [
              "array('b', [10, 20, 30])"
            ]
          },
          "metadata": {
            "tags": []
          },
          "execution_count": 10
        }
      ]
    },
    {
      "cell_type": "code",
      "metadata": {
        "id": "ItAiq7BiR5BX"
      },
      "source": [
        ""
      ],
      "execution_count": null,
      "outputs": []
    },
    {
      "cell_type": "code",
      "metadata": {
        "id": "bAivljb4cOoy"
      },
      "source": [
        "del(arr_)#to delete the array"
      ],
      "execution_count": null,
      "outputs": []
    },
    {
      "cell_type": "code",
      "metadata": {
        "id": "vi-DpfgXPfoC",
        "colab": {
          "base_uri": "https://localhost:8080/",
          "height": 171
        },
        "outputId": "f7f385cc-68c5-42cd-e652-d4906dcf44ca"
      },
      "source": [
        "arr_"
      ],
      "execution_count": null,
      "outputs": [
        {
          "output_type": "error",
          "ename": "NameError",
          "evalue": "ignored",
          "traceback": [
            "\u001b[0;31m---------------------------------------------------------------------------\u001b[0m",
            "\u001b[0;31mNameError\u001b[0m                                 Traceback (most recent call last)",
            "\u001b[0;32m<ipython-input-12-5c911150f12e>\u001b[0m in \u001b[0;36m<module>\u001b[0;34m()\u001b[0m\n\u001b[0;32m----> 1\u001b[0;31m \u001b[0marr_\u001b[0m\u001b[0;34m\u001b[0m\u001b[0;34m\u001b[0m\u001b[0m\n\u001b[0m",
            "\u001b[0;31mNameError\u001b[0m: name 'arr_' is not defined"
          ]
        }
      ]
    },
    {
      "cell_type": "markdown",
      "metadata": {
        "id": "WEH2ERq5cOo2"
      },
      "source": [
        "#### Lists:"
      ]
    },
    {
      "cell_type": "markdown",
      "metadata": {
        "id": "hn9TiKQIcOo3"
      },
      "source": [
        "Lists consists of set of elements of the multiple type. Lists is mutable that means we can change the elements inside the lists or add or remove elements. Each item stored in list is called an element and each location of an element in list has a numerical index, which is used to identify the element. Index in list start from 0. List are generaly defined in []."
      ]
    },
    {
      "cell_type": "code",
      "metadata": {
        "id": "ER-bFglAcOo5",
        "colab": {
          "base_uri": "https://localhost:8080/",
          "height": 34
        },
        "outputId": "3aec5f20-1d32-4a66-b69b-14333c101e0e"
      },
      "source": [
        "lis_1 = ['abc','xyz','pqr',1,2,3,4,5]\n",
        "lis_2= [30,12,70,50]\n",
        "type(lis_1)"
      ],
      "execution_count": null,
      "outputs": [
        {
          "output_type": "execute_result",
          "data": {
            "text/plain": [
              "list"
            ]
          },
          "metadata": {
            "tags": []
          },
          "execution_count": 1
        }
      ]
    },
    {
      "cell_type": "markdown",
      "metadata": {
        "id": "8YI12EYgcOo9"
      },
      "source": [
        "#### Operation on lists"
      ]
    },
    {
      "cell_type": "code",
      "metadata": {
        "id": "486NotAgDftU",
        "colab": {
          "base_uri": "https://localhost:8080/",
          "height": 34
        },
        "outputId": "14ad785f-5ff5-485a-f6f8-91fecbe61791"
      },
      "source": [
        "lis_1.append(10) #append adds the element at the last of the list\n",
        "lis_1"
      ],
      "execution_count": null,
      "outputs": [
        {
          "output_type": "execute_result",
          "data": {
            "text/plain": [
              "['abc', 'xyz', 'pqr', 1, 2, 3, 4, 5, 10]"
            ]
          },
          "metadata": {
            "tags": []
          },
          "execution_count": 17
        }
      ]
    },
    {
      "cell_type": "markdown",
      "metadata": {
        "id": "mrvAl_rU6V71"
      },
      "source": [
        ""
      ]
    },
    {
      "cell_type": "code",
      "metadata": {
        "id": "baUPlfBSDsP6",
        "colab": {
          "base_uri": "https://localhost:8080/",
          "height": 34
        },
        "outputId": "cc2a0271-7fae-4483-fc83-29b7948ebc2a"
      },
      "source": [
        "lis_1.count(10) #returns the number of appearances of the given element"
      ],
      "execution_count": null,
      "outputs": [
        {
          "output_type": "execute_result",
          "data": {
            "text/plain": [
              "1"
            ]
          },
          "metadata": {
            "tags": []
          },
          "execution_count": 18
        }
      ]
    },
    {
      "cell_type": "code",
      "metadata": {
        "id": "oRVlCfF3DzWV"
      },
      "source": [
        "lis_1.extend(lis_2)"
      ],
      "execution_count": null,
      "outputs": []
    },
    {
      "cell_type": "code",
      "metadata": {
        "id": "1ljhJSP-D7nM",
        "colab": {
          "base_uri": "https://localhost:8080/",
          "height": 35
        },
        "outputId": "1cd3131e-335e-4ee5-d2f0-5f67ad219021"
      },
      "source": [
        "lis_1"
      ],
      "execution_count": null,
      "outputs": [
        {
          "output_type": "execute_result",
          "data": {
            "text/plain": [
              "['abc', 'xyz', 'pqr', 1, 2, 3, 4, 5, 10, 30, 12, 70, 50]"
            ]
          },
          "metadata": {
            "tags": []
          },
          "execution_count": 17
        }
      ]
    },
    {
      "cell_type": "code",
      "metadata": {
        "id": "xuImHjV7EA8r",
        "colab": {
          "base_uri": "https://localhost:8080/",
          "height": 34
        },
        "outputId": "e45237c8-b464-4f96-a492-15318eb5835f"
      },
      "source": [
        "lis_1.insert(5,[20,30])\n",
        "lis_1"
      ],
      "execution_count": null,
      "outputs": [
        {
          "output_type": "execute_result",
          "data": {
            "text/plain": [
              "['abc', 'xyz', 'pqr', 1, 2, [20, 30], 3, 4, 5, 10, 30, 12, 70, 50]"
            ]
          },
          "metadata": {
            "tags": []
          },
          "execution_count": 7
        }
      ]
    },
    {
      "cell_type": "code",
      "metadata": {
        "id": "kS6mY9VjIOPg",
        "colab": {
          "base_uri": "https://localhost:8080/",
          "height": 34
        },
        "outputId": "d8f1d534-5109-4e6c-e745-712dbbc0a5aa"
      },
      "source": [
        "lis_2"
      ],
      "execution_count": null,
      "outputs": [
        {
          "output_type": "execute_result",
          "data": {
            "text/plain": [
              "[30, 12, 70, 50]"
            ]
          },
          "metadata": {
            "tags": []
          },
          "execution_count": 19
        }
      ]
    },
    {
      "cell_type": "code",
      "metadata": {
        "id": "roq4LhyVEbKT",
        "colab": {
          "base_uri": "https://localhost:8080/",
          "height": 34
        },
        "outputId": "5ca0e38c-4650-4fab-b55a-e650dc1d6b6e"
      },
      "source": [
        "lis_2.pop()\n",
        "lis_2"
      ],
      "execution_count": null,
      "outputs": [
        {
          "output_type": "execute_result",
          "data": {
            "text/plain": [
              "[30, 12, 70]"
            ]
          },
          "metadata": {
            "tags": []
          },
          "execution_count": 20
        }
      ]
    },
    {
      "cell_type": "code",
      "metadata": {
        "id": "T8k6sCCzEqr5"
      },
      "source": [
        "lis_2.remove(30)"
      ],
      "execution_count": null,
      "outputs": []
    },
    {
      "cell_type": "code",
      "metadata": {
        "id": "yFlARg3NEz0x",
        "colab": {
          "base_uri": "https://localhost:8080/",
          "height": 34
        },
        "outputId": "f7d960c4-2795-42a3-acb1-6b8959df9af9"
      },
      "source": [
        "lis_2"
      ],
      "execution_count": null,
      "outputs": [
        {
          "output_type": "execute_result",
          "data": {
            "text/plain": [
              "[12, 70]"
            ]
          },
          "metadata": {
            "tags": []
          },
          "execution_count": 22
        }
      ]
    },
    {
      "cell_type": "code",
      "metadata": {
        "id": "zT8eB54Qgdxv"
      },
      "source": [
        "lis_2.clear()"
      ],
      "execution_count": null,
      "outputs": []
    },
    {
      "cell_type": "code",
      "metadata": {
        "id": "2K4tvVpugq6C",
        "colab": {
          "base_uri": "https://localhost:8080/",
          "height": 34
        },
        "outputId": "1fc999b8-0062-43c8-bbdf-1860cfe207d4"
      },
      "source": [
        "type(lis_2)"
      ],
      "execution_count": null,
      "outputs": [
        {
          "output_type": "execute_result",
          "data": {
            "text/plain": [
              "list"
            ]
          },
          "metadata": {
            "tags": []
          },
          "execution_count": 2
        }
      ]
    },
    {
      "cell_type": "code",
      "metadata": {
        "id": "GjPfdj2zFN9T"
      },
      "source": [
        "del lis_1"
      ],
      "execution_count": null,
      "outputs": []
    },
    {
      "cell_type": "markdown",
      "metadata": {
        "id": "JEyrlzPyhEKE"
      },
      "source": [
        ""
      ]
    },
    {
      "cell_type": "code",
      "metadata": {
        "id": "1NSz3mvEFQ13",
        "colab": {
          "base_uri": "https://localhost:8080/",
          "height": 163
        },
        "outputId": "7bb923f5-5e29-4529-8d35-55ae152bb11e"
      },
      "source": [
        "lis_1"
      ],
      "execution_count": null,
      "outputs": [
        {
          "output_type": "error",
          "ename": "NameError",
          "evalue": "ignored",
          "traceback": [
            "\u001b[0;31m---------------------------------------------------------------------------\u001b[0m",
            "\u001b[0;31mNameError\u001b[0m                                 Traceback (most recent call last)",
            "\u001b[0;32m<ipython-input-26-d9459cfac064>\u001b[0m in \u001b[0;36m<module>\u001b[0;34m()\u001b[0m\n\u001b[0;32m----> 1\u001b[0;31m \u001b[0mlis_1\u001b[0m\u001b[0;34m\u001b[0m\u001b[0;34m\u001b[0m\u001b[0m\n\u001b[0m",
            "\u001b[0;31mNameError\u001b[0m: name 'lis_1' is not defined"
          ]
        }
      ]
    },
    {
      "cell_type": "markdown",
      "metadata": {
        "id": "bz8ns3dmcOo-"
      },
      "source": [
        "Lists has the same operations as an array"
      ]
    },
    {
      "cell_type": "code",
      "metadata": {
        "id": "aw5qsi5kcOpA",
        "colab": {
          "base_uri": "https://localhost:8080/",
          "height": 54
        },
        "outputId": "72cf1276-ae0c-49cd-a611-bf125b0b97ee"
      },
      "source": [
        "lis_1.append(10) #append adds the element at the last of the list\n",
        "lis_1.count(2) #returns the number of appearances of the given element\n",
        "lis_1.extend(lis_2) #adds elements of the second list in the first list\n",
        "lis_1.insert(5,50) #inserts the element 50 at index 5\n",
        "lis_1.pop(2) #pops out the element at index 2\n",
        "lis_1.remove(3) #remove element = 3\n",
        "lis_2.sort(reverse = True) #sort the list in an increasing order\n",
        "print(lis_2)\n",
        "print (len(lis_2)) #len() function returns the length of the list that is passed"
      ],
      "execution_count": null,
      "outputs": [
        {
          "output_type": "stream",
          "text": [
            "[70, 50, 30, 12]\n",
            "4\n"
          ],
          "name": "stdout"
        }
      ]
    },
    {
      "cell_type": "code",
      "metadata": {
        "id": "ZkUXulzFQ-k5",
        "colab": {
          "base_uri": "https://localhost:8080/",
          "height": 35
        },
        "outputId": "150f03ce-63fb-4232-cba1-a31489f9cef3"
      },
      "source": [
        "len(lis_2)"
      ],
      "execution_count": null,
      "outputs": [
        {
          "output_type": "execute_result",
          "data": {
            "text/plain": [
              "0"
            ]
          },
          "metadata": {
            "tags": []
          },
          "execution_count": 23
        }
      ]
    },
    {
      "cell_type": "code",
      "metadata": {
        "id": "RiU_sDOZRRvs",
        "colab": {
          "base_uri": "https://localhost:8080/",
          "height": 35
        },
        "outputId": "fd2db575-ed92-42d6-fba4-884ccd242942"
      },
      "source": [
        "print(lis_3)"
      ],
      "execution_count": null,
      "outputs": [
        {
          "output_type": "stream",
          "text": [
            "None\n"
          ],
          "name": "stdout"
        }
      ]
    },
    {
      "cell_type": "code",
      "metadata": {
        "id": "mjaGuKQvcOpF"
      },
      "source": [
        "lis_1.clear() #clears all the elements of the list\n",
        "del(lis_1) #deletes the whole list (no instance in the memory left)"
      ],
      "execution_count": null,
      "outputs": []
    },
    {
      "cell_type": "markdown",
      "metadata": {
        "id": "ps_EwYFbcOpJ"
      },
      "source": [
        "#### Tuples"
      ]
    },
    {
      "cell_type": "markdown",
      "metadata": {
        "id": "rSFB1cfvcOpK"
      },
      "source": [
        "In tuples alse we can store elements of any datatype. Only difference is that we cannot manipulate the tuple or in \n",
        "other words tuples are immutable. Tuples are generally defined in ()."
      ]
    },
    {
      "cell_type": "code",
      "metadata": {
        "id": "4Gi9Kt3mTB8V",
        "colab": {
          "base_uri": "https://localhost:8080/",
          "height": 34
        },
        "outputId": "4223a988-d012-4960-dee6-ca404a3c5b09"
      },
      "source": [
        "list_1 = [1,2,3,4,'abc','pqr']\n",
        "type(list_1)"
      ],
      "execution_count": null,
      "outputs": [
        {
          "output_type": "execute_result",
          "data": {
            "text/plain": [
              "list"
            ]
          },
          "metadata": {
            "tags": []
          },
          "execution_count": 27
        }
      ]
    },
    {
      "cell_type": "code",
      "metadata": {
        "id": "8L-WLurT0-a5",
        "colab": {
          "base_uri": "https://localhost:8080/",
          "height": 34
        },
        "outputId": "66d1a66c-56ee-4b22-fca5-9a6228c4c6aa"
      },
      "source": [
        "tuple1=tuple(list_1)\n",
        "type(tuple1)"
      ],
      "execution_count": null,
      "outputs": [
        {
          "output_type": "execute_result",
          "data": {
            "text/plain": [
              "tuple"
            ]
          },
          "metadata": {
            "tags": []
          },
          "execution_count": 28
        }
      ]
    },
    {
      "cell_type": "code",
      "metadata": {
        "id": "B84z41IWcOpM",
        "colab": {
          "base_uri": "https://localhost:8080/",
          "height": 68
        },
        "outputId": "89eff458-77d1-4116-dfae-3a0a74b967b4"
      },
      "source": [
        "tup_1 = (1,2,3,4,'abc','pqr')\n",
        "tup_2 = (60,70,80)\n",
        "#we can concatenate two tuples as it wont affect the actual tuples\n",
        "concat_ = tup_1 + tup_2\n",
        "print (tup_1)\n",
        "print (tup_2)\n",
        "print (concat_)"
      ],
      "execution_count": null,
      "outputs": [
        {
          "output_type": "stream",
          "text": [
            "(1, 2, 3, 4, 'abc', 'pqr')\n",
            "(60, 70, 80)\n",
            "(1, 2, 3, 4, 'abc', 'pqr', 60, 70, 80)\n"
          ],
          "name": "stdout"
        }
      ]
    },
    {
      "cell_type": "code",
      "metadata": {
        "id": "qDyErl7pEs-I",
        "colab": {
          "base_uri": "https://localhost:8080/",
          "height": 163
        },
        "outputId": "012454e2-57b7-4531-eaa4-f8df0ee67d92"
      },
      "source": [
        "concat_.pop()"
      ],
      "execution_count": null,
      "outputs": [
        {
          "output_type": "error",
          "ename": "AttributeError",
          "evalue": "ignored",
          "traceback": [
            "\u001b[0;31m---------------------------------------------------------------------------\u001b[0m",
            "\u001b[0;31mAttributeError\u001b[0m                            Traceback (most recent call last)",
            "\u001b[0;32m<ipython-input-30-3e63113d4d3c>\u001b[0m in \u001b[0;36m<module>\u001b[0;34m()\u001b[0m\n\u001b[0;32m----> 1\u001b[0;31m \u001b[0mconcat_\u001b[0m\u001b[0;34m.\u001b[0m\u001b[0mpop\u001b[0m\u001b[0;34m(\u001b[0m\u001b[0;34m)\u001b[0m\u001b[0;34m\u001b[0m\u001b[0;34m\u001b[0m\u001b[0m\n\u001b[0m",
            "\u001b[0;31mAttributeError\u001b[0m: 'tuple' object has no attribute 'pop'"
          ]
        }
      ]
    },
    {
      "cell_type": "markdown",
      "metadata": {
        "id": "tzUq9ePxcOpQ"
      },
      "source": [
        "#### Dictionary:"
      ]
    },
    {
      "cell_type": "markdown",
      "metadata": {
        "id": "wJKZAc1-cOpS"
      },
      "source": [
        "Dictionary store values in key and value format. In order to access values in dictionary we use key's instead of indices."
      ]
    },
    {
      "cell_type": "markdown",
      "metadata": {
        "id": "OCjYjAl3cOpV"
      },
      "source": [
        "#### Operation on dictionary:"
      ]
    },
    {
      "cell_type": "code",
      "metadata": {
        "id": "PkyXkchRcOpW",
        "colab": {
          "base_uri": "https://localhost:8080/",
          "height": 34
        },
        "outputId": "7d4cef3c-635a-479c-96b2-2d752491aca5"
      },
      "source": [
        "dict_ = {'john':12345,'michael':67890,'Abrahm':45678,'David':89234,'Smith':23789}\n",
        "print (dict_['john']) #accessing a value in dictionary we need to call by key"
      ],
      "execution_count": null,
      "outputs": [
        {
          "output_type": "stream",
          "text": [
            "12345\n"
          ],
          "name": "stdout"
        }
      ]
    },
    {
      "cell_type": "markdown",
      "metadata": {
        "id": "Tm35nlIw2psZ"
      },
      "source": [
        ""
      ]
    },
    {
      "cell_type": "code",
      "metadata": {
        "id": "Fo-1Y-C9p9ij",
        "colab": {
          "base_uri": "https://localhost:8080/",
          "height": 102
        },
        "outputId": "9f66f3c5-fd2b-417e-aa03-8da465f059ad"
      },
      "source": [
        "dict_"
      ],
      "execution_count": null,
      "outputs": [
        {
          "output_type": "execute_result",
          "data": {
            "text/plain": [
              "{'Abrahm': 45678,\n",
              " 'David': 89234,\n",
              " 'Smith': 23789,\n",
              " 'john': 12345,\n",
              " 'michael': 67890}"
            ]
          },
          "metadata": {
            "tags": []
          },
          "execution_count": 33
        }
      ]
    },
    {
      "cell_type": "code",
      "metadata": {
        "id": "O1HTWqL7cOpg",
        "colab": {
          "base_uri": "https://localhost:8080/",
          "height": 102
        },
        "outputId": "6e728c49-afe8-4d07-f692-8b8635e94fd6"
      },
      "source": [
        "dict_['Abrahm'] = 12345678 #to change value in dictionary, we directly give new value to that perticular key\n",
        "dict_"
      ],
      "execution_count": null,
      "outputs": [
        {
          "output_type": "execute_result",
          "data": {
            "text/plain": [
              "{'Abrahm': 12345678,\n",
              " 'David': 89234,\n",
              " 'Smith': 23789,\n",
              " 'john': 12345,\n",
              " 'michael': 67890}"
            ]
          },
          "metadata": {
            "tags": []
          },
          "execution_count": 34
        }
      ]
    },
    {
      "cell_type": "code",
      "metadata": {
        "id": "20z30Z5mcOpm",
        "colab": {
          "base_uri": "https://localhost:8080/",
          "height": 34
        },
        "outputId": "871b8ac1-cb76-46e7-e340-a3bf3c40a0af"
      },
      "source": [
        "dict_.keys() #to get all keys"
      ],
      "execution_count": null,
      "outputs": [
        {
          "output_type": "execute_result",
          "data": {
            "text/plain": [
              "dict_keys(['john', 'michael', 'Abrahm', 'David', 'Smith'])"
            ]
          },
          "metadata": {
            "tags": []
          },
          "execution_count": 30
        }
      ]
    },
    {
      "cell_type": "code",
      "metadata": {
        "id": "C-jJNRVmcOpq",
        "outputId": "20a20fcc-6ab1-45e6-e09c-ab23d9c5e5a4"
      },
      "source": [
        "dict_.values() #to get all values"
      ],
      "execution_count": null,
      "outputs": [
        {
          "output_type": "execute_result",
          "data": {
            "text/plain": [
              "dict_values(['12345', 67890, 12345678, 89234, 23789])"
            ]
          },
          "metadata": {
            "tags": []
          },
          "execution_count": 58
        }
      ]
    },
    {
      "cell_type": "code",
      "metadata": {
        "id": "2N0KRzvNcOpv",
        "colab": {
          "base_uri": "https://localhost:8080/",
          "height": 119
        },
        "outputId": "4cd83a9a-1654-488a-84ea-4c79fb6b8fba"
      },
      "source": [
        "dict_['Warner'] = '00000' #to add new value to dictionary we specify the new key and the new value\n",
        "dict_"
      ],
      "execution_count": null,
      "outputs": [
        {
          "output_type": "execute_result",
          "data": {
            "text/plain": [
              "{'Abrahm': 12345678,\n",
              " 'David': 89234,\n",
              " 'Smith': 23789,\n",
              " 'Warner': '00000',\n",
              " 'john': 12345,\n",
              " 'michael': 67890}"
            ]
          },
          "metadata": {
            "tags": []
          },
          "execution_count": 35
        }
      ]
    },
    {
      "cell_type": "code",
      "metadata": {
        "id": "lrXLHLLxcOp0",
        "colab": {
          "base_uri": "https://localhost:8080/",
          "height": 35
        },
        "outputId": "a9bcb312-96aa-4a05-faa7-ef9b2a7e1c7e"
      },
      "source": [
        "dict_.pop('Warner') #pops out the value of the key that has been passed"
      ],
      "execution_count": null,
      "outputs": [
        {
          "output_type": "execute_result",
          "data": {
            "application/vnd.google.colaboratory.intrinsic+json": {
              "type": "string"
            },
            "text/plain": [
              "'00000'"
            ]
          },
          "metadata": {
            "tags": []
          },
          "execution_count": 37
        }
      ]
    },
    {
      "cell_type": "code",
      "metadata": {
        "id": "5C4HWeywF_mv",
        "colab": {
          "base_uri": "https://localhost:8080/",
          "height": 102
        },
        "outputId": "cc4427d2-7d30-43be-fcd1-cb8059b590dd"
      },
      "source": [
        "dict_"
      ],
      "execution_count": null,
      "outputs": [
        {
          "output_type": "execute_result",
          "data": {
            "text/plain": [
              "{'Abrahm': 12345678,\n",
              " 'David': 89234,\n",
              " 'Smith': 23789,\n",
              " 'john': 12345,\n",
              " 'michael': 67890}"
            ]
          },
          "metadata": {
            "tags": []
          },
          "execution_count": 38
        }
      ]
    },
    {
      "cell_type": "code",
      "metadata": {
        "id": "K8B7BWGCcOp4",
        "colab": {
          "base_uri": "https://localhost:8080/",
          "height": 35
        },
        "outputId": "17fee936-c68b-4e86-e7bc-11655ea079e3"
      },
      "source": [
        "dict_.clear() # clears all the element of the dictionary but the instance of the dictionary still remains in the memory\n",
        "dict_"
      ],
      "execution_count": null,
      "outputs": [
        {
          "output_type": "execute_result",
          "data": {
            "text/plain": [
              "{}"
            ]
          },
          "metadata": {
            "tags": []
          },
          "execution_count": 34
        }
      ]
    },
    {
      "cell_type": "code",
      "metadata": {
        "id": "bKW4AuXrcOp8"
      },
      "source": [
        "del(dict_) #deletes the dictionary, i.e no values remain inside the dictionary"
      ],
      "execution_count": null,
      "outputs": []
    },
    {
      "cell_type": "markdown",
      "metadata": {
        "id": "WtyIIosRcOp_"
      },
      "source": [
        "#### Converting list to tuple and vice-versa"
      ]
    },
    {
      "cell_type": "code",
      "metadata": {
        "id": "2l9a-0V7cOqA",
        "colab": {
          "base_uri": "https://localhost:8080/",
          "height": 35
        },
        "outputId": "2632fcfe-7263-47b2-b388-9dc7d7aba48a"
      },
      "source": [
        "x = (1,2,3,4) #tuple\n",
        "# 'x' is a tuple ,in order to convert tuple to list we use\n",
        "y = list(x)\n",
        "type(y)\n",
        "#Now 'y' is a list, similarly we use tuple() to convert a list to tuple"
      ],
      "execution_count": null,
      "outputs": [
        {
          "output_type": "execute_result",
          "data": {
            "text/plain": [
              "list"
            ]
          },
          "metadata": {
            "tags": []
          },
          "execution_count": 37
        }
      ]
    },
    {
      "cell_type": "markdown",
      "metadata": {
        "id": "k4FncmLzcOqF"
      },
      "source": [
        "###### Practise Questions:"
      ]
    },
    {
      "cell_type": "code",
      "metadata": {
        "id": "gqDwCyoGcOqH"
      },
      "source": [
        "#perform the following operations on the given list.\n",
        "x = [1,2,3,4,5,6]\n",
        "# update the element at index 0 by 150\n",
        "# add an element 50 between 2 and 3\n",
        "# add an element 100 at the end\n",
        "# remove element 3 by passing index as parameter\n",
        "# copy the elements of z = [10,20] in x"
      ],
      "execution_count": null,
      "outputs": []
    },
    {
      "cell_type": "code",
      "metadata": {
        "id": "eEqC9XjMcOqK"
      },
      "source": [
        "# Perform the following operations on the dictionary:\n",
        "## create a dictionary containing 5 names and their ages\n",
        "## update the age of one of the person\n",
        "## insert one more name with age 30\n",
        "## clear all the elements of this dict"
      ],
      "execution_count": null,
      "outputs": []
    }
  ]
}